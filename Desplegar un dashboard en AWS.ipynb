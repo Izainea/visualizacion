{
 "cells": [
  {
   "cell_type": "markdown",
   "metadata": {
    "toc": true
   },
   "source": [
    "<h1>Desplegar un dashboard en aws<span class=\"tocSkip\"></span></h1>\n",
    "<div class=\"toc\"><ul class=\"toc-item\"></ul></div>"
   ]
  },
  {
   "cell_type": "code",
   "execution_count": 61,
   "metadata": {},
   "outputs": [],
   "source": [
    "import pandas as pd \n",
    "import plotly.express as px"
   ]
  },
  {
   "cell_type": "code",
   "execution_count": 6,
   "metadata": {},
   "outputs": [
    {
     "data": {
      "text/html": [
       "<div>\n",
       "<style scoped>\n",
       "    .dataframe tbody tr th:only-of-type {\n",
       "        vertical-align: middle;\n",
       "    }\n",
       "\n",
       "    .dataframe tbody tr th {\n",
       "        vertical-align: top;\n",
       "    }\n",
       "\n",
       "    .dataframe thead th {\n",
       "        text-align: right;\n",
       "    }\n",
       "</style>\n",
       "<table border=\"1\" class=\"dataframe\">\n",
       "  <thead>\n",
       "    <tr style=\"text-align: right;\">\n",
       "      <th></th>\n",
       "      <th>anno</th>\n",
       "      <th>trimestre</th>\n",
       "      <th>proveedor</th>\n",
       "      <th>cantidad_de_mensajes</th>\n",
       "      <th>ingresos_por_mensajes</th>\n",
       "    </tr>\n",
       "  </thead>\n",
       "  <tbody>\n",
       "    <tr>\n",
       "      <th>0</th>\n",
       "      <td>2020</td>\n",
       "      <td>1</td>\n",
       "      <td>COLOMBIA TELECOMUNICACIONES S.A. E.S.P.</td>\n",
       "      <td>47533184</td>\n",
       "      <td>702524267</td>\n",
       "    </tr>\n",
       "    <tr>\n",
       "      <th>1</th>\n",
       "      <td>2018</td>\n",
       "      <td>3</td>\n",
       "      <td>COLOMBIA MOVIL  S.A ESP</td>\n",
       "      <td>64054520</td>\n",
       "      <td>8141563794</td>\n",
       "    </tr>\n",
       "    <tr>\n",
       "      <th>2</th>\n",
       "      <td>2019</td>\n",
       "      <td>2</td>\n",
       "      <td>LOGISTICA FLASH COLOMBIA S.A.S</td>\n",
       "      <td>3713416</td>\n",
       "      <td>33859853</td>\n",
       "    </tr>\n",
       "    <tr>\n",
       "      <th>3</th>\n",
       "      <td>2018</td>\n",
       "      <td>2</td>\n",
       "      <td>COLOMBIA MOVIL  S.A ESP</td>\n",
       "      <td>60710406</td>\n",
       "      <td>8325746363</td>\n",
       "    </tr>\n",
       "    <tr>\n",
       "      <th>4</th>\n",
       "      <td>2018</td>\n",
       "      <td>2</td>\n",
       "      <td>COMUNICACION CELULAR S A COMCEL S A</td>\n",
       "      <td>327282613</td>\n",
       "      <td>31527731937</td>\n",
       "    </tr>\n",
       "    <tr>\n",
       "      <th>...</th>\n",
       "      <td>...</td>\n",
       "      <td>...</td>\n",
       "      <td>...</td>\n",
       "      <td>...</td>\n",
       "      <td>...</td>\n",
       "    </tr>\n",
       "    <tr>\n",
       "      <th>100</th>\n",
       "      <td>2017</td>\n",
       "      <td>4</td>\n",
       "      <td>COLOMBIA MOVIL  S.A ESP</td>\n",
       "      <td>51819944</td>\n",
       "      <td>9163661775</td>\n",
       "    </tr>\n",
       "    <tr>\n",
       "      <th>101</th>\n",
       "      <td>2017</td>\n",
       "      <td>2</td>\n",
       "      <td>UFF MOVIL SAS</td>\n",
       "      <td>164219</td>\n",
       "      <td>25336363</td>\n",
       "    </tr>\n",
       "    <tr>\n",
       "      <th>102</th>\n",
       "      <td>2017</td>\n",
       "      <td>3</td>\n",
       "      <td>UFF MOVIL SAS</td>\n",
       "      <td>157367</td>\n",
       "      <td>22622130</td>\n",
       "    </tr>\n",
       "    <tr>\n",
       "      <th>103</th>\n",
       "      <td>2017</td>\n",
       "      <td>4</td>\n",
       "      <td>UFF MOVIL SAS</td>\n",
       "      <td>139519</td>\n",
       "      <td>20347939</td>\n",
       "    </tr>\n",
       "    <tr>\n",
       "      <th>104</th>\n",
       "      <td>2018</td>\n",
       "      <td>1</td>\n",
       "      <td>EMPRESA DE TELECOMUNICACIONES DE BOGOTA S.A. ESP</td>\n",
       "      <td>2004238</td>\n",
       "      <td>96499820</td>\n",
       "    </tr>\n",
       "  </tbody>\n",
       "</table>\n",
       "<p>105 rows × 5 columns</p>\n",
       "</div>"
      ],
      "text/plain": [
       "     anno  trimestre                                         proveedor  \\\n",
       "0    2020          1           COLOMBIA TELECOMUNICACIONES S.A. E.S.P.   \n",
       "1    2018          3                           COLOMBIA MOVIL  S.A ESP   \n",
       "2    2019          2                    LOGISTICA FLASH COLOMBIA S.A.S   \n",
       "3    2018          2                           COLOMBIA MOVIL  S.A ESP   \n",
       "4    2018          2               COMUNICACION CELULAR S A COMCEL S A   \n",
       "..    ...        ...                                               ...   \n",
       "100  2017          4                           COLOMBIA MOVIL  S.A ESP   \n",
       "101  2017          2                                     UFF MOVIL SAS   \n",
       "102  2017          3                                     UFF MOVIL SAS   \n",
       "103  2017          4                                     UFF MOVIL SAS   \n",
       "104  2018          1  EMPRESA DE TELECOMUNICACIONES DE BOGOTA S.A. ESP   \n",
       "\n",
       "     cantidad_de_mensajes  ingresos_por_mensajes  \n",
       "0                47533184              702524267  \n",
       "1                64054520             8141563794  \n",
       "2                 3713416               33859853  \n",
       "3                60710406             8325746363  \n",
       "4               327282613            31527731937  \n",
       "..                    ...                    ...  \n",
       "100              51819944             9163661775  \n",
       "101                164219               25336363  \n",
       "102                157367               22622130  \n",
       "103                139519               20347939  \n",
       "104               2004238               96499820  \n",
       "\n",
       "[105 rows x 5 columns]"
      ]
     },
     "execution_count": 6,
     "metadata": {},
     "output_type": "execute_result"
    }
   ],
   "source": [
    "DF=pd.read_csv('https://www.datos.gov.co/resource/m5pi-7cau.csv',encoding='latin1')\n",
    "DF"
   ]
  },
  {
   "cell_type": "code",
   "execution_count": 7,
   "metadata": {},
   "outputs": [
    {
     "data": {
      "text/plain": [
       "Index(['anno', 'trimestre', 'proveedor', 'cantidad_de_mensajes',\n",
       "       'ingresos_por_mensajes'],\n",
       "      dtype='object')"
      ]
     },
     "execution_count": 7,
     "metadata": {},
     "output_type": "execute_result"
    }
   ],
   "source": [
    "DF.columns"
   ]
  },
  {
   "cell_type": "code",
   "execution_count": 125,
   "metadata": {},
   "outputs": [],
   "source": [
    "DF['date']=DF.apply(lambda x: pd.Period(freq='Q', year=x['anno'], quarter=x['trimestre']), axis=1)"
   ]
  },
  {
   "cell_type": "code",
   "execution_count": 126,
   "metadata": {},
   "outputs": [],
   "source": [
    "DF2=DF.pivot(index='proveedor',columns='date',values='cantidad_de_mensajes' )"
   ]
  },
  {
   "cell_type": "code",
   "execution_count": 127,
   "metadata": {},
   "outputs": [],
   "source": [
    "DF2=DF2.fillna(0)"
   ]
  },
  {
   "cell_type": "code",
   "execution_count": 128,
   "metadata": {},
   "outputs": [
    {
     "data": {
      "text/html": [
       "<div>\n",
       "<style scoped>\n",
       "    .dataframe tbody tr th:only-of-type {\n",
       "        vertical-align: middle;\n",
       "    }\n",
       "\n",
       "    .dataframe tbody tr th {\n",
       "        vertical-align: top;\n",
       "    }\n",
       "\n",
       "    .dataframe thead th {\n",
       "        text-align: right;\n",
       "    }\n",
       "</style>\n",
       "<table border=\"1\" class=\"dataframe\">\n",
       "  <thead>\n",
       "    <tr style=\"text-align: right;\">\n",
       "      <th>date</th>\n",
       "      <th>2017Q2</th>\n",
       "      <th>2017Q3</th>\n",
       "      <th>2017Q4</th>\n",
       "      <th>2018Q1</th>\n",
       "      <th>2018Q2</th>\n",
       "      <th>2018Q3</th>\n",
       "      <th>2018Q4</th>\n",
       "      <th>2019Q1</th>\n",
       "      <th>2019Q2</th>\n",
       "      <th>2019Q3</th>\n",
       "      <th>2019Q4</th>\n",
       "      <th>2020Q1</th>\n",
       "    </tr>\n",
       "    <tr>\n",
       "      <th>proveedor</th>\n",
       "      <th></th>\n",
       "      <th></th>\n",
       "      <th></th>\n",
       "      <th></th>\n",
       "      <th></th>\n",
       "      <th></th>\n",
       "      <th></th>\n",
       "      <th></th>\n",
       "      <th></th>\n",
       "      <th></th>\n",
       "      <th></th>\n",
       "      <th></th>\n",
       "    </tr>\n",
       "  </thead>\n",
       "  <tbody>\n",
       "    <tr>\n",
       "      <th>ALMACENES EXITO INVERSIONES S.A.S.</th>\n",
       "      <td>1200157.0</td>\n",
       "      <td>1320004.0</td>\n",
       "      <td>1304423.0</td>\n",
       "      <td>1541515.0</td>\n",
       "      <td>1304353.0</td>\n",
       "      <td>1351272.0</td>\n",
       "      <td>1756554.0</td>\n",
       "      <td>1698455.0</td>\n",
       "      <td>3914568.0</td>\n",
       "      <td>1541266.0</td>\n",
       "      <td>2291724.0</td>\n",
       "      <td>3813871.0</td>\n",
       "    </tr>\n",
       "    <tr>\n",
       "      <th>AVANTEL S.A.S</th>\n",
       "      <td>126220118.0</td>\n",
       "      <td>8384986.0</td>\n",
       "      <td>8312849.0</td>\n",
       "      <td>8709468.0</td>\n",
       "      <td>9248152.0</td>\n",
       "      <td>9429264.0</td>\n",
       "      <td>9154336.0</td>\n",
       "      <td>8515104.0</td>\n",
       "      <td>7633975.0</td>\n",
       "      <td>11944575.0</td>\n",
       "      <td>7349693.0</td>\n",
       "      <td>7275800.0</td>\n",
       "    </tr>\n",
       "    <tr>\n",
       "      <th>COLOMBIA MOVIL  S.A ESP</th>\n",
       "      <td>40562796.0</td>\n",
       "      <td>47360978.0</td>\n",
       "      <td>51819944.0</td>\n",
       "      <td>59527610.0</td>\n",
       "      <td>60710406.0</td>\n",
       "      <td>64054520.0</td>\n",
       "      <td>65590214.0</td>\n",
       "      <td>73006846.0</td>\n",
       "      <td>83878663.0</td>\n",
       "      <td>82294447.0</td>\n",
       "      <td>87701853.0</td>\n",
       "      <td>89954632.0</td>\n",
       "    </tr>\n",
       "    <tr>\n",
       "      <th>COLOMBIA TELECOMUNICACIONES S.A. E.S.P.</th>\n",
       "      <td>90891089.0</td>\n",
       "      <td>89917435.0</td>\n",
       "      <td>85681633.0</td>\n",
       "      <td>86889703.0</td>\n",
       "      <td>90268433.0</td>\n",
       "      <td>101549385.0</td>\n",
       "      <td>78465534.0</td>\n",
       "      <td>65452577.0</td>\n",
       "      <td>76732390.0</td>\n",
       "      <td>70285182.0</td>\n",
       "      <td>48247998.0</td>\n",
       "      <td>47533184.0</td>\n",
       "    </tr>\n",
       "    <tr>\n",
       "      <th>COMUNICACION CELULAR S A COMCEL S A</th>\n",
       "      <td>329111589.0</td>\n",
       "      <td>329180789.0</td>\n",
       "      <td>331493876.0</td>\n",
       "      <td>332624963.0</td>\n",
       "      <td>327282613.0</td>\n",
       "      <td>338658222.0</td>\n",
       "      <td>318042853.0</td>\n",
       "      <td>325032560.0</td>\n",
       "      <td>320145465.0</td>\n",
       "      <td>313034665.0</td>\n",
       "      <td>316070035.0</td>\n",
       "      <td>339877968.0</td>\n",
       "    </tr>\n",
       "    <tr>\n",
       "      <th>EMPRESA DE TELECOMUNICACIONES DE BOGOTA S.A. ESP</th>\n",
       "      <td>1579211.0</td>\n",
       "      <td>1539201.0</td>\n",
       "      <td>1900178.0</td>\n",
       "      <td>2004238.0</td>\n",
       "      <td>2005701.0</td>\n",
       "      <td>2049501.0</td>\n",
       "      <td>1864253.0</td>\n",
       "      <td>1681650.0</td>\n",
       "      <td>1492238.0</td>\n",
       "      <td>1357396.0</td>\n",
       "      <td>1549660.0</td>\n",
       "      <td>1504278.0</td>\n",
       "    </tr>\n",
       "    <tr>\n",
       "      <th>LOGISTICA FLASH COLOMBIA S.A.S</th>\n",
       "      <td>0.0</td>\n",
       "      <td>0.0</td>\n",
       "      <td>0.0</td>\n",
       "      <td>0.0</td>\n",
       "      <td>0.0</td>\n",
       "      <td>250248.0</td>\n",
       "      <td>3933880.0</td>\n",
       "      <td>3713829.0</td>\n",
       "      <td>3713416.0</td>\n",
       "      <td>2143945.0</td>\n",
       "      <td>1425396.0</td>\n",
       "      <td>1289364.0</td>\n",
       "    </tr>\n",
       "    <tr>\n",
       "      <th>SUMA MOVIL S.A.S.</th>\n",
       "      <td>0.0</td>\n",
       "      <td>0.0</td>\n",
       "      <td>0.0</td>\n",
       "      <td>98.0</td>\n",
       "      <td>1068.0</td>\n",
       "      <td>1238.0</td>\n",
       "      <td>1398.0</td>\n",
       "      <td>835.0</td>\n",
       "      <td>5620.0</td>\n",
       "      <td>3295.0</td>\n",
       "      <td>15857.0</td>\n",
       "      <td>12753.0</td>\n",
       "    </tr>\n",
       "    <tr>\n",
       "      <th>UFF MOVIL SAS</th>\n",
       "      <td>164219.0</td>\n",
       "      <td>157367.0</td>\n",
       "      <td>139519.0</td>\n",
       "      <td>122920.0</td>\n",
       "      <td>108035.0</td>\n",
       "      <td>0.0</td>\n",
       "      <td>0.0</td>\n",
       "      <td>0.0</td>\n",
       "      <td>0.0</td>\n",
       "      <td>0.0</td>\n",
       "      <td>0.0</td>\n",
       "      <td>0.0</td>\n",
       "    </tr>\n",
       "    <tr>\n",
       "      <th>VIRGIN MOBILE COLOMBIA S.A.S.</th>\n",
       "      <td>6923273.0</td>\n",
       "      <td>6370565.0</td>\n",
       "      <td>6161863.0</td>\n",
       "      <td>5773094.0</td>\n",
       "      <td>5237194.0</td>\n",
       "      <td>5011224.0</td>\n",
       "      <td>4639107.0</td>\n",
       "      <td>4281902.0</td>\n",
       "      <td>4012653.0</td>\n",
       "      <td>3806962.0</td>\n",
       "      <td>3592917.0</td>\n",
       "      <td>4035465.0</td>\n",
       "    </tr>\n",
       "  </tbody>\n",
       "</table>\n",
       "</div>"
      ],
      "text/plain": [
       "date                                                   2017Q2       2017Q3  \\\n",
       "proveedor                                                                    \n",
       "ALMACENES EXITO INVERSIONES S.A.S.                  1200157.0    1320004.0   \n",
       "AVANTEL S.A.S                                     126220118.0    8384986.0   \n",
       "COLOMBIA MOVIL  S.A ESP                            40562796.0   47360978.0   \n",
       "COLOMBIA TELECOMUNICACIONES S.A. E.S.P.            90891089.0   89917435.0   \n",
       "COMUNICACION CELULAR S A COMCEL S A               329111589.0  329180789.0   \n",
       "EMPRESA DE TELECOMUNICACIONES DE BOGOTA S.A. ESP    1579211.0    1539201.0   \n",
       "LOGISTICA FLASH COLOMBIA S.A.S                            0.0          0.0   \n",
       "SUMA MOVIL S.A.S.                                         0.0          0.0   \n",
       "UFF MOVIL SAS                                        164219.0     157367.0   \n",
       "VIRGIN MOBILE COLOMBIA S.A.S.                       6923273.0    6370565.0   \n",
       "\n",
       "date                                                   2017Q4       2018Q1  \\\n",
       "proveedor                                                                    \n",
       "ALMACENES EXITO INVERSIONES S.A.S.                  1304423.0    1541515.0   \n",
       "AVANTEL S.A.S                                       8312849.0    8709468.0   \n",
       "COLOMBIA MOVIL  S.A ESP                            51819944.0   59527610.0   \n",
       "COLOMBIA TELECOMUNICACIONES S.A. E.S.P.            85681633.0   86889703.0   \n",
       "COMUNICACION CELULAR S A COMCEL S A               331493876.0  332624963.0   \n",
       "EMPRESA DE TELECOMUNICACIONES DE BOGOTA S.A. ESP    1900178.0    2004238.0   \n",
       "LOGISTICA FLASH COLOMBIA S.A.S                            0.0          0.0   \n",
       "SUMA MOVIL S.A.S.                                         0.0         98.0   \n",
       "UFF MOVIL SAS                                        139519.0     122920.0   \n",
       "VIRGIN MOBILE COLOMBIA S.A.S.                       6161863.0    5773094.0   \n",
       "\n",
       "date                                                   2018Q2       2018Q3  \\\n",
       "proveedor                                                                    \n",
       "ALMACENES EXITO INVERSIONES S.A.S.                  1304353.0    1351272.0   \n",
       "AVANTEL S.A.S                                       9248152.0    9429264.0   \n",
       "COLOMBIA MOVIL  S.A ESP                            60710406.0   64054520.0   \n",
       "COLOMBIA TELECOMUNICACIONES S.A. E.S.P.            90268433.0  101549385.0   \n",
       "COMUNICACION CELULAR S A COMCEL S A               327282613.0  338658222.0   \n",
       "EMPRESA DE TELECOMUNICACIONES DE BOGOTA S.A. ESP    2005701.0    2049501.0   \n",
       "LOGISTICA FLASH COLOMBIA S.A.S                            0.0     250248.0   \n",
       "SUMA MOVIL S.A.S.                                      1068.0       1238.0   \n",
       "UFF MOVIL SAS                                        108035.0          0.0   \n",
       "VIRGIN MOBILE COLOMBIA S.A.S.                       5237194.0    5011224.0   \n",
       "\n",
       "date                                                   2018Q4       2019Q1  \\\n",
       "proveedor                                                                    \n",
       "ALMACENES EXITO INVERSIONES S.A.S.                  1756554.0    1698455.0   \n",
       "AVANTEL S.A.S                                       9154336.0    8515104.0   \n",
       "COLOMBIA MOVIL  S.A ESP                            65590214.0   73006846.0   \n",
       "COLOMBIA TELECOMUNICACIONES S.A. E.S.P.            78465534.0   65452577.0   \n",
       "COMUNICACION CELULAR S A COMCEL S A               318042853.0  325032560.0   \n",
       "EMPRESA DE TELECOMUNICACIONES DE BOGOTA S.A. ESP    1864253.0    1681650.0   \n",
       "LOGISTICA FLASH COLOMBIA S.A.S                      3933880.0    3713829.0   \n",
       "SUMA MOVIL S.A.S.                                      1398.0        835.0   \n",
       "UFF MOVIL SAS                                             0.0          0.0   \n",
       "VIRGIN MOBILE COLOMBIA S.A.S.                       4639107.0    4281902.0   \n",
       "\n",
       "date                                                   2019Q2       2019Q3  \\\n",
       "proveedor                                                                    \n",
       "ALMACENES EXITO INVERSIONES S.A.S.                  3914568.0    1541266.0   \n",
       "AVANTEL S.A.S                                       7633975.0   11944575.0   \n",
       "COLOMBIA MOVIL  S.A ESP                            83878663.0   82294447.0   \n",
       "COLOMBIA TELECOMUNICACIONES S.A. E.S.P.            76732390.0   70285182.0   \n",
       "COMUNICACION CELULAR S A COMCEL S A               320145465.0  313034665.0   \n",
       "EMPRESA DE TELECOMUNICACIONES DE BOGOTA S.A. ESP    1492238.0    1357396.0   \n",
       "LOGISTICA FLASH COLOMBIA S.A.S                      3713416.0    2143945.0   \n",
       "SUMA MOVIL S.A.S.                                      5620.0       3295.0   \n",
       "UFF MOVIL SAS                                             0.0          0.0   \n",
       "VIRGIN MOBILE COLOMBIA S.A.S.                       4012653.0    3806962.0   \n",
       "\n",
       "date                                                   2019Q4       2020Q1  \n",
       "proveedor                                                                   \n",
       "ALMACENES EXITO INVERSIONES S.A.S.                  2291724.0    3813871.0  \n",
       "AVANTEL S.A.S                                       7349693.0    7275800.0  \n",
       "COLOMBIA MOVIL  S.A ESP                            87701853.0   89954632.0  \n",
       "COLOMBIA TELECOMUNICACIONES S.A. E.S.P.            48247998.0   47533184.0  \n",
       "COMUNICACION CELULAR S A COMCEL S A               316070035.0  339877968.0  \n",
       "EMPRESA DE TELECOMUNICACIONES DE BOGOTA S.A. ESP    1549660.0    1504278.0  \n",
       "LOGISTICA FLASH COLOMBIA S.A.S                      1425396.0    1289364.0  \n",
       "SUMA MOVIL S.A.S.                                     15857.0      12753.0  \n",
       "UFF MOVIL SAS                                             0.0          0.0  \n",
       "VIRGIN MOBILE COLOMBIA S.A.S.                       3592917.0    4035465.0  "
      ]
     },
     "execution_count": 128,
     "metadata": {},
     "output_type": "execute_result"
    }
   ],
   "source": [
    "DF2"
   ]
  },
  {
   "cell_type": "code",
   "execution_count": 129,
   "metadata": {},
   "outputs": [],
   "source": [
    "DF2['total']=DF2.sum(axis=1)"
   ]
  },
  {
   "cell_type": "code",
   "execution_count": 130,
   "metadata": {},
   "outputs": [
    {
     "data": {
      "application/vnd.plotly.v1+json": {
       "config": {
        "plotlyServerURL": "https://plot.ly"
       },
       "data": [
        {
         "domain": {
          "x": [
           0,
           1
          ],
          "y": [
           0,
           1
          ]
         },
         "hoverinfo": "label",
         "hovertemplate": "proveedor=%{label}<br>total=%{value}<extra></extra>",
         "labels": [
          "ALMACENES EXITO INVERSIONES S.A.S.",
          "AVANTEL S.A.S",
          "COLOMBIA MOVIL  S.A ESP",
          "COLOMBIA TELECOMUNICACIONES S.A. E.S.P.",
          "COMUNICACION CELULAR S A COMCEL S A",
          "EMPRESA DE TELECOMUNICACIONES DE BOGOTA S.A. ESP",
          "LOGISTICA FLASH COLOMBIA S.A.S",
          "SUMA MOVIL S.A.S.",
          "UFF MOVIL SAS",
          "VIRGIN MOBILE COLOMBIA S.A.S."
         ],
         "legendgroup": "",
         "name": "",
         "showlegend": true,
         "textfont": {
          "size": 10
         },
         "textinfo": "value+percent",
         "textposition": "inside",
         "type": "pie",
         "values": [
          23038162,
          222178320,
          806462909,
          931914543,
          3920555598,
          20527505,
          16470078,
          42162,
          692060,
          59846219
         ]
        }
       ],
       "layout": {
        "legend": {
         "tracegroupgap": 0
        },
        "template": {
         "data": {
          "bar": [
           {
            "error_x": {
             "color": "#2a3f5f"
            },
            "error_y": {
             "color": "#2a3f5f"
            },
            "marker": {
             "line": {
              "color": "#E5ECF6",
              "width": 0.5
             }
            },
            "type": "bar"
           }
          ],
          "barpolar": [
           {
            "marker": {
             "line": {
              "color": "#E5ECF6",
              "width": 0.5
             }
            },
            "type": "barpolar"
           }
          ],
          "carpet": [
           {
            "aaxis": {
             "endlinecolor": "#2a3f5f",
             "gridcolor": "white",
             "linecolor": "white",
             "minorgridcolor": "white",
             "startlinecolor": "#2a3f5f"
            },
            "baxis": {
             "endlinecolor": "#2a3f5f",
             "gridcolor": "white",
             "linecolor": "white",
             "minorgridcolor": "white",
             "startlinecolor": "#2a3f5f"
            },
            "type": "carpet"
           }
          ],
          "choropleth": [
           {
            "colorbar": {
             "outlinewidth": 0,
             "ticks": ""
            },
            "type": "choropleth"
           }
          ],
          "contour": [
           {
            "colorbar": {
             "outlinewidth": 0,
             "ticks": ""
            },
            "colorscale": [
             [
              0,
              "#0d0887"
             ],
             [
              0.1111111111111111,
              "#46039f"
             ],
             [
              0.2222222222222222,
              "#7201a8"
             ],
             [
              0.3333333333333333,
              "#9c179e"
             ],
             [
              0.4444444444444444,
              "#bd3786"
             ],
             [
              0.5555555555555556,
              "#d8576b"
             ],
             [
              0.6666666666666666,
              "#ed7953"
             ],
             [
              0.7777777777777778,
              "#fb9f3a"
             ],
             [
              0.8888888888888888,
              "#fdca26"
             ],
             [
              1,
              "#f0f921"
             ]
            ],
            "type": "contour"
           }
          ],
          "contourcarpet": [
           {
            "colorbar": {
             "outlinewidth": 0,
             "ticks": ""
            },
            "type": "contourcarpet"
           }
          ],
          "heatmap": [
           {
            "colorbar": {
             "outlinewidth": 0,
             "ticks": ""
            },
            "colorscale": [
             [
              0,
              "#0d0887"
             ],
             [
              0.1111111111111111,
              "#46039f"
             ],
             [
              0.2222222222222222,
              "#7201a8"
             ],
             [
              0.3333333333333333,
              "#9c179e"
             ],
             [
              0.4444444444444444,
              "#bd3786"
             ],
             [
              0.5555555555555556,
              "#d8576b"
             ],
             [
              0.6666666666666666,
              "#ed7953"
             ],
             [
              0.7777777777777778,
              "#fb9f3a"
             ],
             [
              0.8888888888888888,
              "#fdca26"
             ],
             [
              1,
              "#f0f921"
             ]
            ],
            "type": "heatmap"
           }
          ],
          "heatmapgl": [
           {
            "colorbar": {
             "outlinewidth": 0,
             "ticks": ""
            },
            "colorscale": [
             [
              0,
              "#0d0887"
             ],
             [
              0.1111111111111111,
              "#46039f"
             ],
             [
              0.2222222222222222,
              "#7201a8"
             ],
             [
              0.3333333333333333,
              "#9c179e"
             ],
             [
              0.4444444444444444,
              "#bd3786"
             ],
             [
              0.5555555555555556,
              "#d8576b"
             ],
             [
              0.6666666666666666,
              "#ed7953"
             ],
             [
              0.7777777777777778,
              "#fb9f3a"
             ],
             [
              0.8888888888888888,
              "#fdca26"
             ],
             [
              1,
              "#f0f921"
             ]
            ],
            "type": "heatmapgl"
           }
          ],
          "histogram": [
           {
            "marker": {
             "colorbar": {
              "outlinewidth": 0,
              "ticks": ""
             }
            },
            "type": "histogram"
           }
          ],
          "histogram2d": [
           {
            "colorbar": {
             "outlinewidth": 0,
             "ticks": ""
            },
            "colorscale": [
             [
              0,
              "#0d0887"
             ],
             [
              0.1111111111111111,
              "#46039f"
             ],
             [
              0.2222222222222222,
              "#7201a8"
             ],
             [
              0.3333333333333333,
              "#9c179e"
             ],
             [
              0.4444444444444444,
              "#bd3786"
             ],
             [
              0.5555555555555556,
              "#d8576b"
             ],
             [
              0.6666666666666666,
              "#ed7953"
             ],
             [
              0.7777777777777778,
              "#fb9f3a"
             ],
             [
              0.8888888888888888,
              "#fdca26"
             ],
             [
              1,
              "#f0f921"
             ]
            ],
            "type": "histogram2d"
           }
          ],
          "histogram2dcontour": [
           {
            "colorbar": {
             "outlinewidth": 0,
             "ticks": ""
            },
            "colorscale": [
             [
              0,
              "#0d0887"
             ],
             [
              0.1111111111111111,
              "#46039f"
             ],
             [
              0.2222222222222222,
              "#7201a8"
             ],
             [
              0.3333333333333333,
              "#9c179e"
             ],
             [
              0.4444444444444444,
              "#bd3786"
             ],
             [
              0.5555555555555556,
              "#d8576b"
             ],
             [
              0.6666666666666666,
              "#ed7953"
             ],
             [
              0.7777777777777778,
              "#fb9f3a"
             ],
             [
              0.8888888888888888,
              "#fdca26"
             ],
             [
              1,
              "#f0f921"
             ]
            ],
            "type": "histogram2dcontour"
           }
          ],
          "mesh3d": [
           {
            "colorbar": {
             "outlinewidth": 0,
             "ticks": ""
            },
            "type": "mesh3d"
           }
          ],
          "parcoords": [
           {
            "line": {
             "colorbar": {
              "outlinewidth": 0,
              "ticks": ""
             }
            },
            "type": "parcoords"
           }
          ],
          "pie": [
           {
            "automargin": true,
            "type": "pie"
           }
          ],
          "scatter": [
           {
            "marker": {
             "colorbar": {
              "outlinewidth": 0,
              "ticks": ""
             }
            },
            "type": "scatter"
           }
          ],
          "scatter3d": [
           {
            "line": {
             "colorbar": {
              "outlinewidth": 0,
              "ticks": ""
             }
            },
            "marker": {
             "colorbar": {
              "outlinewidth": 0,
              "ticks": ""
             }
            },
            "type": "scatter3d"
           }
          ],
          "scattercarpet": [
           {
            "marker": {
             "colorbar": {
              "outlinewidth": 0,
              "ticks": ""
             }
            },
            "type": "scattercarpet"
           }
          ],
          "scattergeo": [
           {
            "marker": {
             "colorbar": {
              "outlinewidth": 0,
              "ticks": ""
             }
            },
            "type": "scattergeo"
           }
          ],
          "scattergl": [
           {
            "marker": {
             "colorbar": {
              "outlinewidth": 0,
              "ticks": ""
             }
            },
            "type": "scattergl"
           }
          ],
          "scattermapbox": [
           {
            "marker": {
             "colorbar": {
              "outlinewidth": 0,
              "ticks": ""
             }
            },
            "type": "scattermapbox"
           }
          ],
          "scatterpolar": [
           {
            "marker": {
             "colorbar": {
              "outlinewidth": 0,
              "ticks": ""
             }
            },
            "type": "scatterpolar"
           }
          ],
          "scatterpolargl": [
           {
            "marker": {
             "colorbar": {
              "outlinewidth": 0,
              "ticks": ""
             }
            },
            "type": "scatterpolargl"
           }
          ],
          "scatterternary": [
           {
            "marker": {
             "colorbar": {
              "outlinewidth": 0,
              "ticks": ""
             }
            },
            "type": "scatterternary"
           }
          ],
          "surface": [
           {
            "colorbar": {
             "outlinewidth": 0,
             "ticks": ""
            },
            "colorscale": [
             [
              0,
              "#0d0887"
             ],
             [
              0.1111111111111111,
              "#46039f"
             ],
             [
              0.2222222222222222,
              "#7201a8"
             ],
             [
              0.3333333333333333,
              "#9c179e"
             ],
             [
              0.4444444444444444,
              "#bd3786"
             ],
             [
              0.5555555555555556,
              "#d8576b"
             ],
             [
              0.6666666666666666,
              "#ed7953"
             ],
             [
              0.7777777777777778,
              "#fb9f3a"
             ],
             [
              0.8888888888888888,
              "#fdca26"
             ],
             [
              1,
              "#f0f921"
             ]
            ],
            "type": "surface"
           }
          ],
          "table": [
           {
            "cells": {
             "fill": {
              "color": "#EBF0F8"
             },
             "line": {
              "color": "white"
             }
            },
            "header": {
             "fill": {
              "color": "#C8D4E3"
             },
             "line": {
              "color": "white"
             }
            },
            "type": "table"
           }
          ]
         },
         "layout": {
          "annotationdefaults": {
           "arrowcolor": "#2a3f5f",
           "arrowhead": 0,
           "arrowwidth": 1
          },
          "coloraxis": {
           "colorbar": {
            "outlinewidth": 0,
            "ticks": ""
           }
          },
          "colorscale": {
           "diverging": [
            [
             0,
             "#8e0152"
            ],
            [
             0.1,
             "#c51b7d"
            ],
            [
             0.2,
             "#de77ae"
            ],
            [
             0.3,
             "#f1b6da"
            ],
            [
             0.4,
             "#fde0ef"
            ],
            [
             0.5,
             "#f7f7f7"
            ],
            [
             0.6,
             "#e6f5d0"
            ],
            [
             0.7,
             "#b8e186"
            ],
            [
             0.8,
             "#7fbc41"
            ],
            [
             0.9,
             "#4d9221"
            ],
            [
             1,
             "#276419"
            ]
           ],
           "sequential": [
            [
             0,
             "#0d0887"
            ],
            [
             0.1111111111111111,
             "#46039f"
            ],
            [
             0.2222222222222222,
             "#7201a8"
            ],
            [
             0.3333333333333333,
             "#9c179e"
            ],
            [
             0.4444444444444444,
             "#bd3786"
            ],
            [
             0.5555555555555556,
             "#d8576b"
            ],
            [
             0.6666666666666666,
             "#ed7953"
            ],
            [
             0.7777777777777778,
             "#fb9f3a"
            ],
            [
             0.8888888888888888,
             "#fdca26"
            ],
            [
             1,
             "#f0f921"
            ]
           ],
           "sequentialminus": [
            [
             0,
             "#0d0887"
            ],
            [
             0.1111111111111111,
             "#46039f"
            ],
            [
             0.2222222222222222,
             "#7201a8"
            ],
            [
             0.3333333333333333,
             "#9c179e"
            ],
            [
             0.4444444444444444,
             "#bd3786"
            ],
            [
             0.5555555555555556,
             "#d8576b"
            ],
            [
             0.6666666666666666,
             "#ed7953"
            ],
            [
             0.7777777777777778,
             "#fb9f3a"
            ],
            [
             0.8888888888888888,
             "#fdca26"
            ],
            [
             1,
             "#f0f921"
            ]
           ]
          },
          "colorway": [
           "#636efa",
           "#EF553B",
           "#00cc96",
           "#ab63fa",
           "#FFA15A",
           "#19d3f3",
           "#FF6692",
           "#B6E880",
           "#FF97FF",
           "#FECB52"
          ],
          "font": {
           "color": "#2a3f5f"
          },
          "geo": {
           "bgcolor": "white",
           "lakecolor": "white",
           "landcolor": "#E5ECF6",
           "showlakes": true,
           "showland": true,
           "subunitcolor": "white"
          },
          "hoverlabel": {
           "align": "left"
          },
          "hovermode": "closest",
          "mapbox": {
           "style": "light"
          },
          "paper_bgcolor": "white",
          "plot_bgcolor": "#E5ECF6",
          "polar": {
           "angularaxis": {
            "gridcolor": "white",
            "linecolor": "white",
            "ticks": ""
           },
           "bgcolor": "#E5ECF6",
           "radialaxis": {
            "gridcolor": "white",
            "linecolor": "white",
            "ticks": ""
           }
          },
          "scene": {
           "xaxis": {
            "backgroundcolor": "#E5ECF6",
            "gridcolor": "white",
            "gridwidth": 2,
            "linecolor": "white",
            "showbackground": true,
            "ticks": "",
            "zerolinecolor": "white"
           },
           "yaxis": {
            "backgroundcolor": "#E5ECF6",
            "gridcolor": "white",
            "gridwidth": 2,
            "linecolor": "white",
            "showbackground": true,
            "ticks": "",
            "zerolinecolor": "white"
           },
           "zaxis": {
            "backgroundcolor": "#E5ECF6",
            "gridcolor": "white",
            "gridwidth": 2,
            "linecolor": "white",
            "showbackground": true,
            "ticks": "",
            "zerolinecolor": "white"
           }
          },
          "shapedefaults": {
           "line": {
            "color": "#2a3f5f"
           }
          },
          "ternary": {
           "aaxis": {
            "gridcolor": "white",
            "linecolor": "white",
            "ticks": ""
           },
           "baxis": {
            "gridcolor": "white",
            "linecolor": "white",
            "ticks": ""
           },
           "bgcolor": "#E5ECF6",
           "caxis": {
            "gridcolor": "white",
            "linecolor": "white",
            "ticks": ""
           }
          },
          "title": {
           "x": 0.05
          },
          "xaxis": {
           "automargin": true,
           "gridcolor": "white",
           "linecolor": "white",
           "ticks": "",
           "title": {
            "standoff": 15
           },
           "zerolinecolor": "white",
           "zerolinewidth": 2
          },
          "yaxis": {
           "automargin": true,
           "gridcolor": "white",
           "linecolor": "white",
           "ticks": "",
           "title": {
            "standoff": 15
           },
           "zerolinecolor": "white",
           "zerolinewidth": 2
          }
         }
        },
        "title": {
         "text": "Proporción de mensajes en Colombia"
        }
       }
      },
      "text/html": [
       "<div>\n",
       "        \n",
       "        \n",
       "            <div id=\"64589db8-9215-4f5e-ad81-4c62cf410346\" class=\"plotly-graph-div\" style=\"height:525px; width:100%;\"></div>\n",
       "            <script type=\"text/javascript\">\n",
       "                require([\"plotly\"], function(Plotly) {\n",
       "                    window.PLOTLYENV=window.PLOTLYENV || {};\n",
       "                    \n",
       "                if (document.getElementById(\"64589db8-9215-4f5e-ad81-4c62cf410346\")) {\n",
       "                    Plotly.newPlot(\n",
       "                        '64589db8-9215-4f5e-ad81-4c62cf410346',\n",
       "                        [{\"domain\": {\"x\": [0.0, 1.0], \"y\": [0.0, 1.0]}, \"hoverinfo\": \"label\", \"hovertemplate\": \"proveedor=%{label}<br>total=%{value}<extra></extra>\", \"labels\": [\"ALMACENES EXITO INVERSIONES S.A.S.\", \"AVANTEL S.A.S\", \"COLOMBIA MOVIL  S.A ESP\", \"COLOMBIA TELECOMUNICACIONES S.A. E.S.P.\", \"COMUNICACION CELULAR S A COMCEL S A\", \"EMPRESA DE TELECOMUNICACIONES DE BOGOTA S.A. ESP\", \"LOGISTICA FLASH COLOMBIA S.A.S\", \"SUMA MOVIL S.A.S.\", \"UFF MOVIL SAS\", \"VIRGIN MOBILE COLOMBIA S.A.S.\"], \"legendgroup\": \"\", \"name\": \"\", \"showlegend\": true, \"textfont\": {\"size\": 10}, \"textinfo\": \"value+percent\", \"textposition\": \"inside\", \"type\": \"pie\", \"values\": [23038162.0, 222178320.0, 806462909.0, 931914543.0, 3920555598.0, 20527505.0, 16470078.0, 42162.0, 692060.0, 59846219.0]}],\n",
       "                        {\"legend\": {\"tracegroupgap\": 0}, \"template\": {\"data\": {\"bar\": [{\"error_x\": {\"color\": \"#2a3f5f\"}, \"error_y\": {\"color\": \"#2a3f5f\"}, \"marker\": {\"line\": {\"color\": \"#E5ECF6\", \"width\": 0.5}}, \"type\": \"bar\"}], \"barpolar\": [{\"marker\": {\"line\": {\"color\": \"#E5ECF6\", \"width\": 0.5}}, \"type\": \"barpolar\"}], \"carpet\": [{\"aaxis\": {\"endlinecolor\": \"#2a3f5f\", \"gridcolor\": \"white\", \"linecolor\": \"white\", \"minorgridcolor\": \"white\", \"startlinecolor\": \"#2a3f5f\"}, \"baxis\": {\"endlinecolor\": \"#2a3f5f\", \"gridcolor\": \"white\", \"linecolor\": \"white\", \"minorgridcolor\": \"white\", \"startlinecolor\": \"#2a3f5f\"}, \"type\": \"carpet\"}], \"choropleth\": [{\"colorbar\": {\"outlinewidth\": 0, \"ticks\": \"\"}, \"type\": \"choropleth\"}], \"contour\": [{\"colorbar\": {\"outlinewidth\": 0, \"ticks\": \"\"}, \"colorscale\": [[0.0, \"#0d0887\"], [0.1111111111111111, \"#46039f\"], [0.2222222222222222, \"#7201a8\"], [0.3333333333333333, \"#9c179e\"], [0.4444444444444444, \"#bd3786\"], [0.5555555555555556, \"#d8576b\"], [0.6666666666666666, \"#ed7953\"], [0.7777777777777778, \"#fb9f3a\"], [0.8888888888888888, \"#fdca26\"], [1.0, \"#f0f921\"]], \"type\": \"contour\"}], \"contourcarpet\": [{\"colorbar\": {\"outlinewidth\": 0, \"ticks\": \"\"}, \"type\": \"contourcarpet\"}], \"heatmap\": [{\"colorbar\": {\"outlinewidth\": 0, \"ticks\": \"\"}, \"colorscale\": [[0.0, \"#0d0887\"], [0.1111111111111111, \"#46039f\"], [0.2222222222222222, \"#7201a8\"], [0.3333333333333333, \"#9c179e\"], [0.4444444444444444, \"#bd3786\"], [0.5555555555555556, \"#d8576b\"], [0.6666666666666666, \"#ed7953\"], [0.7777777777777778, \"#fb9f3a\"], [0.8888888888888888, \"#fdca26\"], [1.0, \"#f0f921\"]], \"type\": \"heatmap\"}], \"heatmapgl\": [{\"colorbar\": {\"outlinewidth\": 0, \"ticks\": \"\"}, \"colorscale\": [[0.0, \"#0d0887\"], [0.1111111111111111, \"#46039f\"], [0.2222222222222222, \"#7201a8\"], [0.3333333333333333, \"#9c179e\"], [0.4444444444444444, \"#bd3786\"], [0.5555555555555556, \"#d8576b\"], [0.6666666666666666, \"#ed7953\"], [0.7777777777777778, \"#fb9f3a\"], [0.8888888888888888, \"#fdca26\"], [1.0, \"#f0f921\"]], \"type\": \"heatmapgl\"}], \"histogram\": [{\"marker\": {\"colorbar\": {\"outlinewidth\": 0, \"ticks\": \"\"}}, \"type\": \"histogram\"}], \"histogram2d\": [{\"colorbar\": {\"outlinewidth\": 0, \"ticks\": \"\"}, \"colorscale\": [[0.0, \"#0d0887\"], [0.1111111111111111, \"#46039f\"], [0.2222222222222222, \"#7201a8\"], [0.3333333333333333, \"#9c179e\"], [0.4444444444444444, \"#bd3786\"], [0.5555555555555556, \"#d8576b\"], [0.6666666666666666, \"#ed7953\"], [0.7777777777777778, \"#fb9f3a\"], [0.8888888888888888, \"#fdca26\"], [1.0, \"#f0f921\"]], \"type\": \"histogram2d\"}], \"histogram2dcontour\": [{\"colorbar\": {\"outlinewidth\": 0, \"ticks\": \"\"}, \"colorscale\": [[0.0, \"#0d0887\"], [0.1111111111111111, \"#46039f\"], [0.2222222222222222, \"#7201a8\"], [0.3333333333333333, \"#9c179e\"], [0.4444444444444444, \"#bd3786\"], [0.5555555555555556, \"#d8576b\"], [0.6666666666666666, \"#ed7953\"], [0.7777777777777778, \"#fb9f3a\"], [0.8888888888888888, \"#fdca26\"], [1.0, \"#f0f921\"]], \"type\": \"histogram2dcontour\"}], \"mesh3d\": [{\"colorbar\": {\"outlinewidth\": 0, \"ticks\": \"\"}, \"type\": \"mesh3d\"}], \"parcoords\": [{\"line\": {\"colorbar\": {\"outlinewidth\": 0, \"ticks\": \"\"}}, \"type\": \"parcoords\"}], \"pie\": [{\"automargin\": true, \"type\": \"pie\"}], \"scatter\": [{\"marker\": {\"colorbar\": {\"outlinewidth\": 0, \"ticks\": \"\"}}, \"type\": \"scatter\"}], \"scatter3d\": [{\"line\": {\"colorbar\": {\"outlinewidth\": 0, \"ticks\": \"\"}}, \"marker\": {\"colorbar\": {\"outlinewidth\": 0, \"ticks\": \"\"}}, \"type\": \"scatter3d\"}], \"scattercarpet\": [{\"marker\": {\"colorbar\": {\"outlinewidth\": 0, \"ticks\": \"\"}}, \"type\": \"scattercarpet\"}], \"scattergeo\": [{\"marker\": {\"colorbar\": {\"outlinewidth\": 0, \"ticks\": \"\"}}, \"type\": \"scattergeo\"}], \"scattergl\": [{\"marker\": {\"colorbar\": {\"outlinewidth\": 0, \"ticks\": \"\"}}, \"type\": \"scattergl\"}], \"scattermapbox\": [{\"marker\": {\"colorbar\": {\"outlinewidth\": 0, \"ticks\": \"\"}}, \"type\": \"scattermapbox\"}], \"scatterpolar\": [{\"marker\": {\"colorbar\": {\"outlinewidth\": 0, \"ticks\": \"\"}}, \"type\": \"scatterpolar\"}], \"scatterpolargl\": [{\"marker\": {\"colorbar\": {\"outlinewidth\": 0, \"ticks\": \"\"}}, \"type\": \"scatterpolargl\"}], \"scatterternary\": [{\"marker\": {\"colorbar\": {\"outlinewidth\": 0, \"ticks\": \"\"}}, \"type\": \"scatterternary\"}], \"surface\": [{\"colorbar\": {\"outlinewidth\": 0, \"ticks\": \"\"}, \"colorscale\": [[0.0, \"#0d0887\"], [0.1111111111111111, \"#46039f\"], [0.2222222222222222, \"#7201a8\"], [0.3333333333333333, \"#9c179e\"], [0.4444444444444444, \"#bd3786\"], [0.5555555555555556, \"#d8576b\"], [0.6666666666666666, \"#ed7953\"], [0.7777777777777778, \"#fb9f3a\"], [0.8888888888888888, \"#fdca26\"], [1.0, \"#f0f921\"]], \"type\": \"surface\"}], \"table\": [{\"cells\": {\"fill\": {\"color\": \"#EBF0F8\"}, \"line\": {\"color\": \"white\"}}, \"header\": {\"fill\": {\"color\": \"#C8D4E3\"}, \"line\": {\"color\": \"white\"}}, \"type\": \"table\"}]}, \"layout\": {\"annotationdefaults\": {\"arrowcolor\": \"#2a3f5f\", \"arrowhead\": 0, \"arrowwidth\": 1}, \"coloraxis\": {\"colorbar\": {\"outlinewidth\": 0, \"ticks\": \"\"}}, \"colorscale\": {\"diverging\": [[0, \"#8e0152\"], [0.1, \"#c51b7d\"], [0.2, \"#de77ae\"], [0.3, \"#f1b6da\"], [0.4, \"#fde0ef\"], [0.5, \"#f7f7f7\"], [0.6, \"#e6f5d0\"], [0.7, \"#b8e186\"], [0.8, \"#7fbc41\"], [0.9, \"#4d9221\"], [1, \"#276419\"]], \"sequential\": [[0.0, \"#0d0887\"], [0.1111111111111111, \"#46039f\"], [0.2222222222222222, \"#7201a8\"], [0.3333333333333333, \"#9c179e\"], [0.4444444444444444, \"#bd3786\"], [0.5555555555555556, \"#d8576b\"], [0.6666666666666666, \"#ed7953\"], [0.7777777777777778, \"#fb9f3a\"], [0.8888888888888888, \"#fdca26\"], [1.0, \"#f0f921\"]], \"sequentialminus\": [[0.0, \"#0d0887\"], [0.1111111111111111, \"#46039f\"], [0.2222222222222222, \"#7201a8\"], [0.3333333333333333, \"#9c179e\"], [0.4444444444444444, \"#bd3786\"], [0.5555555555555556, \"#d8576b\"], [0.6666666666666666, \"#ed7953\"], [0.7777777777777778, \"#fb9f3a\"], [0.8888888888888888, \"#fdca26\"], [1.0, \"#f0f921\"]]}, \"colorway\": [\"#636efa\", \"#EF553B\", \"#00cc96\", \"#ab63fa\", \"#FFA15A\", \"#19d3f3\", \"#FF6692\", \"#B6E880\", \"#FF97FF\", \"#FECB52\"], \"font\": {\"color\": \"#2a3f5f\"}, \"geo\": {\"bgcolor\": \"white\", \"lakecolor\": \"white\", \"landcolor\": \"#E5ECF6\", \"showlakes\": true, \"showland\": true, \"subunitcolor\": \"white\"}, \"hoverlabel\": {\"align\": \"left\"}, \"hovermode\": \"closest\", \"mapbox\": {\"style\": \"light\"}, \"paper_bgcolor\": \"white\", \"plot_bgcolor\": \"#E5ECF6\", \"polar\": {\"angularaxis\": {\"gridcolor\": \"white\", \"linecolor\": \"white\", \"ticks\": \"\"}, \"bgcolor\": \"#E5ECF6\", \"radialaxis\": {\"gridcolor\": \"white\", \"linecolor\": \"white\", \"ticks\": \"\"}}, \"scene\": {\"xaxis\": {\"backgroundcolor\": \"#E5ECF6\", \"gridcolor\": \"white\", \"gridwidth\": 2, \"linecolor\": \"white\", \"showbackground\": true, \"ticks\": \"\", \"zerolinecolor\": \"white\"}, \"yaxis\": {\"backgroundcolor\": \"#E5ECF6\", \"gridcolor\": \"white\", \"gridwidth\": 2, \"linecolor\": \"white\", \"showbackground\": true, \"ticks\": \"\", \"zerolinecolor\": \"white\"}, \"zaxis\": {\"backgroundcolor\": \"#E5ECF6\", \"gridcolor\": \"white\", \"gridwidth\": 2, \"linecolor\": \"white\", \"showbackground\": true, \"ticks\": \"\", \"zerolinecolor\": \"white\"}}, \"shapedefaults\": {\"line\": {\"color\": \"#2a3f5f\"}}, \"ternary\": {\"aaxis\": {\"gridcolor\": \"white\", \"linecolor\": \"white\", \"ticks\": \"\"}, \"baxis\": {\"gridcolor\": \"white\", \"linecolor\": \"white\", \"ticks\": \"\"}, \"bgcolor\": \"#E5ECF6\", \"caxis\": {\"gridcolor\": \"white\", \"linecolor\": \"white\", \"ticks\": \"\"}}, \"title\": {\"x\": 0.05}, \"xaxis\": {\"automargin\": true, \"gridcolor\": \"white\", \"linecolor\": \"white\", \"ticks\": \"\", \"title\": {\"standoff\": 15}, \"zerolinecolor\": \"white\", \"zerolinewidth\": 2}, \"yaxis\": {\"automargin\": true, \"gridcolor\": \"white\", \"linecolor\": \"white\", \"ticks\": \"\", \"title\": {\"standoff\": 15}, \"zerolinecolor\": \"white\", \"zerolinewidth\": 2}}}, \"title\": {\"text\": \"Proporci\\u00f3n de mensajes en Colombia\"}},\n",
       "                        {\"responsive\": true}\n",
       "                    ).then(function(){\n",
       "                            \n",
       "var gd = document.getElementById('64589db8-9215-4f5e-ad81-4c62cf410346');\n",
       "var x = new MutationObserver(function (mutations, observer) {{\n",
       "        var display = window.getComputedStyle(gd).display;\n",
       "        if (!display || display === 'none') {{\n",
       "            console.log([gd, 'removed!']);\n",
       "            Plotly.purge(gd);\n",
       "            observer.disconnect();\n",
       "        }}\n",
       "}});\n",
       "\n",
       "// Listen for the removal of the full notebook cells\n",
       "var notebookContainer = gd.closest('#notebook-container');\n",
       "if (notebookContainer) {{\n",
       "    x.observe(notebookContainer, {childList: true});\n",
       "}}\n",
       "\n",
       "// Listen for the clearing of the current output cell\n",
       "var outputEl = gd.closest('.output');\n",
       "if (outputEl) {{\n",
       "    x.observe(outputEl, {childList: true});\n",
       "}}\n",
       "\n",
       "                        })\n",
       "                };\n",
       "                });\n",
       "            </script>\n",
       "        </div>"
      ]
     },
     "metadata": {},
     "output_type": "display_data"
    }
   ],
   "source": [
    "fig1 = px.pie(DF2, values='total',labels=DF2.index,names=DF2.index, title='Proporción de mensajes en Colombia')\n",
    "fig1.update_traces(textposition='inside',textinfo='value+percent', hoverinfo='label', textfont_size=10)\n",
    "fig1.show()"
   ]
  },
  {
   "cell_type": "code",
   "execution_count": 131,
   "metadata": {},
   "outputs": [],
   "source": [
    "DF3=DF2[DF2.columns[:-1]].T.reset_index()"
   ]
  },
  {
   "cell_type": "code",
   "execution_count": 134,
   "metadata": {},
   "outputs": [],
   "source": [
    "DF3['date_cor']=[i.to_timestamp(how='E') for i in DF3['date']]"
   ]
  },
  {
   "cell_type": "code",
   "execution_count": 139,
   "metadata": {},
   "outputs": [
    {
     "data": {
      "application/vnd.plotly.v1+json": {
       "config": {
        "plotlyServerURL": "https://plot.ly"
       },
       "data": [
        {
         "hovertemplate": "variable=ALMACENES EXITO INVERSIONES S.A.S.<br>date_cor=%{x}<br>value=%{y}<extra></extra>",
         "legendgroup": "ALMACENES EXITO INVERSIONES S.A.S.",
         "line": {
          "color": "#636efa",
          "dash": "solid"
         },
         "mode": "lines",
         "name": "ALMACENES EXITO INVERSIONES S.A.S.",
         "orientation": "v",
         "showlegend": true,
         "type": "scatter",
         "x": [
          "2017-06-30T23:59:59.999999",
          "2017-09-30T23:59:59.999999",
          "2017-12-31T23:59:59.999999",
          "2018-03-31T23:59:59.999999",
          "2018-06-30T23:59:59.999999",
          "2018-09-30T23:59:59.999999",
          "2018-12-31T23:59:59.999999",
          "2019-03-31T23:59:59.999999",
          "2019-06-30T23:59:59.999999",
          "2019-09-30T23:59:59.999999",
          "2019-12-31T23:59:59.999999",
          "2020-03-31T23:59:59.999999"
         ],
         "xaxis": "x",
         "y": [
          1200157,
          1320004,
          1304423,
          1541515,
          1304353,
          1351272,
          1756554,
          1698455,
          3914568,
          1541266,
          2291724,
          3813871
         ],
         "yaxis": "y"
        },
        {
         "hovertemplate": "variable=AVANTEL S.A.S<br>date_cor=%{x}<br>value=%{y}<extra></extra>",
         "legendgroup": "AVANTEL S.A.S",
         "line": {
          "color": "#EF553B",
          "dash": "solid"
         },
         "mode": "lines",
         "name": "AVANTEL S.A.S",
         "orientation": "v",
         "showlegend": true,
         "type": "scatter",
         "x": [
          "2017-06-30T23:59:59.999999",
          "2017-09-30T23:59:59.999999",
          "2017-12-31T23:59:59.999999",
          "2018-03-31T23:59:59.999999",
          "2018-06-30T23:59:59.999999",
          "2018-09-30T23:59:59.999999",
          "2018-12-31T23:59:59.999999",
          "2019-03-31T23:59:59.999999",
          "2019-06-30T23:59:59.999999",
          "2019-09-30T23:59:59.999999",
          "2019-12-31T23:59:59.999999",
          "2020-03-31T23:59:59.999999"
         ],
         "xaxis": "x",
         "y": [
          126220118,
          8384986,
          8312849,
          8709468,
          9248152,
          9429264,
          9154336,
          8515104,
          7633975,
          11944575,
          7349693,
          7275800
         ],
         "yaxis": "y"
        },
        {
         "hovertemplate": "variable=COLOMBIA MOVIL  S.A ESP<br>date_cor=%{x}<br>value=%{y}<extra></extra>",
         "legendgroup": "COLOMBIA MOVIL  S.A ESP",
         "line": {
          "color": "#00cc96",
          "dash": "solid"
         },
         "mode": "lines",
         "name": "COLOMBIA MOVIL  S.A ESP",
         "orientation": "v",
         "showlegend": true,
         "type": "scatter",
         "x": [
          "2017-06-30T23:59:59.999999",
          "2017-09-30T23:59:59.999999",
          "2017-12-31T23:59:59.999999",
          "2018-03-31T23:59:59.999999",
          "2018-06-30T23:59:59.999999",
          "2018-09-30T23:59:59.999999",
          "2018-12-31T23:59:59.999999",
          "2019-03-31T23:59:59.999999",
          "2019-06-30T23:59:59.999999",
          "2019-09-30T23:59:59.999999",
          "2019-12-31T23:59:59.999999",
          "2020-03-31T23:59:59.999999"
         ],
         "xaxis": "x",
         "y": [
          40562796,
          47360978,
          51819944,
          59527610,
          60710406,
          64054520,
          65590214,
          73006846,
          83878663,
          82294447,
          87701853,
          89954632
         ],
         "yaxis": "y"
        },
        {
         "hovertemplate": "variable=COLOMBIA TELECOMUNICACIONES S.A. E.S.P.<br>date_cor=%{x}<br>value=%{y}<extra></extra>",
         "legendgroup": "COLOMBIA TELECOMUNICACIONES S.A. E.S.P.",
         "line": {
          "color": "#ab63fa",
          "dash": "solid"
         },
         "mode": "lines",
         "name": "COLOMBIA TELECOMUNICACIONES S.A. E.S.P.",
         "orientation": "v",
         "showlegend": true,
         "type": "scatter",
         "x": [
          "2017-06-30T23:59:59.999999",
          "2017-09-30T23:59:59.999999",
          "2017-12-31T23:59:59.999999",
          "2018-03-31T23:59:59.999999",
          "2018-06-30T23:59:59.999999",
          "2018-09-30T23:59:59.999999",
          "2018-12-31T23:59:59.999999",
          "2019-03-31T23:59:59.999999",
          "2019-06-30T23:59:59.999999",
          "2019-09-30T23:59:59.999999",
          "2019-12-31T23:59:59.999999",
          "2020-03-31T23:59:59.999999"
         ],
         "xaxis": "x",
         "y": [
          90891089,
          89917435,
          85681633,
          86889703,
          90268433,
          101549385,
          78465534,
          65452577,
          76732390,
          70285182,
          48247998,
          47533184
         ],
         "yaxis": "y"
        },
        {
         "hovertemplate": "variable=COMUNICACION CELULAR S A COMCEL S A<br>date_cor=%{x}<br>value=%{y}<extra></extra>",
         "legendgroup": "COMUNICACION CELULAR S A COMCEL S A",
         "line": {
          "color": "#FFA15A",
          "dash": "solid"
         },
         "mode": "lines",
         "name": "COMUNICACION CELULAR S A COMCEL S A",
         "orientation": "v",
         "showlegend": true,
         "type": "scatter",
         "x": [
          "2017-06-30T23:59:59.999999",
          "2017-09-30T23:59:59.999999",
          "2017-12-31T23:59:59.999999",
          "2018-03-31T23:59:59.999999",
          "2018-06-30T23:59:59.999999",
          "2018-09-30T23:59:59.999999",
          "2018-12-31T23:59:59.999999",
          "2019-03-31T23:59:59.999999",
          "2019-06-30T23:59:59.999999",
          "2019-09-30T23:59:59.999999",
          "2019-12-31T23:59:59.999999",
          "2020-03-31T23:59:59.999999"
         ],
         "xaxis": "x",
         "y": [
          329111589,
          329180789,
          331493876,
          332624963,
          327282613,
          338658222,
          318042853,
          325032560,
          320145465,
          313034665,
          316070035,
          339877968
         ],
         "yaxis": "y"
        },
        {
         "hovertemplate": "variable=EMPRESA DE TELECOMUNICACIONES DE BOGOTA S.A. ESP<br>date_cor=%{x}<br>value=%{y}<extra></extra>",
         "legendgroup": "EMPRESA DE TELECOMUNICACIONES DE BOGOTA S.A. ESP",
         "line": {
          "color": "#19d3f3",
          "dash": "solid"
         },
         "mode": "lines",
         "name": "EMPRESA DE TELECOMUNICACIONES DE BOGOTA S.A. ESP",
         "orientation": "v",
         "showlegend": true,
         "type": "scatter",
         "x": [
          "2017-06-30T23:59:59.999999",
          "2017-09-30T23:59:59.999999",
          "2017-12-31T23:59:59.999999",
          "2018-03-31T23:59:59.999999",
          "2018-06-30T23:59:59.999999",
          "2018-09-30T23:59:59.999999",
          "2018-12-31T23:59:59.999999",
          "2019-03-31T23:59:59.999999",
          "2019-06-30T23:59:59.999999",
          "2019-09-30T23:59:59.999999",
          "2019-12-31T23:59:59.999999",
          "2020-03-31T23:59:59.999999"
         ],
         "xaxis": "x",
         "y": [
          1579211,
          1539201,
          1900178,
          2004238,
          2005701,
          2049501,
          1864253,
          1681650,
          1492238,
          1357396,
          1549660,
          1504278
         ],
         "yaxis": "y"
        },
        {
         "hovertemplate": "variable=LOGISTICA FLASH COLOMBIA S.A.S<br>date_cor=%{x}<br>value=%{y}<extra></extra>",
         "legendgroup": "LOGISTICA FLASH COLOMBIA S.A.S",
         "line": {
          "color": "#FF6692",
          "dash": "solid"
         },
         "mode": "lines",
         "name": "LOGISTICA FLASH COLOMBIA S.A.S",
         "orientation": "v",
         "showlegend": true,
         "type": "scatter",
         "x": [
          "2017-06-30T23:59:59.999999",
          "2017-09-30T23:59:59.999999",
          "2017-12-31T23:59:59.999999",
          "2018-03-31T23:59:59.999999",
          "2018-06-30T23:59:59.999999",
          "2018-09-30T23:59:59.999999",
          "2018-12-31T23:59:59.999999",
          "2019-03-31T23:59:59.999999",
          "2019-06-30T23:59:59.999999",
          "2019-09-30T23:59:59.999999",
          "2019-12-31T23:59:59.999999",
          "2020-03-31T23:59:59.999999"
         ],
         "xaxis": "x",
         "y": [
          0,
          0,
          0,
          0,
          0,
          250248,
          3933880,
          3713829,
          3713416,
          2143945,
          1425396,
          1289364
         ],
         "yaxis": "y"
        },
        {
         "hovertemplate": "variable=SUMA MOVIL S.A.S.<br>date_cor=%{x}<br>value=%{y}<extra></extra>",
         "legendgroup": "SUMA MOVIL S.A.S.",
         "line": {
          "color": "#B6E880",
          "dash": "solid"
         },
         "mode": "lines",
         "name": "SUMA MOVIL S.A.S.",
         "orientation": "v",
         "showlegend": true,
         "type": "scatter",
         "x": [
          "2017-06-30T23:59:59.999999",
          "2017-09-30T23:59:59.999999",
          "2017-12-31T23:59:59.999999",
          "2018-03-31T23:59:59.999999",
          "2018-06-30T23:59:59.999999",
          "2018-09-30T23:59:59.999999",
          "2018-12-31T23:59:59.999999",
          "2019-03-31T23:59:59.999999",
          "2019-06-30T23:59:59.999999",
          "2019-09-30T23:59:59.999999",
          "2019-12-31T23:59:59.999999",
          "2020-03-31T23:59:59.999999"
         ],
         "xaxis": "x",
         "y": [
          0,
          0,
          0,
          98,
          1068,
          1238,
          1398,
          835,
          5620,
          3295,
          15857,
          12753
         ],
         "yaxis": "y"
        },
        {
         "hovertemplate": "variable=UFF MOVIL SAS<br>date_cor=%{x}<br>value=%{y}<extra></extra>",
         "legendgroup": "UFF MOVIL SAS",
         "line": {
          "color": "#FF97FF",
          "dash": "solid"
         },
         "mode": "lines",
         "name": "UFF MOVIL SAS",
         "orientation": "v",
         "showlegend": true,
         "type": "scatter",
         "x": [
          "2017-06-30T23:59:59.999999",
          "2017-09-30T23:59:59.999999",
          "2017-12-31T23:59:59.999999",
          "2018-03-31T23:59:59.999999",
          "2018-06-30T23:59:59.999999",
          "2018-09-30T23:59:59.999999",
          "2018-12-31T23:59:59.999999",
          "2019-03-31T23:59:59.999999",
          "2019-06-30T23:59:59.999999",
          "2019-09-30T23:59:59.999999",
          "2019-12-31T23:59:59.999999",
          "2020-03-31T23:59:59.999999"
         ],
         "xaxis": "x",
         "y": [
          164219,
          157367,
          139519,
          122920,
          108035,
          0,
          0,
          0,
          0,
          0,
          0,
          0
         ],
         "yaxis": "y"
        },
        {
         "hovertemplate": "variable=VIRGIN MOBILE COLOMBIA S.A.S.<br>date_cor=%{x}<br>value=%{y}<extra></extra>",
         "legendgroup": "VIRGIN MOBILE COLOMBIA S.A.S.",
         "line": {
          "color": "#FECB52",
          "dash": "solid"
         },
         "mode": "lines",
         "name": "VIRGIN MOBILE COLOMBIA S.A.S.",
         "orientation": "v",
         "showlegend": true,
         "type": "scatter",
         "x": [
          "2017-06-30T23:59:59.999999",
          "2017-09-30T23:59:59.999999",
          "2017-12-31T23:59:59.999999",
          "2018-03-31T23:59:59.999999",
          "2018-06-30T23:59:59.999999",
          "2018-09-30T23:59:59.999999",
          "2018-12-31T23:59:59.999999",
          "2019-03-31T23:59:59.999999",
          "2019-06-30T23:59:59.999999",
          "2019-09-30T23:59:59.999999",
          "2019-12-31T23:59:59.999999",
          "2020-03-31T23:59:59.999999"
         ],
         "xaxis": "x",
         "y": [
          6923273,
          6370565,
          6161863,
          5773094,
          5237194,
          5011224,
          4639107,
          4281902,
          4012653,
          3806962,
          3592917,
          4035465
         ],
         "yaxis": "y"
        }
       ],
       "layout": {
        "legend": {
         "title": {
          "text": "variable"
         },
         "tracegroupgap": 0
        },
        "template": {
         "data": {
          "bar": [
           {
            "error_x": {
             "color": "#2a3f5f"
            },
            "error_y": {
             "color": "#2a3f5f"
            },
            "marker": {
             "line": {
              "color": "#E5ECF6",
              "width": 0.5
             }
            },
            "type": "bar"
           }
          ],
          "barpolar": [
           {
            "marker": {
             "line": {
              "color": "#E5ECF6",
              "width": 0.5
             }
            },
            "type": "barpolar"
           }
          ],
          "carpet": [
           {
            "aaxis": {
             "endlinecolor": "#2a3f5f",
             "gridcolor": "white",
             "linecolor": "white",
             "minorgridcolor": "white",
             "startlinecolor": "#2a3f5f"
            },
            "baxis": {
             "endlinecolor": "#2a3f5f",
             "gridcolor": "white",
             "linecolor": "white",
             "minorgridcolor": "white",
             "startlinecolor": "#2a3f5f"
            },
            "type": "carpet"
           }
          ],
          "choropleth": [
           {
            "colorbar": {
             "outlinewidth": 0,
             "ticks": ""
            },
            "type": "choropleth"
           }
          ],
          "contour": [
           {
            "colorbar": {
             "outlinewidth": 0,
             "ticks": ""
            },
            "colorscale": [
             [
              0,
              "#0d0887"
             ],
             [
              0.1111111111111111,
              "#46039f"
             ],
             [
              0.2222222222222222,
              "#7201a8"
             ],
             [
              0.3333333333333333,
              "#9c179e"
             ],
             [
              0.4444444444444444,
              "#bd3786"
             ],
             [
              0.5555555555555556,
              "#d8576b"
             ],
             [
              0.6666666666666666,
              "#ed7953"
             ],
             [
              0.7777777777777778,
              "#fb9f3a"
             ],
             [
              0.8888888888888888,
              "#fdca26"
             ],
             [
              1,
              "#f0f921"
             ]
            ],
            "type": "contour"
           }
          ],
          "contourcarpet": [
           {
            "colorbar": {
             "outlinewidth": 0,
             "ticks": ""
            },
            "type": "contourcarpet"
           }
          ],
          "heatmap": [
           {
            "colorbar": {
             "outlinewidth": 0,
             "ticks": ""
            },
            "colorscale": [
             [
              0,
              "#0d0887"
             ],
             [
              0.1111111111111111,
              "#46039f"
             ],
             [
              0.2222222222222222,
              "#7201a8"
             ],
             [
              0.3333333333333333,
              "#9c179e"
             ],
             [
              0.4444444444444444,
              "#bd3786"
             ],
             [
              0.5555555555555556,
              "#d8576b"
             ],
             [
              0.6666666666666666,
              "#ed7953"
             ],
             [
              0.7777777777777778,
              "#fb9f3a"
             ],
             [
              0.8888888888888888,
              "#fdca26"
             ],
             [
              1,
              "#f0f921"
             ]
            ],
            "type": "heatmap"
           }
          ],
          "heatmapgl": [
           {
            "colorbar": {
             "outlinewidth": 0,
             "ticks": ""
            },
            "colorscale": [
             [
              0,
              "#0d0887"
             ],
             [
              0.1111111111111111,
              "#46039f"
             ],
             [
              0.2222222222222222,
              "#7201a8"
             ],
             [
              0.3333333333333333,
              "#9c179e"
             ],
             [
              0.4444444444444444,
              "#bd3786"
             ],
             [
              0.5555555555555556,
              "#d8576b"
             ],
             [
              0.6666666666666666,
              "#ed7953"
             ],
             [
              0.7777777777777778,
              "#fb9f3a"
             ],
             [
              0.8888888888888888,
              "#fdca26"
             ],
             [
              1,
              "#f0f921"
             ]
            ],
            "type": "heatmapgl"
           }
          ],
          "histogram": [
           {
            "marker": {
             "colorbar": {
              "outlinewidth": 0,
              "ticks": ""
             }
            },
            "type": "histogram"
           }
          ],
          "histogram2d": [
           {
            "colorbar": {
             "outlinewidth": 0,
             "ticks": ""
            },
            "colorscale": [
             [
              0,
              "#0d0887"
             ],
             [
              0.1111111111111111,
              "#46039f"
             ],
             [
              0.2222222222222222,
              "#7201a8"
             ],
             [
              0.3333333333333333,
              "#9c179e"
             ],
             [
              0.4444444444444444,
              "#bd3786"
             ],
             [
              0.5555555555555556,
              "#d8576b"
             ],
             [
              0.6666666666666666,
              "#ed7953"
             ],
             [
              0.7777777777777778,
              "#fb9f3a"
             ],
             [
              0.8888888888888888,
              "#fdca26"
             ],
             [
              1,
              "#f0f921"
             ]
            ],
            "type": "histogram2d"
           }
          ],
          "histogram2dcontour": [
           {
            "colorbar": {
             "outlinewidth": 0,
             "ticks": ""
            },
            "colorscale": [
             [
              0,
              "#0d0887"
             ],
             [
              0.1111111111111111,
              "#46039f"
             ],
             [
              0.2222222222222222,
              "#7201a8"
             ],
             [
              0.3333333333333333,
              "#9c179e"
             ],
             [
              0.4444444444444444,
              "#bd3786"
             ],
             [
              0.5555555555555556,
              "#d8576b"
             ],
             [
              0.6666666666666666,
              "#ed7953"
             ],
             [
              0.7777777777777778,
              "#fb9f3a"
             ],
             [
              0.8888888888888888,
              "#fdca26"
             ],
             [
              1,
              "#f0f921"
             ]
            ],
            "type": "histogram2dcontour"
           }
          ],
          "mesh3d": [
           {
            "colorbar": {
             "outlinewidth": 0,
             "ticks": ""
            },
            "type": "mesh3d"
           }
          ],
          "parcoords": [
           {
            "line": {
             "colorbar": {
              "outlinewidth": 0,
              "ticks": ""
             }
            },
            "type": "parcoords"
           }
          ],
          "pie": [
           {
            "automargin": true,
            "type": "pie"
           }
          ],
          "scatter": [
           {
            "marker": {
             "colorbar": {
              "outlinewidth": 0,
              "ticks": ""
             }
            },
            "type": "scatter"
           }
          ],
          "scatter3d": [
           {
            "line": {
             "colorbar": {
              "outlinewidth": 0,
              "ticks": ""
             }
            },
            "marker": {
             "colorbar": {
              "outlinewidth": 0,
              "ticks": ""
             }
            },
            "type": "scatter3d"
           }
          ],
          "scattercarpet": [
           {
            "marker": {
             "colorbar": {
              "outlinewidth": 0,
              "ticks": ""
             }
            },
            "type": "scattercarpet"
           }
          ],
          "scattergeo": [
           {
            "marker": {
             "colorbar": {
              "outlinewidth": 0,
              "ticks": ""
             }
            },
            "type": "scattergeo"
           }
          ],
          "scattergl": [
           {
            "marker": {
             "colorbar": {
              "outlinewidth": 0,
              "ticks": ""
             }
            },
            "type": "scattergl"
           }
          ],
          "scattermapbox": [
           {
            "marker": {
             "colorbar": {
              "outlinewidth": 0,
              "ticks": ""
             }
            },
            "type": "scattermapbox"
           }
          ],
          "scatterpolar": [
           {
            "marker": {
             "colorbar": {
              "outlinewidth": 0,
              "ticks": ""
             }
            },
            "type": "scatterpolar"
           }
          ],
          "scatterpolargl": [
           {
            "marker": {
             "colorbar": {
              "outlinewidth": 0,
              "ticks": ""
             }
            },
            "type": "scatterpolargl"
           }
          ],
          "scatterternary": [
           {
            "marker": {
             "colorbar": {
              "outlinewidth": 0,
              "ticks": ""
             }
            },
            "type": "scatterternary"
           }
          ],
          "surface": [
           {
            "colorbar": {
             "outlinewidth": 0,
             "ticks": ""
            },
            "colorscale": [
             [
              0,
              "#0d0887"
             ],
             [
              0.1111111111111111,
              "#46039f"
             ],
             [
              0.2222222222222222,
              "#7201a8"
             ],
             [
              0.3333333333333333,
              "#9c179e"
             ],
             [
              0.4444444444444444,
              "#bd3786"
             ],
             [
              0.5555555555555556,
              "#d8576b"
             ],
             [
              0.6666666666666666,
              "#ed7953"
             ],
             [
              0.7777777777777778,
              "#fb9f3a"
             ],
             [
              0.8888888888888888,
              "#fdca26"
             ],
             [
              1,
              "#f0f921"
             ]
            ],
            "type": "surface"
           }
          ],
          "table": [
           {
            "cells": {
             "fill": {
              "color": "#EBF0F8"
             },
             "line": {
              "color": "white"
             }
            },
            "header": {
             "fill": {
              "color": "#C8D4E3"
             },
             "line": {
              "color": "white"
             }
            },
            "type": "table"
           }
          ]
         },
         "layout": {
          "annotationdefaults": {
           "arrowcolor": "#2a3f5f",
           "arrowhead": 0,
           "arrowwidth": 1
          },
          "coloraxis": {
           "colorbar": {
            "outlinewidth": 0,
            "ticks": ""
           }
          },
          "colorscale": {
           "diverging": [
            [
             0,
             "#8e0152"
            ],
            [
             0.1,
             "#c51b7d"
            ],
            [
             0.2,
             "#de77ae"
            ],
            [
             0.3,
             "#f1b6da"
            ],
            [
             0.4,
             "#fde0ef"
            ],
            [
             0.5,
             "#f7f7f7"
            ],
            [
             0.6,
             "#e6f5d0"
            ],
            [
             0.7,
             "#b8e186"
            ],
            [
             0.8,
             "#7fbc41"
            ],
            [
             0.9,
             "#4d9221"
            ],
            [
             1,
             "#276419"
            ]
           ],
           "sequential": [
            [
             0,
             "#0d0887"
            ],
            [
             0.1111111111111111,
             "#46039f"
            ],
            [
             0.2222222222222222,
             "#7201a8"
            ],
            [
             0.3333333333333333,
             "#9c179e"
            ],
            [
             0.4444444444444444,
             "#bd3786"
            ],
            [
             0.5555555555555556,
             "#d8576b"
            ],
            [
             0.6666666666666666,
             "#ed7953"
            ],
            [
             0.7777777777777778,
             "#fb9f3a"
            ],
            [
             0.8888888888888888,
             "#fdca26"
            ],
            [
             1,
             "#f0f921"
            ]
           ],
           "sequentialminus": [
            [
             0,
             "#0d0887"
            ],
            [
             0.1111111111111111,
             "#46039f"
            ],
            [
             0.2222222222222222,
             "#7201a8"
            ],
            [
             0.3333333333333333,
             "#9c179e"
            ],
            [
             0.4444444444444444,
             "#bd3786"
            ],
            [
             0.5555555555555556,
             "#d8576b"
            ],
            [
             0.6666666666666666,
             "#ed7953"
            ],
            [
             0.7777777777777778,
             "#fb9f3a"
            ],
            [
             0.8888888888888888,
             "#fdca26"
            ],
            [
             1,
             "#f0f921"
            ]
           ]
          },
          "colorway": [
           "#636efa",
           "#EF553B",
           "#00cc96",
           "#ab63fa",
           "#FFA15A",
           "#19d3f3",
           "#FF6692",
           "#B6E880",
           "#FF97FF",
           "#FECB52"
          ],
          "font": {
           "color": "#2a3f5f"
          },
          "geo": {
           "bgcolor": "white",
           "lakecolor": "white",
           "landcolor": "#E5ECF6",
           "showlakes": true,
           "showland": true,
           "subunitcolor": "white"
          },
          "hoverlabel": {
           "align": "left"
          },
          "hovermode": "closest",
          "mapbox": {
           "style": "light"
          },
          "paper_bgcolor": "white",
          "plot_bgcolor": "#E5ECF6",
          "polar": {
           "angularaxis": {
            "gridcolor": "white",
            "linecolor": "white",
            "ticks": ""
           },
           "bgcolor": "#E5ECF6",
           "radialaxis": {
            "gridcolor": "white",
            "linecolor": "white",
            "ticks": ""
           }
          },
          "scene": {
           "xaxis": {
            "backgroundcolor": "#E5ECF6",
            "gridcolor": "white",
            "gridwidth": 2,
            "linecolor": "white",
            "showbackground": true,
            "ticks": "",
            "zerolinecolor": "white"
           },
           "yaxis": {
            "backgroundcolor": "#E5ECF6",
            "gridcolor": "white",
            "gridwidth": 2,
            "linecolor": "white",
            "showbackground": true,
            "ticks": "",
            "zerolinecolor": "white"
           },
           "zaxis": {
            "backgroundcolor": "#E5ECF6",
            "gridcolor": "white",
            "gridwidth": 2,
            "linecolor": "white",
            "showbackground": true,
            "ticks": "",
            "zerolinecolor": "white"
           }
          },
          "shapedefaults": {
           "line": {
            "color": "#2a3f5f"
           }
          },
          "ternary": {
           "aaxis": {
            "gridcolor": "white",
            "linecolor": "white",
            "ticks": ""
           },
           "baxis": {
            "gridcolor": "white",
            "linecolor": "white",
            "ticks": ""
           },
           "bgcolor": "#E5ECF6",
           "caxis": {
            "gridcolor": "white",
            "linecolor": "white",
            "ticks": ""
           }
          },
          "title": {
           "x": 0.05
          },
          "xaxis": {
           "automargin": true,
           "gridcolor": "white",
           "linecolor": "white",
           "ticks": "",
           "title": {
            "standoff": 15
           },
           "zerolinecolor": "white",
           "zerolinewidth": 2
          },
          "yaxis": {
           "automargin": true,
           "gridcolor": "white",
           "linecolor": "white",
           "ticks": "",
           "title": {
            "standoff": 15
           },
           "zerolinecolor": "white",
           "zerolinewidth": 2
          }
         }
        },
        "title": {
         "text": "custom tick labels"
        },
        "xaxis": {
         "anchor": "y",
         "domain": [
          0,
          1
         ],
         "title": {
          "text": "date_cor"
         }
        },
        "yaxis": {
         "anchor": "x",
         "domain": [
          0,
          1
         ],
         "title": {
          "text": "value"
         }
        }
       }
      },
      "text/html": [
       "<div>\n",
       "        \n",
       "        \n",
       "            <div id=\"b73fde5f-3391-47f6-8d84-7c40c2aa39de\" class=\"plotly-graph-div\" style=\"height:525px; width:100%;\"></div>\n",
       "            <script type=\"text/javascript\">\n",
       "                require([\"plotly\"], function(Plotly) {\n",
       "                    window.PLOTLYENV=window.PLOTLYENV || {};\n",
       "                    \n",
       "                if (document.getElementById(\"b73fde5f-3391-47f6-8d84-7c40c2aa39de\")) {\n",
       "                    Plotly.newPlot(\n",
       "                        'b73fde5f-3391-47f6-8d84-7c40c2aa39de',\n",
       "                        [{\"hovertemplate\": \"variable=ALMACENES EXITO INVERSIONES S.A.S.<br>date_cor=%{x}<br>value=%{y}<extra></extra>\", \"legendgroup\": \"ALMACENES EXITO INVERSIONES S.A.S.\", \"line\": {\"color\": \"#636efa\", \"dash\": \"solid\"}, \"mode\": \"lines\", \"name\": \"ALMACENES EXITO INVERSIONES S.A.S.\", \"orientation\": \"v\", \"showlegend\": true, \"type\": \"scatter\", \"x\": [\"2017-06-30T23:59:59.999999\", \"2017-09-30T23:59:59.999999\", \"2017-12-31T23:59:59.999999\", \"2018-03-31T23:59:59.999999\", \"2018-06-30T23:59:59.999999\", \"2018-09-30T23:59:59.999999\", \"2018-12-31T23:59:59.999999\", \"2019-03-31T23:59:59.999999\", \"2019-06-30T23:59:59.999999\", \"2019-09-30T23:59:59.999999\", \"2019-12-31T23:59:59.999999\", \"2020-03-31T23:59:59.999999\"], \"xaxis\": \"x\", \"y\": [1200157.0, 1320004.0, 1304423.0, 1541515.0, 1304353.0, 1351272.0, 1756554.0, 1698455.0, 3914568.0, 1541266.0, 2291724.0, 3813871.0], \"yaxis\": \"y\"}, {\"hovertemplate\": \"variable=AVANTEL S.A.S<br>date_cor=%{x}<br>value=%{y}<extra></extra>\", \"legendgroup\": \"AVANTEL S.A.S\", \"line\": {\"color\": \"#EF553B\", \"dash\": \"solid\"}, \"mode\": \"lines\", \"name\": \"AVANTEL S.A.S\", \"orientation\": \"v\", \"showlegend\": true, \"type\": \"scatter\", \"x\": [\"2017-06-30T23:59:59.999999\", \"2017-09-30T23:59:59.999999\", \"2017-12-31T23:59:59.999999\", \"2018-03-31T23:59:59.999999\", \"2018-06-30T23:59:59.999999\", \"2018-09-30T23:59:59.999999\", \"2018-12-31T23:59:59.999999\", \"2019-03-31T23:59:59.999999\", \"2019-06-30T23:59:59.999999\", \"2019-09-30T23:59:59.999999\", \"2019-12-31T23:59:59.999999\", \"2020-03-31T23:59:59.999999\"], \"xaxis\": \"x\", \"y\": [126220118.0, 8384986.0, 8312849.0, 8709468.0, 9248152.0, 9429264.0, 9154336.0, 8515104.0, 7633975.0, 11944575.0, 7349693.0, 7275800.0], \"yaxis\": \"y\"}, {\"hovertemplate\": \"variable=COLOMBIA MOVIL  S.A ESP<br>date_cor=%{x}<br>value=%{y}<extra></extra>\", \"legendgroup\": \"COLOMBIA MOVIL  S.A ESP\", \"line\": {\"color\": \"#00cc96\", \"dash\": \"solid\"}, \"mode\": \"lines\", \"name\": \"COLOMBIA MOVIL  S.A ESP\", \"orientation\": \"v\", \"showlegend\": true, \"type\": \"scatter\", \"x\": [\"2017-06-30T23:59:59.999999\", \"2017-09-30T23:59:59.999999\", \"2017-12-31T23:59:59.999999\", \"2018-03-31T23:59:59.999999\", \"2018-06-30T23:59:59.999999\", \"2018-09-30T23:59:59.999999\", \"2018-12-31T23:59:59.999999\", \"2019-03-31T23:59:59.999999\", \"2019-06-30T23:59:59.999999\", \"2019-09-30T23:59:59.999999\", \"2019-12-31T23:59:59.999999\", \"2020-03-31T23:59:59.999999\"], \"xaxis\": \"x\", \"y\": [40562796.0, 47360978.0, 51819944.0, 59527610.0, 60710406.0, 64054520.0, 65590214.0, 73006846.0, 83878663.0, 82294447.0, 87701853.0, 89954632.0], \"yaxis\": \"y\"}, {\"hovertemplate\": \"variable=COLOMBIA TELECOMUNICACIONES S.A. E.S.P.<br>date_cor=%{x}<br>value=%{y}<extra></extra>\", \"legendgroup\": \"COLOMBIA TELECOMUNICACIONES S.A. E.S.P.\", \"line\": {\"color\": \"#ab63fa\", \"dash\": \"solid\"}, \"mode\": \"lines\", \"name\": \"COLOMBIA TELECOMUNICACIONES S.A. E.S.P.\", \"orientation\": \"v\", \"showlegend\": true, \"type\": \"scatter\", \"x\": [\"2017-06-30T23:59:59.999999\", \"2017-09-30T23:59:59.999999\", \"2017-12-31T23:59:59.999999\", \"2018-03-31T23:59:59.999999\", \"2018-06-30T23:59:59.999999\", \"2018-09-30T23:59:59.999999\", \"2018-12-31T23:59:59.999999\", \"2019-03-31T23:59:59.999999\", \"2019-06-30T23:59:59.999999\", \"2019-09-30T23:59:59.999999\", \"2019-12-31T23:59:59.999999\", \"2020-03-31T23:59:59.999999\"], \"xaxis\": \"x\", \"y\": [90891089.0, 89917435.0, 85681633.0, 86889703.0, 90268433.0, 101549385.0, 78465534.0, 65452577.0, 76732390.0, 70285182.0, 48247998.0, 47533184.0], \"yaxis\": \"y\"}, {\"hovertemplate\": \"variable=COMUNICACION CELULAR S A COMCEL S A<br>date_cor=%{x}<br>value=%{y}<extra></extra>\", \"legendgroup\": \"COMUNICACION CELULAR S A COMCEL S A\", \"line\": {\"color\": \"#FFA15A\", \"dash\": \"solid\"}, \"mode\": \"lines\", \"name\": \"COMUNICACION CELULAR S A COMCEL S A\", \"orientation\": \"v\", \"showlegend\": true, \"type\": \"scatter\", \"x\": [\"2017-06-30T23:59:59.999999\", \"2017-09-30T23:59:59.999999\", \"2017-12-31T23:59:59.999999\", \"2018-03-31T23:59:59.999999\", \"2018-06-30T23:59:59.999999\", \"2018-09-30T23:59:59.999999\", \"2018-12-31T23:59:59.999999\", \"2019-03-31T23:59:59.999999\", \"2019-06-30T23:59:59.999999\", \"2019-09-30T23:59:59.999999\", \"2019-12-31T23:59:59.999999\", \"2020-03-31T23:59:59.999999\"], \"xaxis\": \"x\", \"y\": [329111589.0, 329180789.0, 331493876.0, 332624963.0, 327282613.0, 338658222.0, 318042853.0, 325032560.0, 320145465.0, 313034665.0, 316070035.0, 339877968.0], \"yaxis\": \"y\"}, {\"hovertemplate\": \"variable=EMPRESA DE TELECOMUNICACIONES DE BOGOTA S.A. ESP<br>date_cor=%{x}<br>value=%{y}<extra></extra>\", \"legendgroup\": \"EMPRESA DE TELECOMUNICACIONES DE BOGOTA S.A. ESP\", \"line\": {\"color\": \"#19d3f3\", \"dash\": \"solid\"}, \"mode\": \"lines\", \"name\": \"EMPRESA DE TELECOMUNICACIONES DE BOGOTA S.A. ESP\", \"orientation\": \"v\", \"showlegend\": true, \"type\": \"scatter\", \"x\": [\"2017-06-30T23:59:59.999999\", \"2017-09-30T23:59:59.999999\", \"2017-12-31T23:59:59.999999\", \"2018-03-31T23:59:59.999999\", \"2018-06-30T23:59:59.999999\", \"2018-09-30T23:59:59.999999\", \"2018-12-31T23:59:59.999999\", \"2019-03-31T23:59:59.999999\", \"2019-06-30T23:59:59.999999\", \"2019-09-30T23:59:59.999999\", \"2019-12-31T23:59:59.999999\", \"2020-03-31T23:59:59.999999\"], \"xaxis\": \"x\", \"y\": [1579211.0, 1539201.0, 1900178.0, 2004238.0, 2005701.0, 2049501.0, 1864253.0, 1681650.0, 1492238.0, 1357396.0, 1549660.0, 1504278.0], \"yaxis\": \"y\"}, {\"hovertemplate\": \"variable=LOGISTICA FLASH COLOMBIA S.A.S<br>date_cor=%{x}<br>value=%{y}<extra></extra>\", \"legendgroup\": \"LOGISTICA FLASH COLOMBIA S.A.S\", \"line\": {\"color\": \"#FF6692\", \"dash\": \"solid\"}, \"mode\": \"lines\", \"name\": \"LOGISTICA FLASH COLOMBIA S.A.S\", \"orientation\": \"v\", \"showlegend\": true, \"type\": \"scatter\", \"x\": [\"2017-06-30T23:59:59.999999\", \"2017-09-30T23:59:59.999999\", \"2017-12-31T23:59:59.999999\", \"2018-03-31T23:59:59.999999\", \"2018-06-30T23:59:59.999999\", \"2018-09-30T23:59:59.999999\", \"2018-12-31T23:59:59.999999\", \"2019-03-31T23:59:59.999999\", \"2019-06-30T23:59:59.999999\", \"2019-09-30T23:59:59.999999\", \"2019-12-31T23:59:59.999999\", \"2020-03-31T23:59:59.999999\"], \"xaxis\": \"x\", \"y\": [0.0, 0.0, 0.0, 0.0, 0.0, 250248.0, 3933880.0, 3713829.0, 3713416.0, 2143945.0, 1425396.0, 1289364.0], \"yaxis\": \"y\"}, {\"hovertemplate\": \"variable=SUMA MOVIL S.A.S.<br>date_cor=%{x}<br>value=%{y}<extra></extra>\", \"legendgroup\": \"SUMA MOVIL S.A.S.\", \"line\": {\"color\": \"#B6E880\", \"dash\": \"solid\"}, \"mode\": \"lines\", \"name\": \"SUMA MOVIL S.A.S.\", \"orientation\": \"v\", \"showlegend\": true, \"type\": \"scatter\", \"x\": [\"2017-06-30T23:59:59.999999\", \"2017-09-30T23:59:59.999999\", \"2017-12-31T23:59:59.999999\", \"2018-03-31T23:59:59.999999\", \"2018-06-30T23:59:59.999999\", \"2018-09-30T23:59:59.999999\", \"2018-12-31T23:59:59.999999\", \"2019-03-31T23:59:59.999999\", \"2019-06-30T23:59:59.999999\", \"2019-09-30T23:59:59.999999\", \"2019-12-31T23:59:59.999999\", \"2020-03-31T23:59:59.999999\"], \"xaxis\": \"x\", \"y\": [0.0, 0.0, 0.0, 98.0, 1068.0, 1238.0, 1398.0, 835.0, 5620.0, 3295.0, 15857.0, 12753.0], \"yaxis\": \"y\"}, {\"hovertemplate\": \"variable=UFF MOVIL SAS<br>date_cor=%{x}<br>value=%{y}<extra></extra>\", \"legendgroup\": \"UFF MOVIL SAS\", \"line\": {\"color\": \"#FF97FF\", \"dash\": \"solid\"}, \"mode\": \"lines\", \"name\": \"UFF MOVIL SAS\", \"orientation\": \"v\", \"showlegend\": true, \"type\": \"scatter\", \"x\": [\"2017-06-30T23:59:59.999999\", \"2017-09-30T23:59:59.999999\", \"2017-12-31T23:59:59.999999\", \"2018-03-31T23:59:59.999999\", \"2018-06-30T23:59:59.999999\", \"2018-09-30T23:59:59.999999\", \"2018-12-31T23:59:59.999999\", \"2019-03-31T23:59:59.999999\", \"2019-06-30T23:59:59.999999\", \"2019-09-30T23:59:59.999999\", \"2019-12-31T23:59:59.999999\", \"2020-03-31T23:59:59.999999\"], \"xaxis\": \"x\", \"y\": [164219.0, 157367.0, 139519.0, 122920.0, 108035.0, 0.0, 0.0, 0.0, 0.0, 0.0, 0.0, 0.0], \"yaxis\": \"y\"}, {\"hovertemplate\": \"variable=VIRGIN MOBILE COLOMBIA S.A.S.<br>date_cor=%{x}<br>value=%{y}<extra></extra>\", \"legendgroup\": \"VIRGIN MOBILE COLOMBIA S.A.S.\", \"line\": {\"color\": \"#FECB52\", \"dash\": \"solid\"}, \"mode\": \"lines\", \"name\": \"VIRGIN MOBILE COLOMBIA S.A.S.\", \"orientation\": \"v\", \"showlegend\": true, \"type\": \"scatter\", \"x\": [\"2017-06-30T23:59:59.999999\", \"2017-09-30T23:59:59.999999\", \"2017-12-31T23:59:59.999999\", \"2018-03-31T23:59:59.999999\", \"2018-06-30T23:59:59.999999\", \"2018-09-30T23:59:59.999999\", \"2018-12-31T23:59:59.999999\", \"2019-03-31T23:59:59.999999\", \"2019-06-30T23:59:59.999999\", \"2019-09-30T23:59:59.999999\", \"2019-12-31T23:59:59.999999\", \"2020-03-31T23:59:59.999999\"], \"xaxis\": \"x\", \"y\": [6923273.0, 6370565.0, 6161863.0, 5773094.0, 5237194.0, 5011224.0, 4639107.0, 4281902.0, 4012653.0, 3806962.0, 3592917.0, 4035465.0], \"yaxis\": \"y\"}],\n",
       "                        {\"legend\": {\"title\": {\"text\": \"variable\"}, \"tracegroupgap\": 0}, \"template\": {\"data\": {\"bar\": [{\"error_x\": {\"color\": \"#2a3f5f\"}, \"error_y\": {\"color\": \"#2a3f5f\"}, \"marker\": {\"line\": {\"color\": \"#E5ECF6\", \"width\": 0.5}}, \"type\": \"bar\"}], \"barpolar\": [{\"marker\": {\"line\": {\"color\": \"#E5ECF6\", \"width\": 0.5}}, \"type\": \"barpolar\"}], \"carpet\": [{\"aaxis\": {\"endlinecolor\": \"#2a3f5f\", \"gridcolor\": \"white\", \"linecolor\": \"white\", \"minorgridcolor\": \"white\", \"startlinecolor\": \"#2a3f5f\"}, \"baxis\": {\"endlinecolor\": \"#2a3f5f\", \"gridcolor\": \"white\", \"linecolor\": \"white\", \"minorgridcolor\": \"white\", \"startlinecolor\": \"#2a3f5f\"}, \"type\": \"carpet\"}], \"choropleth\": [{\"colorbar\": {\"outlinewidth\": 0, \"ticks\": \"\"}, \"type\": \"choropleth\"}], \"contour\": [{\"colorbar\": {\"outlinewidth\": 0, \"ticks\": \"\"}, \"colorscale\": [[0.0, \"#0d0887\"], [0.1111111111111111, \"#46039f\"], [0.2222222222222222, \"#7201a8\"], [0.3333333333333333, \"#9c179e\"], [0.4444444444444444, \"#bd3786\"], [0.5555555555555556, \"#d8576b\"], [0.6666666666666666, \"#ed7953\"], [0.7777777777777778, \"#fb9f3a\"], [0.8888888888888888, \"#fdca26\"], [1.0, \"#f0f921\"]], \"type\": \"contour\"}], \"contourcarpet\": [{\"colorbar\": {\"outlinewidth\": 0, \"ticks\": \"\"}, \"type\": \"contourcarpet\"}], \"heatmap\": [{\"colorbar\": {\"outlinewidth\": 0, \"ticks\": \"\"}, \"colorscale\": [[0.0, \"#0d0887\"], [0.1111111111111111, \"#46039f\"], [0.2222222222222222, \"#7201a8\"], [0.3333333333333333, \"#9c179e\"], [0.4444444444444444, \"#bd3786\"], [0.5555555555555556, \"#d8576b\"], [0.6666666666666666, \"#ed7953\"], [0.7777777777777778, \"#fb9f3a\"], [0.8888888888888888, \"#fdca26\"], [1.0, \"#f0f921\"]], \"type\": \"heatmap\"}], \"heatmapgl\": [{\"colorbar\": {\"outlinewidth\": 0, \"ticks\": \"\"}, \"colorscale\": [[0.0, \"#0d0887\"], [0.1111111111111111, \"#46039f\"], [0.2222222222222222, \"#7201a8\"], [0.3333333333333333, \"#9c179e\"], [0.4444444444444444, \"#bd3786\"], [0.5555555555555556, \"#d8576b\"], [0.6666666666666666, \"#ed7953\"], [0.7777777777777778, \"#fb9f3a\"], [0.8888888888888888, \"#fdca26\"], [1.0, \"#f0f921\"]], \"type\": \"heatmapgl\"}], \"histogram\": [{\"marker\": {\"colorbar\": {\"outlinewidth\": 0, \"ticks\": \"\"}}, \"type\": \"histogram\"}], \"histogram2d\": [{\"colorbar\": {\"outlinewidth\": 0, \"ticks\": \"\"}, \"colorscale\": [[0.0, \"#0d0887\"], [0.1111111111111111, \"#46039f\"], [0.2222222222222222, \"#7201a8\"], [0.3333333333333333, \"#9c179e\"], [0.4444444444444444, \"#bd3786\"], [0.5555555555555556, \"#d8576b\"], [0.6666666666666666, \"#ed7953\"], [0.7777777777777778, \"#fb9f3a\"], [0.8888888888888888, \"#fdca26\"], [1.0, \"#f0f921\"]], \"type\": \"histogram2d\"}], \"histogram2dcontour\": [{\"colorbar\": {\"outlinewidth\": 0, \"ticks\": \"\"}, \"colorscale\": [[0.0, \"#0d0887\"], [0.1111111111111111, \"#46039f\"], [0.2222222222222222, \"#7201a8\"], [0.3333333333333333, \"#9c179e\"], [0.4444444444444444, \"#bd3786\"], [0.5555555555555556, \"#d8576b\"], [0.6666666666666666, \"#ed7953\"], [0.7777777777777778, \"#fb9f3a\"], [0.8888888888888888, \"#fdca26\"], [1.0, \"#f0f921\"]], \"type\": \"histogram2dcontour\"}], \"mesh3d\": [{\"colorbar\": {\"outlinewidth\": 0, \"ticks\": \"\"}, \"type\": \"mesh3d\"}], \"parcoords\": [{\"line\": {\"colorbar\": {\"outlinewidth\": 0, \"ticks\": \"\"}}, \"type\": \"parcoords\"}], \"pie\": [{\"automargin\": true, \"type\": \"pie\"}], \"scatter\": [{\"marker\": {\"colorbar\": {\"outlinewidth\": 0, \"ticks\": \"\"}}, \"type\": \"scatter\"}], \"scatter3d\": [{\"line\": {\"colorbar\": {\"outlinewidth\": 0, \"ticks\": \"\"}}, \"marker\": {\"colorbar\": {\"outlinewidth\": 0, \"ticks\": \"\"}}, \"type\": \"scatter3d\"}], \"scattercarpet\": [{\"marker\": {\"colorbar\": {\"outlinewidth\": 0, \"ticks\": \"\"}}, \"type\": \"scattercarpet\"}], \"scattergeo\": [{\"marker\": {\"colorbar\": {\"outlinewidth\": 0, \"ticks\": \"\"}}, \"type\": \"scattergeo\"}], \"scattergl\": [{\"marker\": {\"colorbar\": {\"outlinewidth\": 0, \"ticks\": \"\"}}, \"type\": \"scattergl\"}], \"scattermapbox\": [{\"marker\": {\"colorbar\": {\"outlinewidth\": 0, \"ticks\": \"\"}}, \"type\": \"scattermapbox\"}], \"scatterpolar\": [{\"marker\": {\"colorbar\": {\"outlinewidth\": 0, \"ticks\": \"\"}}, \"type\": \"scatterpolar\"}], \"scatterpolargl\": [{\"marker\": {\"colorbar\": {\"outlinewidth\": 0, \"ticks\": \"\"}}, \"type\": \"scatterpolargl\"}], \"scatterternary\": [{\"marker\": {\"colorbar\": {\"outlinewidth\": 0, \"ticks\": \"\"}}, \"type\": \"scatterternary\"}], \"surface\": [{\"colorbar\": {\"outlinewidth\": 0, \"ticks\": \"\"}, \"colorscale\": [[0.0, \"#0d0887\"], [0.1111111111111111, \"#46039f\"], [0.2222222222222222, \"#7201a8\"], [0.3333333333333333, \"#9c179e\"], [0.4444444444444444, \"#bd3786\"], [0.5555555555555556, \"#d8576b\"], [0.6666666666666666, \"#ed7953\"], [0.7777777777777778, \"#fb9f3a\"], [0.8888888888888888, \"#fdca26\"], [1.0, \"#f0f921\"]], \"type\": \"surface\"}], \"table\": [{\"cells\": {\"fill\": {\"color\": \"#EBF0F8\"}, \"line\": {\"color\": \"white\"}}, \"header\": {\"fill\": {\"color\": \"#C8D4E3\"}, \"line\": {\"color\": \"white\"}}, \"type\": \"table\"}]}, \"layout\": {\"annotationdefaults\": {\"arrowcolor\": \"#2a3f5f\", \"arrowhead\": 0, \"arrowwidth\": 1}, \"coloraxis\": {\"colorbar\": {\"outlinewidth\": 0, \"ticks\": \"\"}}, \"colorscale\": {\"diverging\": [[0, \"#8e0152\"], [0.1, \"#c51b7d\"], [0.2, \"#de77ae\"], [0.3, \"#f1b6da\"], [0.4, \"#fde0ef\"], [0.5, \"#f7f7f7\"], [0.6, \"#e6f5d0\"], [0.7, \"#b8e186\"], [0.8, \"#7fbc41\"], [0.9, \"#4d9221\"], [1, \"#276419\"]], \"sequential\": [[0.0, \"#0d0887\"], [0.1111111111111111, \"#46039f\"], [0.2222222222222222, \"#7201a8\"], [0.3333333333333333, \"#9c179e\"], [0.4444444444444444, \"#bd3786\"], [0.5555555555555556, \"#d8576b\"], [0.6666666666666666, \"#ed7953\"], [0.7777777777777778, \"#fb9f3a\"], [0.8888888888888888, \"#fdca26\"], [1.0, \"#f0f921\"]], \"sequentialminus\": [[0.0, \"#0d0887\"], [0.1111111111111111, \"#46039f\"], [0.2222222222222222, \"#7201a8\"], [0.3333333333333333, \"#9c179e\"], [0.4444444444444444, \"#bd3786\"], [0.5555555555555556, \"#d8576b\"], [0.6666666666666666, \"#ed7953\"], [0.7777777777777778, \"#fb9f3a\"], [0.8888888888888888, \"#fdca26\"], [1.0, \"#f0f921\"]]}, \"colorway\": [\"#636efa\", \"#EF553B\", \"#00cc96\", \"#ab63fa\", \"#FFA15A\", \"#19d3f3\", \"#FF6692\", \"#B6E880\", \"#FF97FF\", \"#FECB52\"], \"font\": {\"color\": \"#2a3f5f\"}, \"geo\": {\"bgcolor\": \"white\", \"lakecolor\": \"white\", \"landcolor\": \"#E5ECF6\", \"showlakes\": true, \"showland\": true, \"subunitcolor\": \"white\"}, \"hoverlabel\": {\"align\": \"left\"}, \"hovermode\": \"closest\", \"mapbox\": {\"style\": \"light\"}, \"paper_bgcolor\": \"white\", \"plot_bgcolor\": \"#E5ECF6\", \"polar\": {\"angularaxis\": {\"gridcolor\": \"white\", \"linecolor\": \"white\", \"ticks\": \"\"}, \"bgcolor\": \"#E5ECF6\", \"radialaxis\": {\"gridcolor\": \"white\", \"linecolor\": \"white\", \"ticks\": \"\"}}, \"scene\": {\"xaxis\": {\"backgroundcolor\": \"#E5ECF6\", \"gridcolor\": \"white\", \"gridwidth\": 2, \"linecolor\": \"white\", \"showbackground\": true, \"ticks\": \"\", \"zerolinecolor\": \"white\"}, \"yaxis\": {\"backgroundcolor\": \"#E5ECF6\", \"gridcolor\": \"white\", \"gridwidth\": 2, \"linecolor\": \"white\", \"showbackground\": true, \"ticks\": \"\", \"zerolinecolor\": \"white\"}, \"zaxis\": {\"backgroundcolor\": \"#E5ECF6\", \"gridcolor\": \"white\", \"gridwidth\": 2, \"linecolor\": \"white\", \"showbackground\": true, \"ticks\": \"\", \"zerolinecolor\": \"white\"}}, \"shapedefaults\": {\"line\": {\"color\": \"#2a3f5f\"}}, \"ternary\": {\"aaxis\": {\"gridcolor\": \"white\", \"linecolor\": \"white\", \"ticks\": \"\"}, \"baxis\": {\"gridcolor\": \"white\", \"linecolor\": \"white\", \"ticks\": \"\"}, \"bgcolor\": \"#E5ECF6\", \"caxis\": {\"gridcolor\": \"white\", \"linecolor\": \"white\", \"ticks\": \"\"}}, \"title\": {\"x\": 0.05}, \"xaxis\": {\"automargin\": true, \"gridcolor\": \"white\", \"linecolor\": \"white\", \"ticks\": \"\", \"title\": {\"standoff\": 15}, \"zerolinecolor\": \"white\", \"zerolinewidth\": 2}, \"yaxis\": {\"automargin\": true, \"gridcolor\": \"white\", \"linecolor\": \"white\", \"ticks\": \"\", \"title\": {\"standoff\": 15}, \"zerolinecolor\": \"white\", \"zerolinewidth\": 2}}}, \"title\": {\"text\": \"custom tick labels\"}, \"xaxis\": {\"anchor\": \"y\", \"domain\": [0.0, 1.0], \"title\": {\"text\": \"date_cor\"}}, \"yaxis\": {\"anchor\": \"x\", \"domain\": [0.0, 1.0], \"title\": {\"text\": \"value\"}}},\n",
       "                        {\"responsive\": true}\n",
       "                    ).then(function(){\n",
       "                            \n",
       "var gd = document.getElementById('b73fde5f-3391-47f6-8d84-7c40c2aa39de');\n",
       "var x = new MutationObserver(function (mutations, observer) {{\n",
       "        var display = window.getComputedStyle(gd).display;\n",
       "        if (!display || display === 'none') {{\n",
       "            console.log([gd, 'removed!']);\n",
       "            Plotly.purge(gd);\n",
       "            observer.disconnect();\n",
       "        }}\n",
       "}});\n",
       "\n",
       "// Listen for the removal of the full notebook cells\n",
       "var notebookContainer = gd.closest('#notebook-container');\n",
       "if (notebookContainer) {{\n",
       "    x.observe(notebookContainer, {childList: true});\n",
       "}}\n",
       "\n",
       "// Listen for the clearing of the current output cell\n",
       "var outputEl = gd.closest('.output');\n",
       "if (outputEl) {{\n",
       "    x.observe(outputEl, {childList: true});\n",
       "}}\n",
       "\n",
       "                        })\n",
       "                };\n",
       "                });\n",
       "            </script>\n",
       "        </div>"
      ]
     },
     "metadata": {},
     "output_type": "display_data"
    }
   ],
   "source": [
    "fig2 = px.line(DF3, x='date_cor', y=DF3.columns[1:],title='custom tick labels')\n",
    "fig2.show()"
   ]
  },
  {
   "cell_type": "code",
   "execution_count": 100,
   "metadata": {},
   "outputs": [
    {
     "data": {
      "application/vnd.plotly.v1+json": {
       "config": {
        "plotlyServerURL": "https://plot.ly"
       },
       "data": [
        {
         "customdata": [
          [
           "2018-01-01"
          ],
          [
           "2018-01-08"
          ],
          [
           "2018-01-15"
          ],
          [
           "2018-01-22"
          ],
          [
           "2018-01-29"
          ],
          [
           "2018-02-05"
          ],
          [
           "2018-02-12"
          ],
          [
           "2018-02-19"
          ],
          [
           "2018-02-26"
          ],
          [
           "2018-03-05"
          ],
          [
           "2018-03-12"
          ],
          [
           "2018-03-19"
          ],
          [
           "2018-03-26"
          ],
          [
           "2018-04-02"
          ],
          [
           "2018-04-09"
          ],
          [
           "2018-04-16"
          ],
          [
           "2018-04-23"
          ],
          [
           "2018-04-30"
          ],
          [
           "2018-05-07"
          ],
          [
           "2018-05-14"
          ],
          [
           "2018-05-21"
          ],
          [
           "2018-05-28"
          ],
          [
           "2018-06-04"
          ],
          [
           "2018-06-11"
          ],
          [
           "2018-06-18"
          ],
          [
           "2018-06-25"
          ],
          [
           "2018-07-02"
          ],
          [
           "2018-07-09"
          ],
          [
           "2018-07-16"
          ],
          [
           "2018-07-23"
          ],
          [
           "2018-07-30"
          ],
          [
           "2018-08-06"
          ],
          [
           "2018-08-13"
          ],
          [
           "2018-08-20"
          ],
          [
           "2018-08-27"
          ],
          [
           "2018-09-03"
          ],
          [
           "2018-09-10"
          ],
          [
           "2018-09-17"
          ],
          [
           "2018-09-24"
          ],
          [
           "2018-10-01"
          ],
          [
           "2018-10-08"
          ],
          [
           "2018-10-15"
          ],
          [
           "2018-10-22"
          ],
          [
           "2018-10-29"
          ],
          [
           "2018-11-05"
          ],
          [
           "2018-11-12"
          ],
          [
           "2018-11-19"
          ],
          [
           "2018-11-26"
          ],
          [
           "2018-12-03"
          ],
          [
           "2018-12-10"
          ],
          [
           "2018-12-17"
          ],
          [
           "2018-12-24"
          ],
          [
           "2018-12-31"
          ],
          [
           "2019-01-07"
          ],
          [
           "2019-01-14"
          ],
          [
           "2019-01-21"
          ],
          [
           "2019-01-28"
          ],
          [
           "2019-02-04"
          ],
          [
           "2019-02-11"
          ],
          [
           "2019-02-18"
          ],
          [
           "2019-02-25"
          ],
          [
           "2019-03-04"
          ],
          [
           "2019-03-11"
          ],
          [
           "2019-03-18"
          ],
          [
           "2019-03-25"
          ],
          [
           "2019-04-01"
          ],
          [
           "2019-04-08"
          ],
          [
           "2019-04-15"
          ],
          [
           "2019-04-22"
          ],
          [
           "2019-04-29"
          ],
          [
           "2019-05-06"
          ],
          [
           "2019-05-13"
          ],
          [
           "2019-05-20"
          ],
          [
           "2019-05-27"
          ],
          [
           "2019-06-03"
          ],
          [
           "2019-06-10"
          ],
          [
           "2019-06-17"
          ],
          [
           "2019-06-24"
          ],
          [
           "2019-07-01"
          ],
          [
           "2019-07-08"
          ],
          [
           "2019-07-15"
          ],
          [
           "2019-07-22"
          ],
          [
           "2019-07-29"
          ],
          [
           "2019-08-05"
          ],
          [
           "2019-08-12"
          ],
          [
           "2019-08-19"
          ],
          [
           "2019-08-26"
          ],
          [
           "2019-09-02"
          ],
          [
           "2019-09-09"
          ],
          [
           "2019-09-16"
          ],
          [
           "2019-09-23"
          ],
          [
           "2019-09-30"
          ],
          [
           "2019-10-07"
          ],
          [
           "2019-10-14"
          ],
          [
           "2019-10-21"
          ],
          [
           "2019-10-28"
          ],
          [
           "2019-11-04"
          ],
          [
           "2019-11-11"
          ],
          [
           "2019-11-18"
          ],
          [
           "2019-11-25"
          ],
          [
           "2019-12-02"
          ],
          [
           "2019-12-09"
          ],
          [
           "2019-12-16"
          ],
          [
           "2019-12-23"
          ],
          [
           "2019-12-30"
          ]
         ],
         "hovertemplate": "variable=GOOG<br>date=%{customdata[0]|%B %d, %Y}<br>value=%{y}<extra></extra>",
         "legendgroup": "GOOG",
         "line": {
          "color": "#636efa",
          "dash": "solid"
         },
         "mode": "lines",
         "name": "GOOG",
         "orientation": "v",
         "showlegend": true,
         "type": "scatter",
         "x": [
          "2018-01-01",
          "2018-01-08",
          "2018-01-15",
          "2018-01-22",
          "2018-01-29",
          "2018-02-05",
          "2018-02-12",
          "2018-02-19",
          "2018-02-26",
          "2018-03-05",
          "2018-03-12",
          "2018-03-19",
          "2018-03-26",
          "2018-04-02",
          "2018-04-09",
          "2018-04-16",
          "2018-04-23",
          "2018-04-30",
          "2018-05-07",
          "2018-05-14",
          "2018-05-21",
          "2018-05-28",
          "2018-06-04",
          "2018-06-11",
          "2018-06-18",
          "2018-06-25",
          "2018-07-02",
          "2018-07-09",
          "2018-07-16",
          "2018-07-23",
          "2018-07-30",
          "2018-08-06",
          "2018-08-13",
          "2018-08-20",
          "2018-08-27",
          "2018-09-03",
          "2018-09-10",
          "2018-09-17",
          "2018-09-24",
          "2018-10-01",
          "2018-10-08",
          "2018-10-15",
          "2018-10-22",
          "2018-10-29",
          "2018-11-05",
          "2018-11-12",
          "2018-11-19",
          "2018-11-26",
          "2018-12-03",
          "2018-12-10",
          "2018-12-17",
          "2018-12-24",
          "2018-12-31",
          "2019-01-07",
          "2019-01-14",
          "2019-01-21",
          "2019-01-28",
          "2019-02-04",
          "2019-02-11",
          "2019-02-18",
          "2019-02-25",
          "2019-03-04",
          "2019-03-11",
          "2019-03-18",
          "2019-03-25",
          "2019-04-01",
          "2019-04-08",
          "2019-04-15",
          "2019-04-22",
          "2019-04-29",
          "2019-05-06",
          "2019-05-13",
          "2019-05-20",
          "2019-05-27",
          "2019-06-03",
          "2019-06-10",
          "2019-06-17",
          "2019-06-24",
          "2019-07-01",
          "2019-07-08",
          "2019-07-15",
          "2019-07-22",
          "2019-07-29",
          "2019-08-05",
          "2019-08-12",
          "2019-08-19",
          "2019-08-26",
          "2019-09-02",
          "2019-09-09",
          "2019-09-16",
          "2019-09-23",
          "2019-09-30",
          "2019-10-07",
          "2019-10-14",
          "2019-10-21",
          "2019-10-28",
          "2019-11-04",
          "2019-11-11",
          "2019-11-18",
          "2019-11-25",
          "2019-12-02",
          "2019-12-09",
          "2019-12-16",
          "2019-12-23",
          "2019-12-30"
         ],
         "xaxis": "x",
         "y": [
          1,
          1.018172278347936,
          1.032007866452698,
          1.066782783389724,
          1.0087731636550117,
          0.9415276737437316,
          0.99325918262539,
          1.0222821547641083,
          0.9788520214265992,
          1.0524482730908842,
          1.0303929312465263,
          0.926821104067592,
          0.9360932452590338,
          0.913638710861412,
          0.93380695379017,
          0.9734447261178653,
          0.9345146364100892,
          0.9509902470625956,
          0.9963982380519172,
          0.9674568868105002,
          0.9758943718805396,
          1.015668254641377,
          1.0169111849053498,
          1.0453898287179595,
          1.0483111519067918,
          1.0121753574512644,
          1.0344211867653972,
          1.0785588920381208,
          1.075011617811375,
          1.1236312044424703,
          1.1102129167272332,
          1.1228237368393843,
          1.0895729410299655,
          1.1074367837463466,
          1.1052048693141154,
          1.0567939333314087,
          1.0637798374890872,
          1.0579370795194665,
          1.0827776350267664,
          1.0500077089175164,
          1.0071219039061161,
          0.9947651405743836,
          0.9720929301886708,
          0.959681788913054,
          0.9672663993407256,
          0.9630385756700248,
          0.9289168536315806,
          0.992923504040418,
          0.9404389054995582,
          0.945446952912676,
          0.8886892896888904,
          0.9408925313390586,
          0.9714034098401132,
          0.9591373489949891,
          0.9963982380519172,
          0.989802500200548,
          1.0077298024501202,
          0.9934950771344468,
          1.0103608540932627,
          1.0073850422758417,
          1.035165084150587,
          1.0363716889645844,
          1.0746032883264525,
          1.0936918990354445,
          1.064487521016258,
          1.095188886079836,
          1.1049145977684258,
          1.1216987538299403,
          1.1541874899828073,
          1.075456162061569,
          1.0562859304552756,
          1.0544986709579427,
          1.0283425342867192,
          1.0012701750318929,
          0.9671666152648106,
          0.98468558802946,
          1.0178275181736574,
          0.980657443195294,
          1.0266368965939394,
          1.0387124690620373,
          1.025285100664745,
          1.1344366027859267,
          1.0832494231376286,
          1.0778240762422375,
          1.068379555417282,
          1.0445098208996275,
          1.0779056980467905,
          1.0931748145700046,
          1.12459294475006,
          1.1158561065450243,
          1.1114649285805127,
          1.0968672799119472,
          1.1027190087861698,
          1.129972884606169,
          1.1477913211905195,
          1.1556027445379409,
          1.189742629754999,
          1.2110630442115171,
          1.1751993590303178,
          1.1839271156460471,
          1.216279741365772,
          1.222820990588552,
          1.22441776261611,
          1.2265044859331442,
          1.213013658002661
         ],
         "yaxis": "y"
        },
        {
         "customdata": [
          [
           "2018-01-01"
          ],
          [
           "2018-01-08"
          ],
          [
           "2018-01-15"
          ],
          [
           "2018-01-22"
          ],
          [
           "2018-01-29"
          ],
          [
           "2018-02-05"
          ],
          [
           "2018-02-12"
          ],
          [
           "2018-02-19"
          ],
          [
           "2018-02-26"
          ],
          [
           "2018-03-05"
          ],
          [
           "2018-03-12"
          ],
          [
           "2018-03-19"
          ],
          [
           "2018-03-26"
          ],
          [
           "2018-04-02"
          ],
          [
           "2018-04-09"
          ],
          [
           "2018-04-16"
          ],
          [
           "2018-04-23"
          ],
          [
           "2018-04-30"
          ],
          [
           "2018-05-07"
          ],
          [
           "2018-05-14"
          ],
          [
           "2018-05-21"
          ],
          [
           "2018-05-28"
          ],
          [
           "2018-06-04"
          ],
          [
           "2018-06-11"
          ],
          [
           "2018-06-18"
          ],
          [
           "2018-06-25"
          ],
          [
           "2018-07-02"
          ],
          [
           "2018-07-09"
          ],
          [
           "2018-07-16"
          ],
          [
           "2018-07-23"
          ],
          [
           "2018-07-30"
          ],
          [
           "2018-08-06"
          ],
          [
           "2018-08-13"
          ],
          [
           "2018-08-20"
          ],
          [
           "2018-08-27"
          ],
          [
           "2018-09-03"
          ],
          [
           "2018-09-10"
          ],
          [
           "2018-09-17"
          ],
          [
           "2018-09-24"
          ],
          [
           "2018-10-01"
          ],
          [
           "2018-10-08"
          ],
          [
           "2018-10-15"
          ],
          [
           "2018-10-22"
          ],
          [
           "2018-10-29"
          ],
          [
           "2018-11-05"
          ],
          [
           "2018-11-12"
          ],
          [
           "2018-11-19"
          ],
          [
           "2018-11-26"
          ],
          [
           "2018-12-03"
          ],
          [
           "2018-12-10"
          ],
          [
           "2018-12-17"
          ],
          [
           "2018-12-24"
          ],
          [
           "2018-12-31"
          ],
          [
           "2019-01-07"
          ],
          [
           "2019-01-14"
          ],
          [
           "2019-01-21"
          ],
          [
           "2019-01-28"
          ],
          [
           "2019-02-04"
          ],
          [
           "2019-02-11"
          ],
          [
           "2019-02-18"
          ],
          [
           "2019-02-25"
          ],
          [
           "2019-03-04"
          ],
          [
           "2019-03-11"
          ],
          [
           "2019-03-18"
          ],
          [
           "2019-03-25"
          ],
          [
           "2019-04-01"
          ],
          [
           "2019-04-08"
          ],
          [
           "2019-04-15"
          ],
          [
           "2019-04-22"
          ],
          [
           "2019-04-29"
          ],
          [
           "2019-05-06"
          ],
          [
           "2019-05-13"
          ],
          [
           "2019-05-20"
          ],
          [
           "2019-05-27"
          ],
          [
           "2019-06-03"
          ],
          [
           "2019-06-10"
          ],
          [
           "2019-06-17"
          ],
          [
           "2019-06-24"
          ],
          [
           "2019-07-01"
          ],
          [
           "2019-07-08"
          ],
          [
           "2019-07-15"
          ],
          [
           "2019-07-22"
          ],
          [
           "2019-07-29"
          ],
          [
           "2019-08-05"
          ],
          [
           "2019-08-12"
          ],
          [
           "2019-08-19"
          ],
          [
           "2019-08-26"
          ],
          [
           "2019-09-02"
          ],
          [
           "2019-09-09"
          ],
          [
           "2019-09-16"
          ],
          [
           "2019-09-23"
          ],
          [
           "2019-09-30"
          ],
          [
           "2019-10-07"
          ],
          [
           "2019-10-14"
          ],
          [
           "2019-10-21"
          ],
          [
           "2019-10-28"
          ],
          [
           "2019-11-04"
          ],
          [
           "2019-11-11"
          ],
          [
           "2019-11-18"
          ],
          [
           "2019-11-25"
          ],
          [
           "2019-12-02"
          ],
          [
           "2019-12-09"
          ],
          [
           "2019-12-16"
          ],
          [
           "2019-12-23"
          ],
          [
           "2019-12-30"
          ]
         ],
         "hovertemplate": "variable=AAPL<br>date=%{customdata[0]|%B %d, %Y}<br>value=%{y}<extra></extra>",
         "legendgroup": "AAPL",
         "line": {
          "color": "#EF553B",
          "dash": "solid"
         },
         "mode": "lines",
         "name": "AAPL",
         "orientation": "v",
         "showlegend": true,
         "type": "scatter",
         "x": [
          "2018-01-01",
          "2018-01-08",
          "2018-01-15",
          "2018-01-22",
          "2018-01-29",
          "2018-02-05",
          "2018-02-12",
          "2018-02-19",
          "2018-02-26",
          "2018-03-05",
          "2018-03-12",
          "2018-03-19",
          "2018-03-26",
          "2018-04-02",
          "2018-04-09",
          "2018-04-16",
          "2018-04-23",
          "2018-04-30",
          "2018-05-07",
          "2018-05-14",
          "2018-05-21",
          "2018-05-28",
          "2018-06-04",
          "2018-06-11",
          "2018-06-18",
          "2018-06-25",
          "2018-07-02",
          "2018-07-09",
          "2018-07-16",
          "2018-07-23",
          "2018-07-30",
          "2018-08-06",
          "2018-08-13",
          "2018-08-20",
          "2018-08-27",
          "2018-09-03",
          "2018-09-10",
          "2018-09-17",
          "2018-09-24",
          "2018-10-01",
          "2018-10-08",
          "2018-10-15",
          "2018-10-22",
          "2018-10-29",
          "2018-11-05",
          "2018-11-12",
          "2018-11-19",
          "2018-11-26",
          "2018-12-03",
          "2018-12-10",
          "2018-12-17",
          "2018-12-24",
          "2018-12-31",
          "2019-01-07",
          "2019-01-14",
          "2019-01-21",
          "2019-01-28",
          "2019-02-04",
          "2019-02-11",
          "2019-02-18",
          "2019-02-25",
          "2019-03-04",
          "2019-03-11",
          "2019-03-18",
          "2019-03-25",
          "2019-04-01",
          "2019-04-08",
          "2019-04-15",
          "2019-04-22",
          "2019-04-29",
          "2019-05-06",
          "2019-05-13",
          "2019-05-20",
          "2019-05-27",
          "2019-06-03",
          "2019-06-10",
          "2019-06-17",
          "2019-06-24",
          "2019-07-01",
          "2019-07-08",
          "2019-07-15",
          "2019-07-22",
          "2019-07-29",
          "2019-08-05",
          "2019-08-12",
          "2019-08-19",
          "2019-08-26",
          "2019-09-02",
          "2019-09-09",
          "2019-09-16",
          "2019-09-23",
          "2019-09-30",
          "2019-10-07",
          "2019-10-14",
          "2019-10-21",
          "2019-10-28",
          "2019-11-04",
          "2019-11-11",
          "2019-11-18",
          "2019-11-25",
          "2019-12-02",
          "2019-12-09",
          "2019-12-16",
          "2019-12-23",
          "2019-12-30"
         ],
         "xaxis": "x",
         "y": [
          1,
          1.0119428342857142,
          1.0197714685714288,
          0.9800571142857144,
          0.9171428571428571,
          0.8937714514285715,
          0.9853142457142856,
          1.002857142857143,
          1.006914325714286,
          1.02845712,
          1.0172571657142857,
          0.9425142971428572,
          0.9587428514285714,
          0.9621714571428572,
          0.99845712,
          0.9469714342857144,
          0.9275428971428572,
          1.0504571542857144,
          1.07765712,
          1.06462856,
          1.0776000114285715,
          1.0870857428571428,
          1.0954285542857145,
          1.0790856914285714,
          1.0566857028571428,
          1.0577714342857143,
          1.0741142914285715,
          1.093314297142857,
          1.0939428685714283,
          1.0913142628571428,
          1.1885143142857142,
          1.1858857085714285,
          1.2433142971428572,
          1.2352000228571431,
          1.3007428857142855,
          1.2645714457142856,
          1.279085691428571,
          1.2437714514285716,
          1.2899428857142856,
          1.2816571028571428,
          1.2692000057142856,
          1.253199988571429,
          1.236000017142857,
          1.1855999771428571,
          1.1684000057142856,
          1.1058857085714286,
          0.9845142457142856,
          1.0204571542857144,
          0.9628000285714284,
          0.9455999771428572,
          0.8613142628571429,
          0.8927428342857143,
          0.8471999714285714,
          0.8702285314285714,
          0.8961143257142857,
          0.9014856857142858,
          0.95154288,
          0.9737714514285716,
          0.97382856,
          0.9884000057142855,
          0.9998285771428572,
          0.9880571657142858,
          1.0635428285714286,
          1.0917143028571428,
          1.0854285542857145,
          1.1257142857142857,
          1.1363999714285713,
          1.1649142914285715,
          1.1674285885714286,
          1.21,
          1.1267428171428568,
          1.08,
          1.02268572,
          1.00040004,
          1.0865713942857145,
          1.1013714571428572,
          1.135885708571429,
          1.1309714171428569,
          1.167028548571429,
          1.1617143028571428,
          1.15765712,
          1.1870857428571429,
          1.1658285942857145,
          1.1485143142857142,
          1.18,
          1.1579428514285717,
          1.1928000285714286,
          1.218628542857143,
          1.25,
          1.2441714057142856,
          1.25040004,
          1.2971999714285716,
          1.3497714685714286,
          1.3509143085714286,
          1.409028582857143,
          1.4618286114285712,
          1.4865143714285716,
          1.5186286285714288,
          1.4958857085714288,
          1.5271428571428571,
          1.5469142342857145,
          1.57228568,
          1.5968000114285714,
          1.6559999314285714,
          1.6779999657142857
         ],
         "yaxis": "y"
        },
        {
         "customdata": [
          [
           "2018-01-01"
          ],
          [
           "2018-01-08"
          ],
          [
           "2018-01-15"
          ],
          [
           "2018-01-22"
          ],
          [
           "2018-01-29"
          ],
          [
           "2018-02-05"
          ],
          [
           "2018-02-12"
          ],
          [
           "2018-02-19"
          ],
          [
           "2018-02-26"
          ],
          [
           "2018-03-05"
          ],
          [
           "2018-03-12"
          ],
          [
           "2018-03-19"
          ],
          [
           "2018-03-26"
          ],
          [
           "2018-04-02"
          ],
          [
           "2018-04-09"
          ],
          [
           "2018-04-16"
          ],
          [
           "2018-04-23"
          ],
          [
           "2018-04-30"
          ],
          [
           "2018-05-07"
          ],
          [
           "2018-05-14"
          ],
          [
           "2018-05-21"
          ],
          [
           "2018-05-28"
          ],
          [
           "2018-06-04"
          ],
          [
           "2018-06-11"
          ],
          [
           "2018-06-18"
          ],
          [
           "2018-06-25"
          ],
          [
           "2018-07-02"
          ],
          [
           "2018-07-09"
          ],
          [
           "2018-07-16"
          ],
          [
           "2018-07-23"
          ],
          [
           "2018-07-30"
          ],
          [
           "2018-08-06"
          ],
          [
           "2018-08-13"
          ],
          [
           "2018-08-20"
          ],
          [
           "2018-08-27"
          ],
          [
           "2018-09-03"
          ],
          [
           "2018-09-10"
          ],
          [
           "2018-09-17"
          ],
          [
           "2018-09-24"
          ],
          [
           "2018-10-01"
          ],
          [
           "2018-10-08"
          ],
          [
           "2018-10-15"
          ],
          [
           "2018-10-22"
          ],
          [
           "2018-10-29"
          ],
          [
           "2018-11-05"
          ],
          [
           "2018-11-12"
          ],
          [
           "2018-11-19"
          ],
          [
           "2018-11-26"
          ],
          [
           "2018-12-03"
          ],
          [
           "2018-12-10"
          ],
          [
           "2018-12-17"
          ],
          [
           "2018-12-24"
          ],
          [
           "2018-12-31"
          ],
          [
           "2019-01-07"
          ],
          [
           "2019-01-14"
          ],
          [
           "2019-01-21"
          ],
          [
           "2019-01-28"
          ],
          [
           "2019-02-04"
          ],
          [
           "2019-02-11"
          ],
          [
           "2019-02-18"
          ],
          [
           "2019-02-25"
          ],
          [
           "2019-03-04"
          ],
          [
           "2019-03-11"
          ],
          [
           "2019-03-18"
          ],
          [
           "2019-03-25"
          ],
          [
           "2019-04-01"
          ],
          [
           "2019-04-08"
          ],
          [
           "2019-04-15"
          ],
          [
           "2019-04-22"
          ],
          [
           "2019-04-29"
          ],
          [
           "2019-05-06"
          ],
          [
           "2019-05-13"
          ],
          [
           "2019-05-20"
          ],
          [
           "2019-05-27"
          ],
          [
           "2019-06-03"
          ],
          [
           "2019-06-10"
          ],
          [
           "2019-06-17"
          ],
          [
           "2019-06-24"
          ],
          [
           "2019-07-01"
          ],
          [
           "2019-07-08"
          ],
          [
           "2019-07-15"
          ],
          [
           "2019-07-22"
          ],
          [
           "2019-07-29"
          ],
          [
           "2019-08-05"
          ],
          [
           "2019-08-12"
          ],
          [
           "2019-08-19"
          ],
          [
           "2019-08-26"
          ],
          [
           "2019-09-02"
          ],
          [
           "2019-09-09"
          ],
          [
           "2019-09-16"
          ],
          [
           "2019-09-23"
          ],
          [
           "2019-09-30"
          ],
          [
           "2019-10-07"
          ],
          [
           "2019-10-14"
          ],
          [
           "2019-10-21"
          ],
          [
           "2019-10-28"
          ],
          [
           "2019-11-04"
          ],
          [
           "2019-11-11"
          ],
          [
           "2019-11-18"
          ],
          [
           "2019-11-25"
          ],
          [
           "2019-12-02"
          ],
          [
           "2019-12-09"
          ],
          [
           "2019-12-16"
          ],
          [
           "2019-12-23"
          ],
          [
           "2019-12-30"
          ]
         ],
         "hovertemplate": "variable=AMZN<br>date=%{customdata[0]|%B %d, %Y}<br>value=%{y}<extra></extra>",
         "legendgroup": "AMZN",
         "line": {
          "color": "#00cc96",
          "dash": "solid"
         },
         "mode": "lines",
         "name": "AMZN",
         "orientation": "v",
         "showlegend": true,
         "type": "scatter",
         "x": [
          "2018-01-01",
          "2018-01-08",
          "2018-01-15",
          "2018-01-22",
          "2018-01-29",
          "2018-02-05",
          "2018-02-12",
          "2018-02-19",
          "2018-02-26",
          "2018-03-05",
          "2018-03-12",
          "2018-03-19",
          "2018-03-26",
          "2018-04-02",
          "2018-04-09",
          "2018-04-16",
          "2018-04-23",
          "2018-04-30",
          "2018-05-07",
          "2018-05-14",
          "2018-05-21",
          "2018-05-28",
          "2018-06-04",
          "2018-06-11",
          "2018-06-18",
          "2018-06-25",
          "2018-07-02",
          "2018-07-09",
          "2018-07-16",
          "2018-07-23",
          "2018-07-30",
          "2018-08-06",
          "2018-08-13",
          "2018-08-20",
          "2018-08-27",
          "2018-09-03",
          "2018-09-10",
          "2018-09-17",
          "2018-09-24",
          "2018-10-01",
          "2018-10-08",
          "2018-10-15",
          "2018-10-22",
          "2018-10-29",
          "2018-11-05",
          "2018-11-12",
          "2018-11-19",
          "2018-11-26",
          "2018-12-03",
          "2018-12-10",
          "2018-12-17",
          "2018-12-24",
          "2018-12-31",
          "2019-01-07",
          "2019-01-14",
          "2019-01-21",
          "2019-01-28",
          "2019-02-04",
          "2019-02-11",
          "2019-02-18",
          "2019-02-25",
          "2019-03-04",
          "2019-03-11",
          "2019-03-18",
          "2019-03-25",
          "2019-04-01",
          "2019-04-08",
          "2019-04-15",
          "2019-04-22",
          "2019-04-29",
          "2019-05-06",
          "2019-05-13",
          "2019-05-20",
          "2019-05-27",
          "2019-06-03",
          "2019-06-10",
          "2019-06-17",
          "2019-06-24",
          "2019-07-01",
          "2019-07-08",
          "2019-07-15",
          "2019-07-22",
          "2019-07-29",
          "2019-08-05",
          "2019-08-12",
          "2019-08-19",
          "2019-08-26",
          "2019-09-02",
          "2019-09-09",
          "2019-09-16",
          "2019-09-23",
          "2019-09-30",
          "2019-10-07",
          "2019-10-14",
          "2019-10-21",
          "2019-10-28",
          "2019-11-04",
          "2019-11-11",
          "2019-11-18",
          "2019-11-25",
          "2019-12-02",
          "2019-12-09",
          "2019-12-16",
          "2019-12-23",
          "2019-12-30"
         ],
         "xaxis": "x",
         "y": [
          1,
          1.0618806117055757,
          1.0532404284307677,
          1.1406756202628388,
          1.1633743377885228,
          1.0898676795580526,
          1.1786207619316666,
          1.2203654438831366,
          1.2205688381237838,
          1.284548542665418,
          1.2786826844946546,
          1.2167532101702832,
          1.1775224533715958,
          1.1432627388670606,
          1.16405781403187,
          1.2427306664489322,
          1.2794473988384474,
          1.2862244591394254,
          1.3040906767647622,
          1.2808711585229775,
          1.3099809658381354,
          1.3355191588974509,
          1.3700554610940725,
          1.3960736368996989,
          1.3958296232020404,
          1.3829181608736414,
          1.391729163581091,
          1.4750394640760272,
          1.4755844971819587,
          1.4784890230752108,
          1.4833867718479574,
          1.5346502643964448,
          1.5313308069300795,
          1.5501814209506477,
          1.637494456642517,
          1.5881591374274802,
          1.6029011479217037,
          1.5580080272628667,
          1.6295946560652816,
          1.5373757268816928,
          1.4551718788522234,
          1.435174192909178,
          1.3365524179114776,
          1.3550368620941855,
          1.3931936419790223,
          1.2963616956201691,
          1.22204146042711,
          1.3750834106560272,
          1.3254226411301075,
          1.295141330176286,
          1.1206615472526131,
          1.2024830385169751,
          1.2817010232963573,
          1.334721869745653,
          1.3799892040777797,
          1.3591372224587452,
          1.3230632475991762,
          1.2921391799289847,
          1.3081910371293215,
          1.3273996770823542,
          1.3600809993969647,
          1.3186455808291295,
          1.393136635454831,
          1.4357762325393009,
          1.4487771761299302,
          1.4947687054188046,
          1.4994712046698764,
          1.5146280474808236,
          1.5869876346023932,
          1.596612214272432,
          1.537644171481961,
          1.5205753430783882,
          1.4833786279425618,
          1.44415601504927,
          1.4677172714127285,
          1.521120475440709,
          1.5549896884611636,
          1.540613747734834,
          1.58070684404494,
          1.6361032717659916,
          1.5982882308164057,
          1.5808207570233568,
          1.4833460531345568,
          1.4706054102388,
          1.4583936118945735,
          1.4234505212166575,
          1.445148654606286,
          1.491701504811883,
          1.4964446227063888,
          1.4596872708598625,
          1.4037863302335007,
          1.4153391824933792,
          1.4090502488441077,
          1.4298696556551374,
          1.43297747571907,
          1.4574742658589632,
          1.452950830015895,
          1.4152089825177483,
          1.420277551536714,
          1.4650894340951057,
          1.425061388144621,
          1.4326601685000062,
          1.4534552436648156,
          1.52122624451373,
          1.503360026888393
         ],
         "yaxis": "y"
        },
        {
         "customdata": [
          [
           "2018-01-01"
          ],
          [
           "2018-01-08"
          ],
          [
           "2018-01-15"
          ],
          [
           "2018-01-22"
          ],
          [
           "2018-01-29"
          ],
          [
           "2018-02-05"
          ],
          [
           "2018-02-12"
          ],
          [
           "2018-02-19"
          ],
          [
           "2018-02-26"
          ],
          [
           "2018-03-05"
          ],
          [
           "2018-03-12"
          ],
          [
           "2018-03-19"
          ],
          [
           "2018-03-26"
          ],
          [
           "2018-04-02"
          ],
          [
           "2018-04-09"
          ],
          [
           "2018-04-16"
          ],
          [
           "2018-04-23"
          ],
          [
           "2018-04-30"
          ],
          [
           "2018-05-07"
          ],
          [
           "2018-05-14"
          ],
          [
           "2018-05-21"
          ],
          [
           "2018-05-28"
          ],
          [
           "2018-06-04"
          ],
          [
           "2018-06-11"
          ],
          [
           "2018-06-18"
          ],
          [
           "2018-06-25"
          ],
          [
           "2018-07-02"
          ],
          [
           "2018-07-09"
          ],
          [
           "2018-07-16"
          ],
          [
           "2018-07-23"
          ],
          [
           "2018-07-30"
          ],
          [
           "2018-08-06"
          ],
          [
           "2018-08-13"
          ],
          [
           "2018-08-20"
          ],
          [
           "2018-08-27"
          ],
          [
           "2018-09-03"
          ],
          [
           "2018-09-10"
          ],
          [
           "2018-09-17"
          ],
          [
           "2018-09-24"
          ],
          [
           "2018-10-01"
          ],
          [
           "2018-10-08"
          ],
          [
           "2018-10-15"
          ],
          [
           "2018-10-22"
          ],
          [
           "2018-10-29"
          ],
          [
           "2018-11-05"
          ],
          [
           "2018-11-12"
          ],
          [
           "2018-11-19"
          ],
          [
           "2018-11-26"
          ],
          [
           "2018-12-03"
          ],
          [
           "2018-12-10"
          ],
          [
           "2018-12-17"
          ],
          [
           "2018-12-24"
          ],
          [
           "2018-12-31"
          ],
          [
           "2019-01-07"
          ],
          [
           "2019-01-14"
          ],
          [
           "2019-01-21"
          ],
          [
           "2019-01-28"
          ],
          [
           "2019-02-04"
          ],
          [
           "2019-02-11"
          ],
          [
           "2019-02-18"
          ],
          [
           "2019-02-25"
          ],
          [
           "2019-03-04"
          ],
          [
           "2019-03-11"
          ],
          [
           "2019-03-18"
          ],
          [
           "2019-03-25"
          ],
          [
           "2019-04-01"
          ],
          [
           "2019-04-08"
          ],
          [
           "2019-04-15"
          ],
          [
           "2019-04-22"
          ],
          [
           "2019-04-29"
          ],
          [
           "2019-05-06"
          ],
          [
           "2019-05-13"
          ],
          [
           "2019-05-20"
          ],
          [
           "2019-05-27"
          ],
          [
           "2019-06-03"
          ],
          [
           "2019-06-10"
          ],
          [
           "2019-06-17"
          ],
          [
           "2019-06-24"
          ],
          [
           "2019-07-01"
          ],
          [
           "2019-07-08"
          ],
          [
           "2019-07-15"
          ],
          [
           "2019-07-22"
          ],
          [
           "2019-07-29"
          ],
          [
           "2019-08-05"
          ],
          [
           "2019-08-12"
          ],
          [
           "2019-08-19"
          ],
          [
           "2019-08-26"
          ],
          [
           "2019-09-02"
          ],
          [
           "2019-09-09"
          ],
          [
           "2019-09-16"
          ],
          [
           "2019-09-23"
          ],
          [
           "2019-09-30"
          ],
          [
           "2019-10-07"
          ],
          [
           "2019-10-14"
          ],
          [
           "2019-10-21"
          ],
          [
           "2019-10-28"
          ],
          [
           "2019-11-04"
          ],
          [
           "2019-11-11"
          ],
          [
           "2019-11-18"
          ],
          [
           "2019-11-25"
          ],
          [
           "2019-12-02"
          ],
          [
           "2019-12-09"
          ],
          [
           "2019-12-16"
          ],
          [
           "2019-12-23"
          ],
          [
           "2019-12-30"
          ]
         ],
         "hovertemplate": "variable=FB<br>date=%{customdata[0]|%B %d, %Y}<br>value=%{y}<extra></extra>",
         "legendgroup": "FB",
         "line": {
          "color": "#ab63fa",
          "dash": "solid"
         },
         "mode": "lines",
         "name": "FB",
         "orientation": "v",
         "showlegend": true,
         "type": "scatter",
         "x": [
          "2018-01-01",
          "2018-01-08",
          "2018-01-15",
          "2018-01-22",
          "2018-01-29",
          "2018-02-05",
          "2018-02-12",
          "2018-02-19",
          "2018-02-26",
          "2018-03-05",
          "2018-03-12",
          "2018-03-19",
          "2018-03-26",
          "2018-04-02",
          "2018-04-09",
          "2018-04-16",
          "2018-04-23",
          "2018-04-30",
          "2018-05-07",
          "2018-05-14",
          "2018-05-21",
          "2018-05-28",
          "2018-06-04",
          "2018-06-11",
          "2018-06-18",
          "2018-06-25",
          "2018-07-02",
          "2018-07-09",
          "2018-07-16",
          "2018-07-23",
          "2018-07-30",
          "2018-08-06",
          "2018-08-13",
          "2018-08-20",
          "2018-08-27",
          "2018-09-03",
          "2018-09-10",
          "2018-09-17",
          "2018-09-24",
          "2018-10-01",
          "2018-10-08",
          "2018-10-15",
          "2018-10-22",
          "2018-10-29",
          "2018-11-05",
          "2018-11-12",
          "2018-11-19",
          "2018-11-26",
          "2018-12-03",
          "2018-12-10",
          "2018-12-17",
          "2018-12-24",
          "2018-12-31",
          "2019-01-07",
          "2019-01-14",
          "2019-01-21",
          "2019-01-28",
          "2019-02-04",
          "2019-02-11",
          "2019-02-18",
          "2019-02-25",
          "2019-03-04",
          "2019-03-11",
          "2019-03-18",
          "2019-03-25",
          "2019-04-01",
          "2019-04-08",
          "2019-04-15",
          "2019-04-22",
          "2019-04-29",
          "2019-05-06",
          "2019-05-13",
          "2019-05-20",
          "2019-05-27",
          "2019-06-03",
          "2019-06-10",
          "2019-06-17",
          "2019-06-24",
          "2019-07-01",
          "2019-07-08",
          "2019-07-15",
          "2019-07-22",
          "2019-07-29",
          "2019-08-05",
          "2019-08-12",
          "2019-08-19",
          "2019-08-26",
          "2019-09-02",
          "2019-09-09",
          "2019-09-16",
          "2019-09-23",
          "2019-09-30",
          "2019-10-07",
          "2019-10-14",
          "2019-10-21",
          "2019-10-28",
          "2019-11-04",
          "2019-11-11",
          "2019-11-18",
          "2019-11-25",
          "2019-12-02",
          "2019-12-09",
          "2019-12-16",
          "2019-12-23",
          "2019-12-30"
         ],
         "xaxis": "x",
         "y": [
          1,
          0.9599678310954936,
          0.9702434422185674,
          1.0168584099483515,
          1.0183569327795472,
          0.9425207136466456,
          0.949210571606832,
          0.9809472149548658,
          0.9452501435830832,
          0.9913298905647344,
          0.9905806264731936,
          0.8530371628674177,
          0.8551778853033591,
          0.8413165210173983,
          0.8804923666954552,
          0.8899116599439659,
          0.9290339332394776,
          0.9451966568307202,
          1.0007492587396545,
          0.9776825642702948,
          0.9896708164943808,
          1.0382124633166991,
          1.0120417443283358,
          1.048166977313343,
          1.0796895826698554,
          1.039978596521961,
          1.0876638451914205,
          1.109553119307901,
          1.12357503483302,
          0.9359914015737306,
          0.951458353177682,
          0.9647310099631464,
          0.9301578668399936,
          0.934706922085943,
          0.9404869700673171,
          0.8725715159998442,
          0.8687182327411859,
          0.8719828084993478,
          0.8801712695690254,
          0.8420122930046896,
          0.8227990369986931,
          0.8244581110690464,
          0.7780036945784202,
          0.8046561475625534,
          0.7758094853901156,
          0.7467486995959743,
          0.7050039698687512,
          0.7525287475773482,
          0.735456214007293,
          0.7709927394918039,
          0.6687181856445861,
          0.7128712481818171,
          0.7382927084305257,
          0.7696012757955171,
          0.8029969932139043,
          0.7974845609584834,
          0.8868611275292119,
          0.8955311566861818,
          0.8696815348242483,
          0.8664168787877908,
          0.8685041144713691,
          0.9076799601494259,
          0.8883060779778621,
          0.8795289843340972,
          0.8921059494105662,
          0.9404334779630672,
          0.9585228806468435,
          0.9541342963617566,
          1.024832747396326,
          1.0461332337340143,
          1.0079742571696786,
          0.9917045600737096,
          0.9690125351133252,
          0.9497992791073284,
          0.9277495340299856,
          0.9704575658402708,
          1.0229595550561554,
          1.0329140690527994,
          1.0511104505931883,
          1.0964409334832987,
          1.0616001853379655,
          1.0690393020378066,
          1.011613582715111,
          1.0053518863681492,
          0.9831415097733526,
          0.951297801938524,
          0.993684731270493,
          1.003425201923729,
          1.0018196199576253,
          1.0164837404393767,
          0.9478191079105452,
          0.9657478790768677,
          0.9857639608531776,
          0.9946481136318508,
          1.0055659243596704,
          1.03623221184162,
          1.0213539730900516,
          1.044153062537231,
          1.0640620851786324,
          1.0791543619217223,
          1.07599677037206,
          1.0388546682733315,
          1.1040941738048429,
          1.113727585323171,
          1.0984746770626277
         ],
         "yaxis": "y"
        },
        {
         "customdata": [
          [
           "2018-01-01"
          ],
          [
           "2018-01-08"
          ],
          [
           "2018-01-15"
          ],
          [
           "2018-01-22"
          ],
          [
           "2018-01-29"
          ],
          [
           "2018-02-05"
          ],
          [
           "2018-02-12"
          ],
          [
           "2018-02-19"
          ],
          [
           "2018-02-26"
          ],
          [
           "2018-03-05"
          ],
          [
           "2018-03-12"
          ],
          [
           "2018-03-19"
          ],
          [
           "2018-03-26"
          ],
          [
           "2018-04-02"
          ],
          [
           "2018-04-09"
          ],
          [
           "2018-04-16"
          ],
          [
           "2018-04-23"
          ],
          [
           "2018-04-30"
          ],
          [
           "2018-05-07"
          ],
          [
           "2018-05-14"
          ],
          [
           "2018-05-21"
          ],
          [
           "2018-05-28"
          ],
          [
           "2018-06-04"
          ],
          [
           "2018-06-11"
          ],
          [
           "2018-06-18"
          ],
          [
           "2018-06-25"
          ],
          [
           "2018-07-02"
          ],
          [
           "2018-07-09"
          ],
          [
           "2018-07-16"
          ],
          [
           "2018-07-23"
          ],
          [
           "2018-07-30"
          ],
          [
           "2018-08-06"
          ],
          [
           "2018-08-13"
          ],
          [
           "2018-08-20"
          ],
          [
           "2018-08-27"
          ],
          [
           "2018-09-03"
          ],
          [
           "2018-09-10"
          ],
          [
           "2018-09-17"
          ],
          [
           "2018-09-24"
          ],
          [
           "2018-10-01"
          ],
          [
           "2018-10-08"
          ],
          [
           "2018-10-15"
          ],
          [
           "2018-10-22"
          ],
          [
           "2018-10-29"
          ],
          [
           "2018-11-05"
          ],
          [
           "2018-11-12"
          ],
          [
           "2018-11-19"
          ],
          [
           "2018-11-26"
          ],
          [
           "2018-12-03"
          ],
          [
           "2018-12-10"
          ],
          [
           "2018-12-17"
          ],
          [
           "2018-12-24"
          ],
          [
           "2018-12-31"
          ],
          [
           "2019-01-07"
          ],
          [
           "2019-01-14"
          ],
          [
           "2019-01-21"
          ],
          [
           "2019-01-28"
          ],
          [
           "2019-02-04"
          ],
          [
           "2019-02-11"
          ],
          [
           "2019-02-18"
          ],
          [
           "2019-02-25"
          ],
          [
           "2019-03-04"
          ],
          [
           "2019-03-11"
          ],
          [
           "2019-03-18"
          ],
          [
           "2019-03-25"
          ],
          [
           "2019-04-01"
          ],
          [
           "2019-04-08"
          ],
          [
           "2019-04-15"
          ],
          [
           "2019-04-22"
          ],
          [
           "2019-04-29"
          ],
          [
           "2019-05-06"
          ],
          [
           "2019-05-13"
          ],
          [
           "2019-05-20"
          ],
          [
           "2019-05-27"
          ],
          [
           "2019-06-03"
          ],
          [
           "2019-06-10"
          ],
          [
           "2019-06-17"
          ],
          [
           "2019-06-24"
          ],
          [
           "2019-07-01"
          ],
          [
           "2019-07-08"
          ],
          [
           "2019-07-15"
          ],
          [
           "2019-07-22"
          ],
          [
           "2019-07-29"
          ],
          [
           "2019-08-05"
          ],
          [
           "2019-08-12"
          ],
          [
           "2019-08-19"
          ],
          [
           "2019-08-26"
          ],
          [
           "2019-09-02"
          ],
          [
           "2019-09-09"
          ],
          [
           "2019-09-16"
          ],
          [
           "2019-09-23"
          ],
          [
           "2019-09-30"
          ],
          [
           "2019-10-07"
          ],
          [
           "2019-10-14"
          ],
          [
           "2019-10-21"
          ],
          [
           "2019-10-28"
          ],
          [
           "2019-11-04"
          ],
          [
           "2019-11-11"
          ],
          [
           "2019-11-18"
          ],
          [
           "2019-11-25"
          ],
          [
           "2019-12-02"
          ],
          [
           "2019-12-09"
          ],
          [
           "2019-12-16"
          ],
          [
           "2019-12-23"
          ],
          [
           "2019-12-30"
          ]
         ],
         "hovertemplate": "variable=NFLX<br>date=%{customdata[0]|%B %d, %Y}<br>value=%{y}<extra></extra>",
         "legendgroup": "NFLX",
         "line": {
          "color": "#FFA15A",
          "dash": "solid"
         },
         "mode": "lines",
         "name": "NFLX",
         "orientation": "v",
         "showlegend": true,
         "type": "scatter",
         "x": [
          "2018-01-01",
          "2018-01-08",
          "2018-01-15",
          "2018-01-22",
          "2018-01-29",
          "2018-02-05",
          "2018-02-12",
          "2018-02-19",
          "2018-02-26",
          "2018-03-05",
          "2018-03-12",
          "2018-03-19",
          "2018-03-26",
          "2018-04-02",
          "2018-04-09",
          "2018-04-16",
          "2018-04-23",
          "2018-04-30",
          "2018-05-07",
          "2018-05-14",
          "2018-05-21",
          "2018-05-28",
          "2018-06-04",
          "2018-06-11",
          "2018-06-18",
          "2018-06-25",
          "2018-07-02",
          "2018-07-09",
          "2018-07-16",
          "2018-07-23",
          "2018-07-30",
          "2018-08-06",
          "2018-08-13",
          "2018-08-20",
          "2018-08-27",
          "2018-09-03",
          "2018-09-10",
          "2018-09-17",
          "2018-09-24",
          "2018-10-01",
          "2018-10-08",
          "2018-10-15",
          "2018-10-22",
          "2018-10-29",
          "2018-11-05",
          "2018-11-12",
          "2018-11-19",
          "2018-11-26",
          "2018-12-03",
          "2018-12-10",
          "2018-12-17",
          "2018-12-24",
          "2018-12-31",
          "2019-01-07",
          "2019-01-14",
          "2019-01-21",
          "2019-01-28",
          "2019-02-04",
          "2019-02-11",
          "2019-02-18",
          "2019-02-25",
          "2019-03-04",
          "2019-03-11",
          "2019-03-18",
          "2019-03-25",
          "2019-04-01",
          "2019-04-08",
          "2019-04-15",
          "2019-04-22",
          "2019-04-29",
          "2019-05-06",
          "2019-05-13",
          "2019-05-20",
          "2019-05-27",
          "2019-06-03",
          "2019-06-10",
          "2019-06-17",
          "2019-06-24",
          "2019-07-01",
          "2019-07-08",
          "2019-07-15",
          "2019-07-22",
          "2019-07-29",
          "2019-08-05",
          "2019-08-12",
          "2019-08-19",
          "2019-08-26",
          "2019-09-02",
          "2019-09-09",
          "2019-09-16",
          "2019-09-23",
          "2019-09-30",
          "2019-10-07",
          "2019-10-14",
          "2019-10-21",
          "2019-10-28",
          "2019-11-04",
          "2019-11-11",
          "2019-11-18",
          "2019-11-25",
          "2019-12-02",
          "2019-12-09",
          "2019-12-16",
          "2019-12-23",
          "2019-12-30"
         ],
         "xaxis": "x",
         "y": [
          1,
          1.0535263142643383,
          1.0498595254569378,
          1.3076813155940448,
          1.273536771428717,
          1.188008929282134,
          1.3263487897912096,
          1.3616362026373592,
          1.4336396058469547,
          1.5783608462698024,
          1.5165008067883996,
          1.4331158380609592,
          1.4064955424902252,
          1.3755416882817828,
          1.484118227436587,
          1.5608837620628662,
          1.484642138086525,
          1.5243106261176576,
          1.5546453794312736,
          1.5437877293254985,
          1.6728891882258874,
          1.7140339274719294,
          1.7170817582484463,
          1.866660325094997,
          1.9576645850358447,
          1.864041067097456,
          1.94414015086099,
          1.8848515575777052,
          1.7193674908479577,
          1.691556657660921,
          1.633839648701375,
          1.647078369277624,
          1.50854798541483,
          1.7087480282692504,
          1.7509404459512254,
          1.660459949034241,
          1.7360826197418304,
          1.720034255916133,
          1.7816562507344105,
          1.6731749018244944,
          1.617029334324746,
          1.5842183202957685,
          1.4278298007564696,
          1.4719748494696214,
          1.4451640257830367,
          1.3629695899097676,
          1.2325348866009125,
          1.3625886860662726,
          1.262631595251403,
          1.2707271281792676,
          1.1733415549944868,
          1.2194865512765718,
          1.4170674789973934,
          1.6076479259096166,
          1.6148387919701228,
          1.6098384682642397,
          1.6184103905326357,
          1.6551740498315624,
          1.699461814861141,
          1.7287488945009553,
          1.7016048311442251,
          1.6648411718452985,
          1.7213199790151918,
          1.7191771103581814,
          1.6979855684083631,
          1.7405113638622944,
          1.6721748970861734,
          1.716034084574645,
          1.7850849901165535,
          1.8335634546034707,
          1.7193199695385504,
          1.6879375377890014,
          1.6876518241903944,
          1.6347444679569396,
          1.7185103405278743,
          1.6178389585732904,
          1.758226497494488,
          1.7492261453110591,
          1.8122290534732837,
          1.7774655512770718,
          1.5005476379697218,
          1.5990284823318142,
          1.518310297673454,
          1.471165225221077,
          1.4419733358261506,
          1.3878755896024673,
          1.398876103650743,
          1.381827735086725,
          1.400780927644628,
          1.2893470810670251,
          1.2528214711933554,
          1.299061872016242,
          1.347349808387309,
          1.3110147218673576,
          1.3182532521012131,
          1.3658269020946976,
          1.3884946904972928,
          1.4049716271019663,
          1.4785466146353017,
          1.4984522906221185,
          1.4636411194904255,
          1.4214962278799892,
          1.6043620457078422,
          1.567169808867808,
          1.5408828958311611
         ],
         "yaxis": "y"
        },
        {
         "customdata": [
          [
           "2018-01-01"
          ],
          [
           "2018-01-08"
          ],
          [
           "2018-01-15"
          ],
          [
           "2018-01-22"
          ],
          [
           "2018-01-29"
          ],
          [
           "2018-02-05"
          ],
          [
           "2018-02-12"
          ],
          [
           "2018-02-19"
          ],
          [
           "2018-02-26"
          ],
          [
           "2018-03-05"
          ],
          [
           "2018-03-12"
          ],
          [
           "2018-03-19"
          ],
          [
           "2018-03-26"
          ],
          [
           "2018-04-02"
          ],
          [
           "2018-04-09"
          ],
          [
           "2018-04-16"
          ],
          [
           "2018-04-23"
          ],
          [
           "2018-04-30"
          ],
          [
           "2018-05-07"
          ],
          [
           "2018-05-14"
          ],
          [
           "2018-05-21"
          ],
          [
           "2018-05-28"
          ],
          [
           "2018-06-04"
          ],
          [
           "2018-06-11"
          ],
          [
           "2018-06-18"
          ],
          [
           "2018-06-25"
          ],
          [
           "2018-07-02"
          ],
          [
           "2018-07-09"
          ],
          [
           "2018-07-16"
          ],
          [
           "2018-07-23"
          ],
          [
           "2018-07-30"
          ],
          [
           "2018-08-06"
          ],
          [
           "2018-08-13"
          ],
          [
           "2018-08-20"
          ],
          [
           "2018-08-27"
          ],
          [
           "2018-09-03"
          ],
          [
           "2018-09-10"
          ],
          [
           "2018-09-17"
          ],
          [
           "2018-09-24"
          ],
          [
           "2018-10-01"
          ],
          [
           "2018-10-08"
          ],
          [
           "2018-10-15"
          ],
          [
           "2018-10-22"
          ],
          [
           "2018-10-29"
          ],
          [
           "2018-11-05"
          ],
          [
           "2018-11-12"
          ],
          [
           "2018-11-19"
          ],
          [
           "2018-11-26"
          ],
          [
           "2018-12-03"
          ],
          [
           "2018-12-10"
          ],
          [
           "2018-12-17"
          ],
          [
           "2018-12-24"
          ],
          [
           "2018-12-31"
          ],
          [
           "2019-01-07"
          ],
          [
           "2019-01-14"
          ],
          [
           "2019-01-21"
          ],
          [
           "2019-01-28"
          ],
          [
           "2019-02-04"
          ],
          [
           "2019-02-11"
          ],
          [
           "2019-02-18"
          ],
          [
           "2019-02-25"
          ],
          [
           "2019-03-04"
          ],
          [
           "2019-03-11"
          ],
          [
           "2019-03-18"
          ],
          [
           "2019-03-25"
          ],
          [
           "2019-04-01"
          ],
          [
           "2019-04-08"
          ],
          [
           "2019-04-15"
          ],
          [
           "2019-04-22"
          ],
          [
           "2019-04-29"
          ],
          [
           "2019-05-06"
          ],
          [
           "2019-05-13"
          ],
          [
           "2019-05-20"
          ],
          [
           "2019-05-27"
          ],
          [
           "2019-06-03"
          ],
          [
           "2019-06-10"
          ],
          [
           "2019-06-17"
          ],
          [
           "2019-06-24"
          ],
          [
           "2019-07-01"
          ],
          [
           "2019-07-08"
          ],
          [
           "2019-07-15"
          ],
          [
           "2019-07-22"
          ],
          [
           "2019-07-29"
          ],
          [
           "2019-08-05"
          ],
          [
           "2019-08-12"
          ],
          [
           "2019-08-19"
          ],
          [
           "2019-08-26"
          ],
          [
           "2019-09-02"
          ],
          [
           "2019-09-09"
          ],
          [
           "2019-09-16"
          ],
          [
           "2019-09-23"
          ],
          [
           "2019-09-30"
          ],
          [
           "2019-10-07"
          ],
          [
           "2019-10-14"
          ],
          [
           "2019-10-21"
          ],
          [
           "2019-10-28"
          ],
          [
           "2019-11-04"
          ],
          [
           "2019-11-11"
          ],
          [
           "2019-11-18"
          ],
          [
           "2019-11-25"
          ],
          [
           "2019-12-02"
          ],
          [
           "2019-12-09"
          ],
          [
           "2019-12-16"
          ],
          [
           "2019-12-23"
          ],
          [
           "2019-12-30"
          ]
         ],
         "hovertemplate": "variable=MSFT<br>date=%{customdata[0]|%B %d, %Y}<br>value=%{y}<extra></extra>",
         "legendgroup": "MSFT",
         "line": {
          "color": "#19d3f3",
          "dash": "solid"
         },
         "mode": "lines",
         "name": "MSFT",
         "orientation": "v",
         "showlegend": true,
         "type": "scatter",
         "x": [
          "2018-01-01",
          "2018-01-08",
          "2018-01-15",
          "2018-01-22",
          "2018-01-29",
          "2018-02-05",
          "2018-02-12",
          "2018-02-19",
          "2018-02-26",
          "2018-03-05",
          "2018-03-12",
          "2018-03-19",
          "2018-03-26",
          "2018-04-02",
          "2018-04-09",
          "2018-04-16",
          "2018-04-23",
          "2018-04-30",
          "2018-05-07",
          "2018-05-14",
          "2018-05-21",
          "2018-05-28",
          "2018-06-04",
          "2018-06-11",
          "2018-06-18",
          "2018-06-25",
          "2018-07-02",
          "2018-07-09",
          "2018-07-16",
          "2018-07-23",
          "2018-07-30",
          "2018-08-06",
          "2018-08-13",
          "2018-08-20",
          "2018-08-27",
          "2018-09-03",
          "2018-09-10",
          "2018-09-17",
          "2018-09-24",
          "2018-10-01",
          "2018-10-08",
          "2018-10-15",
          "2018-10-22",
          "2018-10-29",
          "2018-11-05",
          "2018-11-12",
          "2018-11-19",
          "2018-11-26",
          "2018-12-03",
          "2018-12-10",
          "2018-12-17",
          "2018-12-24",
          "2018-12-31",
          "2019-01-07",
          "2019-01-14",
          "2019-01-21",
          "2019-01-28",
          "2019-02-04",
          "2019-02-11",
          "2019-02-18",
          "2019-02-25",
          "2019-03-04",
          "2019-03-11",
          "2019-03-18",
          "2019-03-25",
          "2019-04-01",
          "2019-04-08",
          "2019-04-15",
          "2019-04-22",
          "2019-04-29",
          "2019-05-06",
          "2019-05-13",
          "2019-05-20",
          "2019-05-27",
          "2019-06-03",
          "2019-06-10",
          "2019-06-17",
          "2019-06-24",
          "2019-07-01",
          "2019-07-08",
          "2019-07-15",
          "2019-07-22",
          "2019-07-29",
          "2019-08-05",
          "2019-08-12",
          "2019-08-19",
          "2019-08-26",
          "2019-09-02",
          "2019-09-09",
          "2019-09-16",
          "2019-09-23",
          "2019-09-30",
          "2019-10-07",
          "2019-10-14",
          "2019-10-21",
          "2019-10-28",
          "2019-11-04",
          "2019-11-11",
          "2019-11-18",
          "2019-11-25",
          "2019-12-02",
          "2019-12-09",
          "2019-12-16",
          "2019-12-23",
          "2019-12-30"
         ],
         "xaxis": "x",
         "y": [
          1,
          1.015988161560536,
          1.0205238457756245,
          1.0665607876956391,
          1.0407075282751441,
          0.9998865857832728,
          1.043202153459527,
          1.0665607876956391,
          1.0551082990110374,
          1.0946819232411402,
          1.0726839307702931,
          0.9885474319413214,
          1.034924537137441,
          1.0231318851767346,
          1.0554484622871425,
          1.0772196149853812,
          1.0865177211357813,
          1.0790339249567087,
          1.1078352963411884,
          1.0926408755495889,
          1.1153191832334917,
          1.1428733270694336,
          1.1523981709400573,
          1.1353894401771305,
          1.1385644826269534,
          1.1181539716939797,
          1.147068848008417,
          1.1954869895569342,
          1.2050118447667115,
          1.2210000857013248,
          1.225082192423581,
          1.2359677687727004,
          1.2198661929954373,
          1.2291642991458374,
          1.2737271737447062,
          1.227009825898405,
          1.2855199050794894,
          1.2956117406596723,
          1.2968590589214408,
          1.2714592862805467,
          1.242431086462613,
          1.2321125018230523,
          1.2128358835959658,
          1.203764617218174,
          1.242431086462613,
          1.2279169808840689,
          1.1687265864899288,
          1.2573987581948347,
          1.1885701057133435,
          1.2022904705229511,
          1.1138451159123457,
          1.1383376428543452,
          1.1557999511101045,
          1.1656650489700635,
          1.2213402489774292,
          1.2152170945636216,
          1.1654382205366092,
          1.1982083638006946,
          1.2271232401151322,
          1.2583059131804986,
          1.275994970495635,
          1.2530899137523548,
          1.3143213671771998,
          1.3272479912178707,
          1.3373398267980536,
          1.3594511427723972,
          1.371470623166558,
          1.398911443499003,
          1.4728426811919109,
          1.4616168621926098,
          1.4415465939098175,
          1.45220551191279,
          1.4314547583296346,
          1.4024265471725468,
          1.489964746797488,
          1.5018708923489987,
          1.5531239130712344,
          1.518993128041884,
          1.5541444028995486,
          1.5750084006121237,
          1.5491551411916282,
          1.6026759586647925,
          1.5523300929282209,
          1.5615149549492018,
          1.5435990692006107,
          1.5125297196387406,
          1.5632157599905712,
          1.5772763674503605,
          1.5570926849508404,
          1.581131634400008,
          1.5617416132953483,
          1.5661638719545554,
          1.583852929269692,
          1.5581131747791548,
          1.5957590748212025,
          1.629663201504406,
          1.655062974145301,
          1.7005329130166025,
          1.6962239778608914,
          1.7165211652903694,
          1.720716595516122,
          1.7522394318575931,
          1.7848962516181823,
          1.8024719740906685,
          1.7881845268582712
         ],
         "yaxis": "y"
        }
       ],
       "layout": {
        "legend": {
         "title": {
          "text": "variable"
         },
         "tracegroupgap": 0
        },
        "template": {
         "data": {
          "bar": [
           {
            "error_x": {
             "color": "#2a3f5f"
            },
            "error_y": {
             "color": "#2a3f5f"
            },
            "marker": {
             "line": {
              "color": "#E5ECF6",
              "width": 0.5
             }
            },
            "type": "bar"
           }
          ],
          "barpolar": [
           {
            "marker": {
             "line": {
              "color": "#E5ECF6",
              "width": 0.5
             }
            },
            "type": "barpolar"
           }
          ],
          "carpet": [
           {
            "aaxis": {
             "endlinecolor": "#2a3f5f",
             "gridcolor": "white",
             "linecolor": "white",
             "minorgridcolor": "white",
             "startlinecolor": "#2a3f5f"
            },
            "baxis": {
             "endlinecolor": "#2a3f5f",
             "gridcolor": "white",
             "linecolor": "white",
             "minorgridcolor": "white",
             "startlinecolor": "#2a3f5f"
            },
            "type": "carpet"
           }
          ],
          "choropleth": [
           {
            "colorbar": {
             "outlinewidth": 0,
             "ticks": ""
            },
            "type": "choropleth"
           }
          ],
          "contour": [
           {
            "colorbar": {
             "outlinewidth": 0,
             "ticks": ""
            },
            "colorscale": [
             [
              0,
              "#0d0887"
             ],
             [
              0.1111111111111111,
              "#46039f"
             ],
             [
              0.2222222222222222,
              "#7201a8"
             ],
             [
              0.3333333333333333,
              "#9c179e"
             ],
             [
              0.4444444444444444,
              "#bd3786"
             ],
             [
              0.5555555555555556,
              "#d8576b"
             ],
             [
              0.6666666666666666,
              "#ed7953"
             ],
             [
              0.7777777777777778,
              "#fb9f3a"
             ],
             [
              0.8888888888888888,
              "#fdca26"
             ],
             [
              1,
              "#f0f921"
             ]
            ],
            "type": "contour"
           }
          ],
          "contourcarpet": [
           {
            "colorbar": {
             "outlinewidth": 0,
             "ticks": ""
            },
            "type": "contourcarpet"
           }
          ],
          "heatmap": [
           {
            "colorbar": {
             "outlinewidth": 0,
             "ticks": ""
            },
            "colorscale": [
             [
              0,
              "#0d0887"
             ],
             [
              0.1111111111111111,
              "#46039f"
             ],
             [
              0.2222222222222222,
              "#7201a8"
             ],
             [
              0.3333333333333333,
              "#9c179e"
             ],
             [
              0.4444444444444444,
              "#bd3786"
             ],
             [
              0.5555555555555556,
              "#d8576b"
             ],
             [
              0.6666666666666666,
              "#ed7953"
             ],
             [
              0.7777777777777778,
              "#fb9f3a"
             ],
             [
              0.8888888888888888,
              "#fdca26"
             ],
             [
              1,
              "#f0f921"
             ]
            ],
            "type": "heatmap"
           }
          ],
          "heatmapgl": [
           {
            "colorbar": {
             "outlinewidth": 0,
             "ticks": ""
            },
            "colorscale": [
             [
              0,
              "#0d0887"
             ],
             [
              0.1111111111111111,
              "#46039f"
             ],
             [
              0.2222222222222222,
              "#7201a8"
             ],
             [
              0.3333333333333333,
              "#9c179e"
             ],
             [
              0.4444444444444444,
              "#bd3786"
             ],
             [
              0.5555555555555556,
              "#d8576b"
             ],
             [
              0.6666666666666666,
              "#ed7953"
             ],
             [
              0.7777777777777778,
              "#fb9f3a"
             ],
             [
              0.8888888888888888,
              "#fdca26"
             ],
             [
              1,
              "#f0f921"
             ]
            ],
            "type": "heatmapgl"
           }
          ],
          "histogram": [
           {
            "marker": {
             "colorbar": {
              "outlinewidth": 0,
              "ticks": ""
             }
            },
            "type": "histogram"
           }
          ],
          "histogram2d": [
           {
            "colorbar": {
             "outlinewidth": 0,
             "ticks": ""
            },
            "colorscale": [
             [
              0,
              "#0d0887"
             ],
             [
              0.1111111111111111,
              "#46039f"
             ],
             [
              0.2222222222222222,
              "#7201a8"
             ],
             [
              0.3333333333333333,
              "#9c179e"
             ],
             [
              0.4444444444444444,
              "#bd3786"
             ],
             [
              0.5555555555555556,
              "#d8576b"
             ],
             [
              0.6666666666666666,
              "#ed7953"
             ],
             [
              0.7777777777777778,
              "#fb9f3a"
             ],
             [
              0.8888888888888888,
              "#fdca26"
             ],
             [
              1,
              "#f0f921"
             ]
            ],
            "type": "histogram2d"
           }
          ],
          "histogram2dcontour": [
           {
            "colorbar": {
             "outlinewidth": 0,
             "ticks": ""
            },
            "colorscale": [
             [
              0,
              "#0d0887"
             ],
             [
              0.1111111111111111,
              "#46039f"
             ],
             [
              0.2222222222222222,
              "#7201a8"
             ],
             [
              0.3333333333333333,
              "#9c179e"
             ],
             [
              0.4444444444444444,
              "#bd3786"
             ],
             [
              0.5555555555555556,
              "#d8576b"
             ],
             [
              0.6666666666666666,
              "#ed7953"
             ],
             [
              0.7777777777777778,
              "#fb9f3a"
             ],
             [
              0.8888888888888888,
              "#fdca26"
             ],
             [
              1,
              "#f0f921"
             ]
            ],
            "type": "histogram2dcontour"
           }
          ],
          "mesh3d": [
           {
            "colorbar": {
             "outlinewidth": 0,
             "ticks": ""
            },
            "type": "mesh3d"
           }
          ],
          "parcoords": [
           {
            "line": {
             "colorbar": {
              "outlinewidth": 0,
              "ticks": ""
             }
            },
            "type": "parcoords"
           }
          ],
          "pie": [
           {
            "automargin": true,
            "type": "pie"
           }
          ],
          "scatter": [
           {
            "marker": {
             "colorbar": {
              "outlinewidth": 0,
              "ticks": ""
             }
            },
            "type": "scatter"
           }
          ],
          "scatter3d": [
           {
            "line": {
             "colorbar": {
              "outlinewidth": 0,
              "ticks": ""
             }
            },
            "marker": {
             "colorbar": {
              "outlinewidth": 0,
              "ticks": ""
             }
            },
            "type": "scatter3d"
           }
          ],
          "scattercarpet": [
           {
            "marker": {
             "colorbar": {
              "outlinewidth": 0,
              "ticks": ""
             }
            },
            "type": "scattercarpet"
           }
          ],
          "scattergeo": [
           {
            "marker": {
             "colorbar": {
              "outlinewidth": 0,
              "ticks": ""
             }
            },
            "type": "scattergeo"
           }
          ],
          "scattergl": [
           {
            "marker": {
             "colorbar": {
              "outlinewidth": 0,
              "ticks": ""
             }
            },
            "type": "scattergl"
           }
          ],
          "scattermapbox": [
           {
            "marker": {
             "colorbar": {
              "outlinewidth": 0,
              "ticks": ""
             }
            },
            "type": "scattermapbox"
           }
          ],
          "scatterpolar": [
           {
            "marker": {
             "colorbar": {
              "outlinewidth": 0,
              "ticks": ""
             }
            },
            "type": "scatterpolar"
           }
          ],
          "scatterpolargl": [
           {
            "marker": {
             "colorbar": {
              "outlinewidth": 0,
              "ticks": ""
             }
            },
            "type": "scatterpolargl"
           }
          ],
          "scatterternary": [
           {
            "marker": {
             "colorbar": {
              "outlinewidth": 0,
              "ticks": ""
             }
            },
            "type": "scatterternary"
           }
          ],
          "surface": [
           {
            "colorbar": {
             "outlinewidth": 0,
             "ticks": ""
            },
            "colorscale": [
             [
              0,
              "#0d0887"
             ],
             [
              0.1111111111111111,
              "#46039f"
             ],
             [
              0.2222222222222222,
              "#7201a8"
             ],
             [
              0.3333333333333333,
              "#9c179e"
             ],
             [
              0.4444444444444444,
              "#bd3786"
             ],
             [
              0.5555555555555556,
              "#d8576b"
             ],
             [
              0.6666666666666666,
              "#ed7953"
             ],
             [
              0.7777777777777778,
              "#fb9f3a"
             ],
             [
              0.8888888888888888,
              "#fdca26"
             ],
             [
              1,
              "#f0f921"
             ]
            ],
            "type": "surface"
           }
          ],
          "table": [
           {
            "cells": {
             "fill": {
              "color": "#EBF0F8"
             },
             "line": {
              "color": "white"
             }
            },
            "header": {
             "fill": {
              "color": "#C8D4E3"
             },
             "line": {
              "color": "white"
             }
            },
            "type": "table"
           }
          ]
         },
         "layout": {
          "annotationdefaults": {
           "arrowcolor": "#2a3f5f",
           "arrowhead": 0,
           "arrowwidth": 1
          },
          "coloraxis": {
           "colorbar": {
            "outlinewidth": 0,
            "ticks": ""
           }
          },
          "colorscale": {
           "diverging": [
            [
             0,
             "#8e0152"
            ],
            [
             0.1,
             "#c51b7d"
            ],
            [
             0.2,
             "#de77ae"
            ],
            [
             0.3,
             "#f1b6da"
            ],
            [
             0.4,
             "#fde0ef"
            ],
            [
             0.5,
             "#f7f7f7"
            ],
            [
             0.6,
             "#e6f5d0"
            ],
            [
             0.7,
             "#b8e186"
            ],
            [
             0.8,
             "#7fbc41"
            ],
            [
             0.9,
             "#4d9221"
            ],
            [
             1,
             "#276419"
            ]
           ],
           "sequential": [
            [
             0,
             "#0d0887"
            ],
            [
             0.1111111111111111,
             "#46039f"
            ],
            [
             0.2222222222222222,
             "#7201a8"
            ],
            [
             0.3333333333333333,
             "#9c179e"
            ],
            [
             0.4444444444444444,
             "#bd3786"
            ],
            [
             0.5555555555555556,
             "#d8576b"
            ],
            [
             0.6666666666666666,
             "#ed7953"
            ],
            [
             0.7777777777777778,
             "#fb9f3a"
            ],
            [
             0.8888888888888888,
             "#fdca26"
            ],
            [
             1,
             "#f0f921"
            ]
           ],
           "sequentialminus": [
            [
             0,
             "#0d0887"
            ],
            [
             0.1111111111111111,
             "#46039f"
            ],
            [
             0.2222222222222222,
             "#7201a8"
            ],
            [
             0.3333333333333333,
             "#9c179e"
            ],
            [
             0.4444444444444444,
             "#bd3786"
            ],
            [
             0.5555555555555556,
             "#d8576b"
            ],
            [
             0.6666666666666666,
             "#ed7953"
            ],
            [
             0.7777777777777778,
             "#fb9f3a"
            ],
            [
             0.8888888888888888,
             "#fdca26"
            ],
            [
             1,
             "#f0f921"
            ]
           ]
          },
          "colorway": [
           "#636efa",
           "#EF553B",
           "#00cc96",
           "#ab63fa",
           "#FFA15A",
           "#19d3f3",
           "#FF6692",
           "#B6E880",
           "#FF97FF",
           "#FECB52"
          ],
          "font": {
           "color": "#2a3f5f"
          },
          "geo": {
           "bgcolor": "white",
           "lakecolor": "white",
           "landcolor": "#E5ECF6",
           "showlakes": true,
           "showland": true,
           "subunitcolor": "white"
          },
          "hoverlabel": {
           "align": "left"
          },
          "hovermode": "closest",
          "mapbox": {
           "style": "light"
          },
          "paper_bgcolor": "white",
          "plot_bgcolor": "#E5ECF6",
          "polar": {
           "angularaxis": {
            "gridcolor": "white",
            "linecolor": "white",
            "ticks": ""
           },
           "bgcolor": "#E5ECF6",
           "radialaxis": {
            "gridcolor": "white",
            "linecolor": "white",
            "ticks": ""
           }
          },
          "scene": {
           "xaxis": {
            "backgroundcolor": "#E5ECF6",
            "gridcolor": "white",
            "gridwidth": 2,
            "linecolor": "white",
            "showbackground": true,
            "ticks": "",
            "zerolinecolor": "white"
           },
           "yaxis": {
            "backgroundcolor": "#E5ECF6",
            "gridcolor": "white",
            "gridwidth": 2,
            "linecolor": "white",
            "showbackground": true,
            "ticks": "",
            "zerolinecolor": "white"
           },
           "zaxis": {
            "backgroundcolor": "#E5ECF6",
            "gridcolor": "white",
            "gridwidth": 2,
            "linecolor": "white",
            "showbackground": true,
            "ticks": "",
            "zerolinecolor": "white"
           }
          },
          "shapedefaults": {
           "line": {
            "color": "#2a3f5f"
           }
          },
          "ternary": {
           "aaxis": {
            "gridcolor": "white",
            "linecolor": "white",
            "ticks": ""
           },
           "baxis": {
            "gridcolor": "white",
            "linecolor": "white",
            "ticks": ""
           },
           "bgcolor": "#E5ECF6",
           "caxis": {
            "gridcolor": "white",
            "linecolor": "white",
            "ticks": ""
           }
          },
          "title": {
           "x": 0.05
          },
          "xaxis": {
           "automargin": true,
           "gridcolor": "white",
           "linecolor": "white",
           "ticks": "",
           "title": {
            "standoff": 15
           },
           "zerolinecolor": "white",
           "zerolinewidth": 2
          },
          "yaxis": {
           "automargin": true,
           "gridcolor": "white",
           "linecolor": "white",
           "ticks": "",
           "title": {
            "standoff": 15
           },
           "zerolinecolor": "white",
           "zerolinewidth": 2
          }
         }
        },
        "title": {
         "text": "custom tick labels"
        },
        "xaxis": {
         "anchor": "y",
         "domain": [
          0,
          1
         ],
         "dtick": "M1",
         "tickformat": "%b\n%Y",
         "title": {
          "text": "date"
         }
        },
        "yaxis": {
         "anchor": "x",
         "domain": [
          0,
          1
         ],
         "title": {
          "text": "value"
         }
        }
       }
      },
      "text/html": [
       "<div>\n",
       "        \n",
       "        \n",
       "            <div id=\"3f7533db-5acf-40da-95db-3640605fb5dd\" class=\"plotly-graph-div\" style=\"height:525px; width:100%;\"></div>\n",
       "            <script type=\"text/javascript\">\n",
       "                require([\"plotly\"], function(Plotly) {\n",
       "                    window.PLOTLYENV=window.PLOTLYENV || {};\n",
       "                    \n",
       "                if (document.getElementById(\"3f7533db-5acf-40da-95db-3640605fb5dd\")) {\n",
       "                    Plotly.newPlot(\n",
       "                        '3f7533db-5acf-40da-95db-3640605fb5dd',\n",
       "                        [{\"customdata\": [[\"2018-01-01\"], [\"2018-01-08\"], [\"2018-01-15\"], [\"2018-01-22\"], [\"2018-01-29\"], [\"2018-02-05\"], [\"2018-02-12\"], [\"2018-02-19\"], [\"2018-02-26\"], [\"2018-03-05\"], [\"2018-03-12\"], [\"2018-03-19\"], [\"2018-03-26\"], [\"2018-04-02\"], [\"2018-04-09\"], [\"2018-04-16\"], [\"2018-04-23\"], [\"2018-04-30\"], [\"2018-05-07\"], [\"2018-05-14\"], [\"2018-05-21\"], [\"2018-05-28\"], [\"2018-06-04\"], [\"2018-06-11\"], [\"2018-06-18\"], [\"2018-06-25\"], [\"2018-07-02\"], [\"2018-07-09\"], [\"2018-07-16\"], [\"2018-07-23\"], [\"2018-07-30\"], [\"2018-08-06\"], [\"2018-08-13\"], [\"2018-08-20\"], [\"2018-08-27\"], [\"2018-09-03\"], [\"2018-09-10\"], [\"2018-09-17\"], [\"2018-09-24\"], [\"2018-10-01\"], [\"2018-10-08\"], [\"2018-10-15\"], [\"2018-10-22\"], [\"2018-10-29\"], [\"2018-11-05\"], [\"2018-11-12\"], [\"2018-11-19\"], [\"2018-11-26\"], [\"2018-12-03\"], [\"2018-12-10\"], [\"2018-12-17\"], [\"2018-12-24\"], [\"2018-12-31\"], [\"2019-01-07\"], [\"2019-01-14\"], [\"2019-01-21\"], [\"2019-01-28\"], [\"2019-02-04\"], [\"2019-02-11\"], [\"2019-02-18\"], [\"2019-02-25\"], [\"2019-03-04\"], [\"2019-03-11\"], [\"2019-03-18\"], [\"2019-03-25\"], [\"2019-04-01\"], [\"2019-04-08\"], [\"2019-04-15\"], [\"2019-04-22\"], [\"2019-04-29\"], [\"2019-05-06\"], [\"2019-05-13\"], [\"2019-05-20\"], [\"2019-05-27\"], [\"2019-06-03\"], [\"2019-06-10\"], [\"2019-06-17\"], [\"2019-06-24\"], [\"2019-07-01\"], [\"2019-07-08\"], [\"2019-07-15\"], [\"2019-07-22\"], [\"2019-07-29\"], [\"2019-08-05\"], [\"2019-08-12\"], [\"2019-08-19\"], [\"2019-08-26\"], [\"2019-09-02\"], [\"2019-09-09\"], [\"2019-09-16\"], [\"2019-09-23\"], [\"2019-09-30\"], [\"2019-10-07\"], [\"2019-10-14\"], [\"2019-10-21\"], [\"2019-10-28\"], [\"2019-11-04\"], [\"2019-11-11\"], [\"2019-11-18\"], [\"2019-11-25\"], [\"2019-12-02\"], [\"2019-12-09\"], [\"2019-12-16\"], [\"2019-12-23\"], [\"2019-12-30\"]], \"hovertemplate\": \"variable=GOOG<br>date=%{customdata[0]|%B %d, %Y}<br>value=%{y}<extra></extra>\", \"legendgroup\": \"GOOG\", \"line\": {\"color\": \"#636efa\", \"dash\": \"solid\"}, \"mode\": \"lines\", \"name\": \"GOOG\", \"orientation\": \"v\", \"showlegend\": true, \"type\": \"scatter\", \"x\": [\"2018-01-01\", \"2018-01-08\", \"2018-01-15\", \"2018-01-22\", \"2018-01-29\", \"2018-02-05\", \"2018-02-12\", \"2018-02-19\", \"2018-02-26\", \"2018-03-05\", \"2018-03-12\", \"2018-03-19\", \"2018-03-26\", \"2018-04-02\", \"2018-04-09\", \"2018-04-16\", \"2018-04-23\", \"2018-04-30\", \"2018-05-07\", \"2018-05-14\", \"2018-05-21\", \"2018-05-28\", \"2018-06-04\", \"2018-06-11\", \"2018-06-18\", \"2018-06-25\", \"2018-07-02\", \"2018-07-09\", \"2018-07-16\", \"2018-07-23\", \"2018-07-30\", \"2018-08-06\", \"2018-08-13\", \"2018-08-20\", \"2018-08-27\", \"2018-09-03\", \"2018-09-10\", \"2018-09-17\", \"2018-09-24\", \"2018-10-01\", \"2018-10-08\", \"2018-10-15\", \"2018-10-22\", \"2018-10-29\", \"2018-11-05\", \"2018-11-12\", \"2018-11-19\", \"2018-11-26\", \"2018-12-03\", \"2018-12-10\", \"2018-12-17\", \"2018-12-24\", \"2018-12-31\", \"2019-01-07\", \"2019-01-14\", \"2019-01-21\", \"2019-01-28\", \"2019-02-04\", \"2019-02-11\", \"2019-02-18\", \"2019-02-25\", \"2019-03-04\", \"2019-03-11\", \"2019-03-18\", \"2019-03-25\", \"2019-04-01\", \"2019-04-08\", \"2019-04-15\", \"2019-04-22\", \"2019-04-29\", \"2019-05-06\", \"2019-05-13\", \"2019-05-20\", \"2019-05-27\", \"2019-06-03\", \"2019-06-10\", \"2019-06-17\", \"2019-06-24\", \"2019-07-01\", \"2019-07-08\", \"2019-07-15\", \"2019-07-22\", \"2019-07-29\", \"2019-08-05\", \"2019-08-12\", \"2019-08-19\", \"2019-08-26\", \"2019-09-02\", \"2019-09-09\", \"2019-09-16\", \"2019-09-23\", \"2019-09-30\", \"2019-10-07\", \"2019-10-14\", \"2019-10-21\", \"2019-10-28\", \"2019-11-04\", \"2019-11-11\", \"2019-11-18\", \"2019-11-25\", \"2019-12-02\", \"2019-12-09\", \"2019-12-16\", \"2019-12-23\", \"2019-12-30\"], \"xaxis\": \"x\", \"y\": [1.0, 1.018172278347936, 1.032007866452698, 1.066782783389724, 1.0087731636550117, 0.9415276737437316, 0.99325918262539, 1.0222821547641083, 0.9788520214265992, 1.0524482730908842, 1.0303929312465263, 0.926821104067592, 0.9360932452590338, 0.913638710861412, 0.93380695379017, 0.9734447261178653, 0.9345146364100892, 0.9509902470625956, 0.9963982380519172, 0.9674568868105002, 0.9758943718805396, 1.015668254641377, 1.0169111849053498, 1.0453898287179595, 1.0483111519067918, 1.0121753574512644, 1.0344211867653972, 1.0785588920381208, 1.075011617811375, 1.1236312044424703, 1.1102129167272332, 1.1228237368393843, 1.0895729410299655, 1.1074367837463466, 1.1052048693141154, 1.0567939333314087, 1.0637798374890872, 1.0579370795194665, 1.0827776350267664, 1.0500077089175164, 1.0071219039061161, 0.9947651405743836, 0.9720929301886708, 0.959681788913054, 0.9672663993407256, 0.9630385756700248, 0.9289168536315806, 0.992923504040418, 0.9404389054995582, 0.945446952912676, 0.8886892896888904, 0.9408925313390586, 0.9714034098401132, 0.9591373489949891, 0.9963982380519172, 0.989802500200548, 1.0077298024501202, 0.9934950771344468, 1.0103608540932627, 1.0073850422758417, 1.035165084150587, 1.0363716889645844, 1.0746032883264525, 1.0936918990354445, 1.064487521016258, 1.095188886079836, 1.1049145977684258, 1.1216987538299403, 1.1541874899828073, 1.075456162061569, 1.0562859304552756, 1.0544986709579427, 1.0283425342867192, 1.0012701750318929, 0.9671666152648106, 0.98468558802946, 1.0178275181736574, 0.980657443195294, 1.0266368965939394, 1.0387124690620373, 1.025285100664745, 1.1344366027859267, 1.0832494231376286, 1.0778240762422375, 1.068379555417282, 1.0445098208996275, 1.0779056980467905, 1.0931748145700046, 1.12459294475006, 1.1158561065450243, 1.1114649285805127, 1.0968672799119472, 1.1027190087861698, 1.129972884606169, 1.1477913211905195, 1.1556027445379409, 1.189742629754999, 1.2110630442115171, 1.1751993590303178, 1.1839271156460471, 1.216279741365772, 1.222820990588552, 1.22441776261611, 1.2265044859331442, 1.213013658002661], \"yaxis\": \"y\"}, {\"customdata\": [[\"2018-01-01\"], [\"2018-01-08\"], [\"2018-01-15\"], [\"2018-01-22\"], [\"2018-01-29\"], [\"2018-02-05\"], [\"2018-02-12\"], [\"2018-02-19\"], [\"2018-02-26\"], [\"2018-03-05\"], [\"2018-03-12\"], [\"2018-03-19\"], [\"2018-03-26\"], [\"2018-04-02\"], [\"2018-04-09\"], [\"2018-04-16\"], [\"2018-04-23\"], [\"2018-04-30\"], [\"2018-05-07\"], [\"2018-05-14\"], [\"2018-05-21\"], [\"2018-05-28\"], [\"2018-06-04\"], [\"2018-06-11\"], [\"2018-06-18\"], [\"2018-06-25\"], [\"2018-07-02\"], [\"2018-07-09\"], [\"2018-07-16\"], [\"2018-07-23\"], [\"2018-07-30\"], [\"2018-08-06\"], [\"2018-08-13\"], [\"2018-08-20\"], [\"2018-08-27\"], [\"2018-09-03\"], [\"2018-09-10\"], [\"2018-09-17\"], [\"2018-09-24\"], [\"2018-10-01\"], [\"2018-10-08\"], [\"2018-10-15\"], [\"2018-10-22\"], [\"2018-10-29\"], [\"2018-11-05\"], [\"2018-11-12\"], [\"2018-11-19\"], [\"2018-11-26\"], [\"2018-12-03\"], [\"2018-12-10\"], [\"2018-12-17\"], [\"2018-12-24\"], [\"2018-12-31\"], [\"2019-01-07\"], [\"2019-01-14\"], [\"2019-01-21\"], [\"2019-01-28\"], [\"2019-02-04\"], [\"2019-02-11\"], [\"2019-02-18\"], [\"2019-02-25\"], [\"2019-03-04\"], [\"2019-03-11\"], [\"2019-03-18\"], [\"2019-03-25\"], [\"2019-04-01\"], [\"2019-04-08\"], [\"2019-04-15\"], [\"2019-04-22\"], [\"2019-04-29\"], [\"2019-05-06\"], [\"2019-05-13\"], [\"2019-05-20\"], [\"2019-05-27\"], [\"2019-06-03\"], [\"2019-06-10\"], [\"2019-06-17\"], [\"2019-06-24\"], [\"2019-07-01\"], [\"2019-07-08\"], [\"2019-07-15\"], [\"2019-07-22\"], [\"2019-07-29\"], [\"2019-08-05\"], [\"2019-08-12\"], [\"2019-08-19\"], [\"2019-08-26\"], [\"2019-09-02\"], [\"2019-09-09\"], [\"2019-09-16\"], [\"2019-09-23\"], [\"2019-09-30\"], [\"2019-10-07\"], [\"2019-10-14\"], [\"2019-10-21\"], [\"2019-10-28\"], [\"2019-11-04\"], [\"2019-11-11\"], [\"2019-11-18\"], [\"2019-11-25\"], [\"2019-12-02\"], [\"2019-12-09\"], [\"2019-12-16\"], [\"2019-12-23\"], [\"2019-12-30\"]], \"hovertemplate\": \"variable=AAPL<br>date=%{customdata[0]|%B %d, %Y}<br>value=%{y}<extra></extra>\", \"legendgroup\": \"AAPL\", \"line\": {\"color\": \"#EF553B\", \"dash\": \"solid\"}, \"mode\": \"lines\", \"name\": \"AAPL\", \"orientation\": \"v\", \"showlegend\": true, \"type\": \"scatter\", \"x\": [\"2018-01-01\", \"2018-01-08\", \"2018-01-15\", \"2018-01-22\", \"2018-01-29\", \"2018-02-05\", \"2018-02-12\", \"2018-02-19\", \"2018-02-26\", \"2018-03-05\", \"2018-03-12\", \"2018-03-19\", \"2018-03-26\", \"2018-04-02\", \"2018-04-09\", \"2018-04-16\", \"2018-04-23\", \"2018-04-30\", \"2018-05-07\", \"2018-05-14\", \"2018-05-21\", \"2018-05-28\", \"2018-06-04\", \"2018-06-11\", \"2018-06-18\", \"2018-06-25\", \"2018-07-02\", \"2018-07-09\", \"2018-07-16\", \"2018-07-23\", \"2018-07-30\", \"2018-08-06\", \"2018-08-13\", \"2018-08-20\", \"2018-08-27\", \"2018-09-03\", \"2018-09-10\", \"2018-09-17\", \"2018-09-24\", \"2018-10-01\", \"2018-10-08\", \"2018-10-15\", \"2018-10-22\", \"2018-10-29\", \"2018-11-05\", \"2018-11-12\", \"2018-11-19\", \"2018-11-26\", \"2018-12-03\", \"2018-12-10\", \"2018-12-17\", \"2018-12-24\", \"2018-12-31\", \"2019-01-07\", \"2019-01-14\", \"2019-01-21\", \"2019-01-28\", \"2019-02-04\", \"2019-02-11\", \"2019-02-18\", \"2019-02-25\", \"2019-03-04\", \"2019-03-11\", \"2019-03-18\", \"2019-03-25\", \"2019-04-01\", \"2019-04-08\", \"2019-04-15\", \"2019-04-22\", \"2019-04-29\", \"2019-05-06\", \"2019-05-13\", \"2019-05-20\", \"2019-05-27\", \"2019-06-03\", \"2019-06-10\", \"2019-06-17\", \"2019-06-24\", \"2019-07-01\", \"2019-07-08\", \"2019-07-15\", \"2019-07-22\", \"2019-07-29\", \"2019-08-05\", \"2019-08-12\", \"2019-08-19\", \"2019-08-26\", \"2019-09-02\", \"2019-09-09\", \"2019-09-16\", \"2019-09-23\", \"2019-09-30\", \"2019-10-07\", \"2019-10-14\", \"2019-10-21\", \"2019-10-28\", \"2019-11-04\", \"2019-11-11\", \"2019-11-18\", \"2019-11-25\", \"2019-12-02\", \"2019-12-09\", \"2019-12-16\", \"2019-12-23\", \"2019-12-30\"], \"xaxis\": \"x\", \"y\": [1.0, 1.0119428342857142, 1.0197714685714288, 0.9800571142857144, 0.9171428571428571, 0.8937714514285715, 0.9853142457142856, 1.002857142857143, 1.006914325714286, 1.02845712, 1.0172571657142857, 0.9425142971428572, 0.9587428514285714, 0.9621714571428572, 0.99845712, 0.9469714342857144, 0.9275428971428572, 1.0504571542857144, 1.07765712, 1.06462856, 1.0776000114285715, 1.0870857428571428, 1.0954285542857145, 1.0790856914285714, 1.0566857028571428, 1.0577714342857143, 1.0741142914285715, 1.093314297142857, 1.0939428685714283, 1.0913142628571428, 1.1885143142857142, 1.1858857085714285, 1.2433142971428572, 1.2352000228571431, 1.3007428857142855, 1.2645714457142856, 1.279085691428571, 1.2437714514285716, 1.2899428857142856, 1.2816571028571428, 1.2692000057142856, 1.253199988571429, 1.236000017142857, 1.1855999771428571, 1.1684000057142856, 1.1058857085714286, 0.9845142457142856, 1.0204571542857144, 0.9628000285714284, 0.9455999771428572, 0.8613142628571429, 0.8927428342857143, 0.8471999714285714, 0.8702285314285714, 0.8961143257142857, 0.9014856857142858, 0.95154288, 0.9737714514285716, 0.97382856, 0.9884000057142855, 0.9998285771428572, 0.9880571657142858, 1.0635428285714286, 1.0917143028571428, 1.0854285542857145, 1.1257142857142857, 1.1363999714285713, 1.1649142914285715, 1.1674285885714286, 1.21, 1.1267428171428568, 1.08, 1.02268572, 1.00040004, 1.0865713942857145, 1.1013714571428572, 1.135885708571429, 1.1309714171428569, 1.167028548571429, 1.1617143028571428, 1.15765712, 1.1870857428571429, 1.1658285942857145, 1.1485143142857142, 1.18, 1.1579428514285717, 1.1928000285714286, 1.218628542857143, 1.25, 1.2441714057142856, 1.25040004, 1.2971999714285716, 1.3497714685714286, 1.3509143085714286, 1.409028582857143, 1.4618286114285712, 1.4865143714285716, 1.5186286285714288, 1.4958857085714288, 1.5271428571428571, 1.5469142342857145, 1.57228568, 1.5968000114285714, 1.6559999314285714, 1.6779999657142857], \"yaxis\": \"y\"}, {\"customdata\": [[\"2018-01-01\"], [\"2018-01-08\"], [\"2018-01-15\"], [\"2018-01-22\"], [\"2018-01-29\"], [\"2018-02-05\"], [\"2018-02-12\"], [\"2018-02-19\"], [\"2018-02-26\"], [\"2018-03-05\"], [\"2018-03-12\"], [\"2018-03-19\"], [\"2018-03-26\"], [\"2018-04-02\"], [\"2018-04-09\"], [\"2018-04-16\"], [\"2018-04-23\"], [\"2018-04-30\"], [\"2018-05-07\"], [\"2018-05-14\"], [\"2018-05-21\"], [\"2018-05-28\"], [\"2018-06-04\"], [\"2018-06-11\"], [\"2018-06-18\"], [\"2018-06-25\"], [\"2018-07-02\"], [\"2018-07-09\"], [\"2018-07-16\"], [\"2018-07-23\"], [\"2018-07-30\"], [\"2018-08-06\"], [\"2018-08-13\"], [\"2018-08-20\"], [\"2018-08-27\"], [\"2018-09-03\"], [\"2018-09-10\"], [\"2018-09-17\"], [\"2018-09-24\"], [\"2018-10-01\"], [\"2018-10-08\"], [\"2018-10-15\"], [\"2018-10-22\"], [\"2018-10-29\"], [\"2018-11-05\"], [\"2018-11-12\"], [\"2018-11-19\"], [\"2018-11-26\"], [\"2018-12-03\"], [\"2018-12-10\"], [\"2018-12-17\"], [\"2018-12-24\"], [\"2018-12-31\"], [\"2019-01-07\"], [\"2019-01-14\"], [\"2019-01-21\"], [\"2019-01-28\"], [\"2019-02-04\"], [\"2019-02-11\"], [\"2019-02-18\"], [\"2019-02-25\"], [\"2019-03-04\"], [\"2019-03-11\"], [\"2019-03-18\"], [\"2019-03-25\"], [\"2019-04-01\"], [\"2019-04-08\"], [\"2019-04-15\"], [\"2019-04-22\"], [\"2019-04-29\"], [\"2019-05-06\"], [\"2019-05-13\"], [\"2019-05-20\"], [\"2019-05-27\"], [\"2019-06-03\"], [\"2019-06-10\"], [\"2019-06-17\"], [\"2019-06-24\"], [\"2019-07-01\"], [\"2019-07-08\"], [\"2019-07-15\"], [\"2019-07-22\"], [\"2019-07-29\"], [\"2019-08-05\"], [\"2019-08-12\"], [\"2019-08-19\"], [\"2019-08-26\"], [\"2019-09-02\"], [\"2019-09-09\"], [\"2019-09-16\"], [\"2019-09-23\"], [\"2019-09-30\"], [\"2019-10-07\"], [\"2019-10-14\"], [\"2019-10-21\"], [\"2019-10-28\"], [\"2019-11-04\"], [\"2019-11-11\"], [\"2019-11-18\"], [\"2019-11-25\"], [\"2019-12-02\"], [\"2019-12-09\"], [\"2019-12-16\"], [\"2019-12-23\"], [\"2019-12-30\"]], \"hovertemplate\": \"variable=AMZN<br>date=%{customdata[0]|%B %d, %Y}<br>value=%{y}<extra></extra>\", \"legendgroup\": \"AMZN\", \"line\": {\"color\": \"#00cc96\", \"dash\": \"solid\"}, \"mode\": \"lines\", \"name\": \"AMZN\", \"orientation\": \"v\", \"showlegend\": true, \"type\": \"scatter\", \"x\": [\"2018-01-01\", \"2018-01-08\", \"2018-01-15\", \"2018-01-22\", \"2018-01-29\", \"2018-02-05\", \"2018-02-12\", \"2018-02-19\", \"2018-02-26\", \"2018-03-05\", \"2018-03-12\", \"2018-03-19\", \"2018-03-26\", \"2018-04-02\", \"2018-04-09\", \"2018-04-16\", \"2018-04-23\", \"2018-04-30\", \"2018-05-07\", \"2018-05-14\", \"2018-05-21\", \"2018-05-28\", \"2018-06-04\", \"2018-06-11\", \"2018-06-18\", \"2018-06-25\", \"2018-07-02\", \"2018-07-09\", \"2018-07-16\", \"2018-07-23\", \"2018-07-30\", \"2018-08-06\", \"2018-08-13\", \"2018-08-20\", \"2018-08-27\", \"2018-09-03\", \"2018-09-10\", \"2018-09-17\", \"2018-09-24\", \"2018-10-01\", \"2018-10-08\", \"2018-10-15\", \"2018-10-22\", \"2018-10-29\", \"2018-11-05\", \"2018-11-12\", \"2018-11-19\", \"2018-11-26\", \"2018-12-03\", \"2018-12-10\", \"2018-12-17\", \"2018-12-24\", \"2018-12-31\", \"2019-01-07\", \"2019-01-14\", \"2019-01-21\", \"2019-01-28\", \"2019-02-04\", \"2019-02-11\", \"2019-02-18\", \"2019-02-25\", \"2019-03-04\", \"2019-03-11\", \"2019-03-18\", \"2019-03-25\", \"2019-04-01\", \"2019-04-08\", \"2019-04-15\", \"2019-04-22\", \"2019-04-29\", \"2019-05-06\", \"2019-05-13\", \"2019-05-20\", \"2019-05-27\", \"2019-06-03\", \"2019-06-10\", \"2019-06-17\", \"2019-06-24\", \"2019-07-01\", \"2019-07-08\", \"2019-07-15\", \"2019-07-22\", \"2019-07-29\", \"2019-08-05\", \"2019-08-12\", \"2019-08-19\", \"2019-08-26\", \"2019-09-02\", \"2019-09-09\", \"2019-09-16\", \"2019-09-23\", \"2019-09-30\", \"2019-10-07\", \"2019-10-14\", \"2019-10-21\", \"2019-10-28\", \"2019-11-04\", \"2019-11-11\", \"2019-11-18\", \"2019-11-25\", \"2019-12-02\", \"2019-12-09\", \"2019-12-16\", \"2019-12-23\", \"2019-12-30\"], \"xaxis\": \"x\", \"y\": [1.0, 1.0618806117055757, 1.0532404284307677, 1.1406756202628388, 1.1633743377885228, 1.0898676795580526, 1.1786207619316666, 1.2203654438831366, 1.2205688381237838, 1.284548542665418, 1.2786826844946546, 1.2167532101702832, 1.1775224533715958, 1.1432627388670606, 1.16405781403187, 1.2427306664489322, 1.2794473988384474, 1.2862244591394254, 1.3040906767647622, 1.2808711585229775, 1.3099809658381354, 1.3355191588974509, 1.3700554610940725, 1.3960736368996989, 1.3958296232020404, 1.3829181608736414, 1.391729163581091, 1.4750394640760272, 1.4755844971819587, 1.4784890230752108, 1.4833867718479574, 1.5346502643964448, 1.5313308069300795, 1.5501814209506477, 1.637494456642517, 1.5881591374274802, 1.6029011479217037, 1.5580080272628667, 1.6295946560652816, 1.5373757268816928, 1.4551718788522234, 1.435174192909178, 1.3365524179114776, 1.3550368620941855, 1.3931936419790223, 1.2963616956201691, 1.22204146042711, 1.3750834106560272, 1.3254226411301075, 1.295141330176286, 1.1206615472526131, 1.2024830385169751, 1.2817010232963573, 1.334721869745653, 1.3799892040777797, 1.3591372224587452, 1.3230632475991762, 1.2921391799289847, 1.3081910371293215, 1.3273996770823542, 1.3600809993969647, 1.3186455808291295, 1.393136635454831, 1.4357762325393009, 1.4487771761299302, 1.4947687054188046, 1.4994712046698764, 1.5146280474808236, 1.5869876346023932, 1.596612214272432, 1.537644171481961, 1.5205753430783882, 1.4833786279425618, 1.44415601504927, 1.4677172714127285, 1.521120475440709, 1.5549896884611636, 1.540613747734834, 1.58070684404494, 1.6361032717659916, 1.5982882308164057, 1.5808207570233568, 1.4833460531345568, 1.4706054102388, 1.4583936118945735, 1.4234505212166575, 1.445148654606286, 1.491701504811883, 1.4964446227063888, 1.4596872708598625, 1.4037863302335007, 1.4153391824933792, 1.4090502488441077, 1.4298696556551374, 1.43297747571907, 1.4574742658589632, 1.452950830015895, 1.4152089825177483, 1.420277551536714, 1.4650894340951057, 1.425061388144621, 1.4326601685000062, 1.4534552436648156, 1.52122624451373, 1.503360026888393], \"yaxis\": \"y\"}, {\"customdata\": [[\"2018-01-01\"], [\"2018-01-08\"], [\"2018-01-15\"], [\"2018-01-22\"], [\"2018-01-29\"], [\"2018-02-05\"], [\"2018-02-12\"], [\"2018-02-19\"], [\"2018-02-26\"], [\"2018-03-05\"], [\"2018-03-12\"], [\"2018-03-19\"], [\"2018-03-26\"], [\"2018-04-02\"], [\"2018-04-09\"], [\"2018-04-16\"], [\"2018-04-23\"], [\"2018-04-30\"], [\"2018-05-07\"], [\"2018-05-14\"], [\"2018-05-21\"], [\"2018-05-28\"], [\"2018-06-04\"], [\"2018-06-11\"], [\"2018-06-18\"], [\"2018-06-25\"], [\"2018-07-02\"], [\"2018-07-09\"], [\"2018-07-16\"], [\"2018-07-23\"], [\"2018-07-30\"], [\"2018-08-06\"], [\"2018-08-13\"], [\"2018-08-20\"], [\"2018-08-27\"], [\"2018-09-03\"], [\"2018-09-10\"], [\"2018-09-17\"], [\"2018-09-24\"], [\"2018-10-01\"], [\"2018-10-08\"], [\"2018-10-15\"], [\"2018-10-22\"], [\"2018-10-29\"], [\"2018-11-05\"], [\"2018-11-12\"], [\"2018-11-19\"], [\"2018-11-26\"], [\"2018-12-03\"], [\"2018-12-10\"], [\"2018-12-17\"], [\"2018-12-24\"], [\"2018-12-31\"], [\"2019-01-07\"], [\"2019-01-14\"], [\"2019-01-21\"], [\"2019-01-28\"], [\"2019-02-04\"], [\"2019-02-11\"], [\"2019-02-18\"], [\"2019-02-25\"], [\"2019-03-04\"], [\"2019-03-11\"], [\"2019-03-18\"], [\"2019-03-25\"], [\"2019-04-01\"], [\"2019-04-08\"], [\"2019-04-15\"], [\"2019-04-22\"], [\"2019-04-29\"], [\"2019-05-06\"], [\"2019-05-13\"], [\"2019-05-20\"], [\"2019-05-27\"], [\"2019-06-03\"], [\"2019-06-10\"], [\"2019-06-17\"], [\"2019-06-24\"], [\"2019-07-01\"], [\"2019-07-08\"], [\"2019-07-15\"], [\"2019-07-22\"], [\"2019-07-29\"], [\"2019-08-05\"], [\"2019-08-12\"], [\"2019-08-19\"], [\"2019-08-26\"], [\"2019-09-02\"], [\"2019-09-09\"], [\"2019-09-16\"], [\"2019-09-23\"], [\"2019-09-30\"], [\"2019-10-07\"], [\"2019-10-14\"], [\"2019-10-21\"], [\"2019-10-28\"], [\"2019-11-04\"], [\"2019-11-11\"], [\"2019-11-18\"], [\"2019-11-25\"], [\"2019-12-02\"], [\"2019-12-09\"], [\"2019-12-16\"], [\"2019-12-23\"], [\"2019-12-30\"]], \"hovertemplate\": \"variable=FB<br>date=%{customdata[0]|%B %d, %Y}<br>value=%{y}<extra></extra>\", \"legendgroup\": \"FB\", \"line\": {\"color\": \"#ab63fa\", \"dash\": \"solid\"}, \"mode\": \"lines\", \"name\": \"FB\", \"orientation\": \"v\", \"showlegend\": true, \"type\": \"scatter\", \"x\": [\"2018-01-01\", \"2018-01-08\", \"2018-01-15\", \"2018-01-22\", \"2018-01-29\", \"2018-02-05\", \"2018-02-12\", \"2018-02-19\", \"2018-02-26\", \"2018-03-05\", \"2018-03-12\", \"2018-03-19\", \"2018-03-26\", \"2018-04-02\", \"2018-04-09\", \"2018-04-16\", \"2018-04-23\", \"2018-04-30\", \"2018-05-07\", \"2018-05-14\", \"2018-05-21\", \"2018-05-28\", \"2018-06-04\", \"2018-06-11\", \"2018-06-18\", \"2018-06-25\", \"2018-07-02\", \"2018-07-09\", \"2018-07-16\", \"2018-07-23\", \"2018-07-30\", \"2018-08-06\", \"2018-08-13\", \"2018-08-20\", \"2018-08-27\", \"2018-09-03\", \"2018-09-10\", \"2018-09-17\", \"2018-09-24\", \"2018-10-01\", \"2018-10-08\", \"2018-10-15\", \"2018-10-22\", \"2018-10-29\", \"2018-11-05\", \"2018-11-12\", \"2018-11-19\", \"2018-11-26\", \"2018-12-03\", \"2018-12-10\", \"2018-12-17\", \"2018-12-24\", \"2018-12-31\", \"2019-01-07\", \"2019-01-14\", \"2019-01-21\", \"2019-01-28\", \"2019-02-04\", \"2019-02-11\", \"2019-02-18\", \"2019-02-25\", \"2019-03-04\", \"2019-03-11\", \"2019-03-18\", \"2019-03-25\", \"2019-04-01\", \"2019-04-08\", \"2019-04-15\", \"2019-04-22\", \"2019-04-29\", \"2019-05-06\", \"2019-05-13\", \"2019-05-20\", \"2019-05-27\", \"2019-06-03\", \"2019-06-10\", \"2019-06-17\", \"2019-06-24\", \"2019-07-01\", \"2019-07-08\", \"2019-07-15\", \"2019-07-22\", \"2019-07-29\", \"2019-08-05\", \"2019-08-12\", \"2019-08-19\", \"2019-08-26\", \"2019-09-02\", \"2019-09-09\", \"2019-09-16\", \"2019-09-23\", \"2019-09-30\", \"2019-10-07\", \"2019-10-14\", \"2019-10-21\", \"2019-10-28\", \"2019-11-04\", \"2019-11-11\", \"2019-11-18\", \"2019-11-25\", \"2019-12-02\", \"2019-12-09\", \"2019-12-16\", \"2019-12-23\", \"2019-12-30\"], \"xaxis\": \"x\", \"y\": [1.0, 0.9599678310954936, 0.9702434422185674, 1.0168584099483515, 1.0183569327795472, 0.9425207136466456, 0.949210571606832, 0.9809472149548658, 0.9452501435830832, 0.9913298905647344, 0.9905806264731936, 0.8530371628674177, 0.8551778853033591, 0.8413165210173983, 0.8804923666954552, 0.8899116599439659, 0.9290339332394776, 0.9451966568307202, 1.0007492587396545, 0.9776825642702948, 0.9896708164943808, 1.0382124633166991, 1.0120417443283358, 1.048166977313343, 1.0796895826698554, 1.039978596521961, 1.0876638451914205, 1.109553119307901, 1.12357503483302, 0.9359914015737306, 0.951458353177682, 0.9647310099631464, 0.9301578668399936, 0.934706922085943, 0.9404869700673171, 0.8725715159998442, 0.8687182327411859, 0.8719828084993478, 0.8801712695690254, 0.8420122930046896, 0.8227990369986931, 0.8244581110690464, 0.7780036945784202, 0.8046561475625534, 0.7758094853901156, 0.7467486995959743, 0.7050039698687512, 0.7525287475773482, 0.735456214007293, 0.7709927394918039, 0.6687181856445861, 0.7128712481818171, 0.7382927084305257, 0.7696012757955171, 0.8029969932139043, 0.7974845609584834, 0.8868611275292119, 0.8955311566861818, 0.8696815348242483, 0.8664168787877908, 0.8685041144713691, 0.9076799601494259, 0.8883060779778621, 0.8795289843340972, 0.8921059494105662, 0.9404334779630672, 0.9585228806468435, 0.9541342963617566, 1.024832747396326, 1.0461332337340143, 1.0079742571696786, 0.9917045600737096, 0.9690125351133252, 0.9497992791073284, 0.9277495340299856, 0.9704575658402708, 1.0229595550561554, 1.0329140690527994, 1.0511104505931883, 1.0964409334832987, 1.0616001853379655, 1.0690393020378066, 1.011613582715111, 1.0053518863681492, 0.9831415097733526, 0.951297801938524, 0.993684731270493, 1.003425201923729, 1.0018196199576253, 1.0164837404393767, 0.9478191079105452, 0.9657478790768677, 0.9857639608531776, 0.9946481136318508, 1.0055659243596704, 1.03623221184162, 1.0213539730900516, 1.044153062537231, 1.0640620851786324, 1.0791543619217223, 1.07599677037206, 1.0388546682733315, 1.1040941738048429, 1.113727585323171, 1.0984746770626277], \"yaxis\": \"y\"}, {\"customdata\": [[\"2018-01-01\"], [\"2018-01-08\"], [\"2018-01-15\"], [\"2018-01-22\"], [\"2018-01-29\"], [\"2018-02-05\"], [\"2018-02-12\"], [\"2018-02-19\"], [\"2018-02-26\"], [\"2018-03-05\"], [\"2018-03-12\"], [\"2018-03-19\"], [\"2018-03-26\"], [\"2018-04-02\"], [\"2018-04-09\"], [\"2018-04-16\"], [\"2018-04-23\"], [\"2018-04-30\"], [\"2018-05-07\"], [\"2018-05-14\"], [\"2018-05-21\"], [\"2018-05-28\"], [\"2018-06-04\"], [\"2018-06-11\"], [\"2018-06-18\"], [\"2018-06-25\"], [\"2018-07-02\"], [\"2018-07-09\"], [\"2018-07-16\"], [\"2018-07-23\"], [\"2018-07-30\"], [\"2018-08-06\"], [\"2018-08-13\"], [\"2018-08-20\"], [\"2018-08-27\"], [\"2018-09-03\"], [\"2018-09-10\"], [\"2018-09-17\"], [\"2018-09-24\"], [\"2018-10-01\"], [\"2018-10-08\"], [\"2018-10-15\"], [\"2018-10-22\"], [\"2018-10-29\"], [\"2018-11-05\"], [\"2018-11-12\"], [\"2018-11-19\"], [\"2018-11-26\"], [\"2018-12-03\"], [\"2018-12-10\"], [\"2018-12-17\"], [\"2018-12-24\"], [\"2018-12-31\"], [\"2019-01-07\"], [\"2019-01-14\"], [\"2019-01-21\"], [\"2019-01-28\"], [\"2019-02-04\"], [\"2019-02-11\"], [\"2019-02-18\"], [\"2019-02-25\"], [\"2019-03-04\"], [\"2019-03-11\"], [\"2019-03-18\"], [\"2019-03-25\"], [\"2019-04-01\"], [\"2019-04-08\"], [\"2019-04-15\"], [\"2019-04-22\"], [\"2019-04-29\"], [\"2019-05-06\"], [\"2019-05-13\"], [\"2019-05-20\"], [\"2019-05-27\"], [\"2019-06-03\"], [\"2019-06-10\"], [\"2019-06-17\"], [\"2019-06-24\"], [\"2019-07-01\"], [\"2019-07-08\"], [\"2019-07-15\"], [\"2019-07-22\"], [\"2019-07-29\"], [\"2019-08-05\"], [\"2019-08-12\"], [\"2019-08-19\"], [\"2019-08-26\"], [\"2019-09-02\"], [\"2019-09-09\"], [\"2019-09-16\"], [\"2019-09-23\"], [\"2019-09-30\"], [\"2019-10-07\"], [\"2019-10-14\"], [\"2019-10-21\"], [\"2019-10-28\"], [\"2019-11-04\"], [\"2019-11-11\"], [\"2019-11-18\"], [\"2019-11-25\"], [\"2019-12-02\"], [\"2019-12-09\"], [\"2019-12-16\"], [\"2019-12-23\"], [\"2019-12-30\"]], \"hovertemplate\": \"variable=NFLX<br>date=%{customdata[0]|%B %d, %Y}<br>value=%{y}<extra></extra>\", \"legendgroup\": \"NFLX\", \"line\": {\"color\": \"#FFA15A\", \"dash\": \"solid\"}, \"mode\": \"lines\", \"name\": \"NFLX\", \"orientation\": \"v\", \"showlegend\": true, \"type\": \"scatter\", \"x\": [\"2018-01-01\", \"2018-01-08\", \"2018-01-15\", \"2018-01-22\", \"2018-01-29\", \"2018-02-05\", \"2018-02-12\", \"2018-02-19\", \"2018-02-26\", \"2018-03-05\", \"2018-03-12\", \"2018-03-19\", \"2018-03-26\", \"2018-04-02\", \"2018-04-09\", \"2018-04-16\", \"2018-04-23\", \"2018-04-30\", \"2018-05-07\", \"2018-05-14\", \"2018-05-21\", \"2018-05-28\", \"2018-06-04\", \"2018-06-11\", \"2018-06-18\", \"2018-06-25\", \"2018-07-02\", \"2018-07-09\", \"2018-07-16\", \"2018-07-23\", \"2018-07-30\", \"2018-08-06\", \"2018-08-13\", \"2018-08-20\", \"2018-08-27\", \"2018-09-03\", \"2018-09-10\", \"2018-09-17\", \"2018-09-24\", \"2018-10-01\", \"2018-10-08\", \"2018-10-15\", \"2018-10-22\", \"2018-10-29\", \"2018-11-05\", \"2018-11-12\", \"2018-11-19\", \"2018-11-26\", \"2018-12-03\", \"2018-12-10\", \"2018-12-17\", \"2018-12-24\", \"2018-12-31\", \"2019-01-07\", \"2019-01-14\", \"2019-01-21\", \"2019-01-28\", \"2019-02-04\", \"2019-02-11\", \"2019-02-18\", \"2019-02-25\", \"2019-03-04\", \"2019-03-11\", \"2019-03-18\", \"2019-03-25\", \"2019-04-01\", \"2019-04-08\", \"2019-04-15\", \"2019-04-22\", \"2019-04-29\", \"2019-05-06\", \"2019-05-13\", \"2019-05-20\", \"2019-05-27\", \"2019-06-03\", \"2019-06-10\", \"2019-06-17\", \"2019-06-24\", \"2019-07-01\", \"2019-07-08\", \"2019-07-15\", \"2019-07-22\", \"2019-07-29\", \"2019-08-05\", \"2019-08-12\", \"2019-08-19\", \"2019-08-26\", \"2019-09-02\", \"2019-09-09\", \"2019-09-16\", \"2019-09-23\", \"2019-09-30\", \"2019-10-07\", \"2019-10-14\", \"2019-10-21\", \"2019-10-28\", \"2019-11-04\", \"2019-11-11\", \"2019-11-18\", \"2019-11-25\", \"2019-12-02\", \"2019-12-09\", \"2019-12-16\", \"2019-12-23\", \"2019-12-30\"], \"xaxis\": \"x\", \"y\": [1.0, 1.0535263142643383, 1.0498595254569378, 1.3076813155940448, 1.273536771428717, 1.188008929282134, 1.3263487897912096, 1.3616362026373592, 1.4336396058469547, 1.5783608462698024, 1.5165008067883996, 1.4331158380609592, 1.4064955424902252, 1.3755416882817828, 1.484118227436587, 1.5608837620628662, 1.484642138086525, 1.5243106261176576, 1.5546453794312736, 1.5437877293254985, 1.6728891882258874, 1.7140339274719294, 1.7170817582484463, 1.866660325094997, 1.9576645850358447, 1.864041067097456, 1.94414015086099, 1.8848515575777052, 1.7193674908479577, 1.691556657660921, 1.633839648701375, 1.647078369277624, 1.50854798541483, 1.7087480282692504, 1.7509404459512254, 1.660459949034241, 1.7360826197418304, 1.720034255916133, 1.7816562507344105, 1.6731749018244944, 1.617029334324746, 1.5842183202957685, 1.4278298007564696, 1.4719748494696214, 1.4451640257830367, 1.3629695899097676, 1.2325348866009125, 1.3625886860662726, 1.262631595251403, 1.2707271281792676, 1.1733415549944868, 1.2194865512765718, 1.4170674789973934, 1.6076479259096166, 1.6148387919701228, 1.6098384682642397, 1.6184103905326357, 1.6551740498315624, 1.699461814861141, 1.7287488945009553, 1.7016048311442251, 1.6648411718452985, 1.7213199790151918, 1.7191771103581814, 1.6979855684083631, 1.7405113638622944, 1.6721748970861734, 1.716034084574645, 1.7850849901165535, 1.8335634546034707, 1.7193199695385504, 1.6879375377890014, 1.6876518241903944, 1.6347444679569396, 1.7185103405278743, 1.6178389585732904, 1.758226497494488, 1.7492261453110591, 1.8122290534732837, 1.7774655512770718, 1.5005476379697218, 1.5990284823318142, 1.518310297673454, 1.471165225221077, 1.4419733358261506, 1.3878755896024673, 1.398876103650743, 1.381827735086725, 1.400780927644628, 1.2893470810670251, 1.2528214711933554, 1.299061872016242, 1.347349808387309, 1.3110147218673576, 1.3182532521012131, 1.3658269020946976, 1.3884946904972928, 1.4049716271019663, 1.4785466146353017, 1.4984522906221185, 1.4636411194904255, 1.4214962278799892, 1.6043620457078422, 1.567169808867808, 1.5408828958311611], \"yaxis\": \"y\"}, {\"customdata\": [[\"2018-01-01\"], [\"2018-01-08\"], [\"2018-01-15\"], [\"2018-01-22\"], [\"2018-01-29\"], [\"2018-02-05\"], [\"2018-02-12\"], [\"2018-02-19\"], [\"2018-02-26\"], [\"2018-03-05\"], [\"2018-03-12\"], [\"2018-03-19\"], [\"2018-03-26\"], [\"2018-04-02\"], [\"2018-04-09\"], [\"2018-04-16\"], [\"2018-04-23\"], [\"2018-04-30\"], [\"2018-05-07\"], [\"2018-05-14\"], [\"2018-05-21\"], [\"2018-05-28\"], [\"2018-06-04\"], [\"2018-06-11\"], [\"2018-06-18\"], [\"2018-06-25\"], [\"2018-07-02\"], [\"2018-07-09\"], [\"2018-07-16\"], [\"2018-07-23\"], [\"2018-07-30\"], [\"2018-08-06\"], [\"2018-08-13\"], [\"2018-08-20\"], [\"2018-08-27\"], [\"2018-09-03\"], [\"2018-09-10\"], [\"2018-09-17\"], [\"2018-09-24\"], [\"2018-10-01\"], [\"2018-10-08\"], [\"2018-10-15\"], [\"2018-10-22\"], [\"2018-10-29\"], [\"2018-11-05\"], [\"2018-11-12\"], [\"2018-11-19\"], [\"2018-11-26\"], [\"2018-12-03\"], [\"2018-12-10\"], [\"2018-12-17\"], [\"2018-12-24\"], [\"2018-12-31\"], [\"2019-01-07\"], [\"2019-01-14\"], [\"2019-01-21\"], [\"2019-01-28\"], [\"2019-02-04\"], [\"2019-02-11\"], [\"2019-02-18\"], [\"2019-02-25\"], [\"2019-03-04\"], [\"2019-03-11\"], [\"2019-03-18\"], [\"2019-03-25\"], [\"2019-04-01\"], [\"2019-04-08\"], [\"2019-04-15\"], [\"2019-04-22\"], [\"2019-04-29\"], [\"2019-05-06\"], [\"2019-05-13\"], [\"2019-05-20\"], [\"2019-05-27\"], [\"2019-06-03\"], [\"2019-06-10\"], [\"2019-06-17\"], [\"2019-06-24\"], [\"2019-07-01\"], [\"2019-07-08\"], [\"2019-07-15\"], [\"2019-07-22\"], [\"2019-07-29\"], [\"2019-08-05\"], [\"2019-08-12\"], [\"2019-08-19\"], [\"2019-08-26\"], [\"2019-09-02\"], [\"2019-09-09\"], [\"2019-09-16\"], [\"2019-09-23\"], [\"2019-09-30\"], [\"2019-10-07\"], [\"2019-10-14\"], [\"2019-10-21\"], [\"2019-10-28\"], [\"2019-11-04\"], [\"2019-11-11\"], [\"2019-11-18\"], [\"2019-11-25\"], [\"2019-12-02\"], [\"2019-12-09\"], [\"2019-12-16\"], [\"2019-12-23\"], [\"2019-12-30\"]], \"hovertemplate\": \"variable=MSFT<br>date=%{customdata[0]|%B %d, %Y}<br>value=%{y}<extra></extra>\", \"legendgroup\": \"MSFT\", \"line\": {\"color\": \"#19d3f3\", \"dash\": \"solid\"}, \"mode\": \"lines\", \"name\": \"MSFT\", \"orientation\": \"v\", \"showlegend\": true, \"type\": \"scatter\", \"x\": [\"2018-01-01\", \"2018-01-08\", \"2018-01-15\", \"2018-01-22\", \"2018-01-29\", \"2018-02-05\", \"2018-02-12\", \"2018-02-19\", \"2018-02-26\", \"2018-03-05\", \"2018-03-12\", \"2018-03-19\", \"2018-03-26\", \"2018-04-02\", \"2018-04-09\", \"2018-04-16\", \"2018-04-23\", \"2018-04-30\", \"2018-05-07\", \"2018-05-14\", \"2018-05-21\", \"2018-05-28\", \"2018-06-04\", \"2018-06-11\", \"2018-06-18\", \"2018-06-25\", \"2018-07-02\", \"2018-07-09\", \"2018-07-16\", \"2018-07-23\", \"2018-07-30\", \"2018-08-06\", \"2018-08-13\", \"2018-08-20\", \"2018-08-27\", \"2018-09-03\", \"2018-09-10\", \"2018-09-17\", \"2018-09-24\", \"2018-10-01\", \"2018-10-08\", \"2018-10-15\", \"2018-10-22\", \"2018-10-29\", \"2018-11-05\", \"2018-11-12\", \"2018-11-19\", \"2018-11-26\", \"2018-12-03\", \"2018-12-10\", \"2018-12-17\", \"2018-12-24\", \"2018-12-31\", \"2019-01-07\", \"2019-01-14\", \"2019-01-21\", \"2019-01-28\", \"2019-02-04\", \"2019-02-11\", \"2019-02-18\", \"2019-02-25\", \"2019-03-04\", \"2019-03-11\", \"2019-03-18\", \"2019-03-25\", \"2019-04-01\", \"2019-04-08\", \"2019-04-15\", \"2019-04-22\", \"2019-04-29\", \"2019-05-06\", \"2019-05-13\", \"2019-05-20\", \"2019-05-27\", \"2019-06-03\", \"2019-06-10\", \"2019-06-17\", \"2019-06-24\", \"2019-07-01\", \"2019-07-08\", \"2019-07-15\", \"2019-07-22\", \"2019-07-29\", \"2019-08-05\", \"2019-08-12\", \"2019-08-19\", \"2019-08-26\", \"2019-09-02\", \"2019-09-09\", \"2019-09-16\", \"2019-09-23\", \"2019-09-30\", \"2019-10-07\", \"2019-10-14\", \"2019-10-21\", \"2019-10-28\", \"2019-11-04\", \"2019-11-11\", \"2019-11-18\", \"2019-11-25\", \"2019-12-02\", \"2019-12-09\", \"2019-12-16\", \"2019-12-23\", \"2019-12-30\"], \"xaxis\": \"x\", \"y\": [1.0, 1.015988161560536, 1.0205238457756245, 1.0665607876956391, 1.0407075282751441, 0.9998865857832728, 1.043202153459527, 1.0665607876956391, 1.0551082990110374, 1.0946819232411402, 1.0726839307702931, 0.9885474319413214, 1.034924537137441, 1.0231318851767346, 1.0554484622871425, 1.0772196149853812, 1.0865177211357813, 1.0790339249567087, 1.1078352963411884, 1.0926408755495889, 1.1153191832334917, 1.1428733270694336, 1.1523981709400573, 1.1353894401771305, 1.1385644826269534, 1.1181539716939797, 1.147068848008417, 1.1954869895569342, 1.2050118447667115, 1.2210000857013248, 1.225082192423581, 1.2359677687727004, 1.2198661929954373, 1.2291642991458374, 1.2737271737447062, 1.227009825898405, 1.2855199050794894, 1.2956117406596723, 1.2968590589214408, 1.2714592862805467, 1.242431086462613, 1.2321125018230523, 1.2128358835959658, 1.203764617218174, 1.242431086462613, 1.2279169808840689, 1.1687265864899288, 1.2573987581948347, 1.1885701057133435, 1.2022904705229511, 1.1138451159123457, 1.1383376428543452, 1.1557999511101045, 1.1656650489700635, 1.2213402489774292, 1.2152170945636216, 1.1654382205366092, 1.1982083638006946, 1.2271232401151322, 1.2583059131804986, 1.275994970495635, 1.2530899137523548, 1.3143213671771998, 1.3272479912178707, 1.3373398267980536, 1.3594511427723972, 1.371470623166558, 1.398911443499003, 1.4728426811919109, 1.4616168621926098, 1.4415465939098175, 1.45220551191279, 1.4314547583296346, 1.4024265471725468, 1.489964746797488, 1.5018708923489987, 1.5531239130712344, 1.518993128041884, 1.5541444028995486, 1.5750084006121237, 1.5491551411916282, 1.6026759586647925, 1.5523300929282209, 1.5615149549492018, 1.5435990692006107, 1.5125297196387406, 1.5632157599905712, 1.5772763674503605, 1.5570926849508404, 1.581131634400008, 1.5617416132953483, 1.5661638719545554, 1.583852929269692, 1.5581131747791548, 1.5957590748212025, 1.629663201504406, 1.655062974145301, 1.7005329130166025, 1.6962239778608914, 1.7165211652903694, 1.720716595516122, 1.7522394318575931, 1.7848962516181823, 1.8024719740906685, 1.7881845268582712], \"yaxis\": \"y\"}],\n",
       "                        {\"legend\": {\"title\": {\"text\": \"variable\"}, \"tracegroupgap\": 0}, \"template\": {\"data\": {\"bar\": [{\"error_x\": {\"color\": \"#2a3f5f\"}, \"error_y\": {\"color\": \"#2a3f5f\"}, \"marker\": {\"line\": {\"color\": \"#E5ECF6\", \"width\": 0.5}}, \"type\": \"bar\"}], \"barpolar\": [{\"marker\": {\"line\": {\"color\": \"#E5ECF6\", \"width\": 0.5}}, \"type\": \"barpolar\"}], \"carpet\": [{\"aaxis\": {\"endlinecolor\": \"#2a3f5f\", \"gridcolor\": \"white\", \"linecolor\": \"white\", \"minorgridcolor\": \"white\", \"startlinecolor\": \"#2a3f5f\"}, \"baxis\": {\"endlinecolor\": \"#2a3f5f\", \"gridcolor\": \"white\", \"linecolor\": \"white\", \"minorgridcolor\": \"white\", \"startlinecolor\": \"#2a3f5f\"}, \"type\": \"carpet\"}], \"choropleth\": [{\"colorbar\": {\"outlinewidth\": 0, \"ticks\": \"\"}, \"type\": \"choropleth\"}], \"contour\": [{\"colorbar\": {\"outlinewidth\": 0, \"ticks\": \"\"}, \"colorscale\": [[0.0, \"#0d0887\"], [0.1111111111111111, \"#46039f\"], [0.2222222222222222, \"#7201a8\"], [0.3333333333333333, \"#9c179e\"], [0.4444444444444444, \"#bd3786\"], [0.5555555555555556, \"#d8576b\"], [0.6666666666666666, \"#ed7953\"], [0.7777777777777778, \"#fb9f3a\"], [0.8888888888888888, \"#fdca26\"], [1.0, \"#f0f921\"]], \"type\": \"contour\"}], \"contourcarpet\": [{\"colorbar\": {\"outlinewidth\": 0, \"ticks\": \"\"}, \"type\": \"contourcarpet\"}], \"heatmap\": [{\"colorbar\": {\"outlinewidth\": 0, \"ticks\": \"\"}, \"colorscale\": [[0.0, \"#0d0887\"], [0.1111111111111111, \"#46039f\"], [0.2222222222222222, \"#7201a8\"], [0.3333333333333333, \"#9c179e\"], [0.4444444444444444, \"#bd3786\"], [0.5555555555555556, \"#d8576b\"], [0.6666666666666666, \"#ed7953\"], [0.7777777777777778, \"#fb9f3a\"], [0.8888888888888888, \"#fdca26\"], [1.0, \"#f0f921\"]], \"type\": \"heatmap\"}], \"heatmapgl\": [{\"colorbar\": {\"outlinewidth\": 0, \"ticks\": \"\"}, \"colorscale\": [[0.0, \"#0d0887\"], [0.1111111111111111, \"#46039f\"], [0.2222222222222222, \"#7201a8\"], [0.3333333333333333, \"#9c179e\"], [0.4444444444444444, \"#bd3786\"], [0.5555555555555556, \"#d8576b\"], [0.6666666666666666, \"#ed7953\"], [0.7777777777777778, \"#fb9f3a\"], [0.8888888888888888, \"#fdca26\"], [1.0, \"#f0f921\"]], \"type\": \"heatmapgl\"}], \"histogram\": [{\"marker\": {\"colorbar\": {\"outlinewidth\": 0, \"ticks\": \"\"}}, \"type\": \"histogram\"}], \"histogram2d\": [{\"colorbar\": {\"outlinewidth\": 0, \"ticks\": \"\"}, \"colorscale\": [[0.0, \"#0d0887\"], [0.1111111111111111, \"#46039f\"], [0.2222222222222222, \"#7201a8\"], [0.3333333333333333, \"#9c179e\"], [0.4444444444444444, \"#bd3786\"], [0.5555555555555556, \"#d8576b\"], [0.6666666666666666, \"#ed7953\"], [0.7777777777777778, \"#fb9f3a\"], [0.8888888888888888, \"#fdca26\"], [1.0, \"#f0f921\"]], \"type\": \"histogram2d\"}], \"histogram2dcontour\": [{\"colorbar\": {\"outlinewidth\": 0, \"ticks\": \"\"}, \"colorscale\": [[0.0, \"#0d0887\"], [0.1111111111111111, \"#46039f\"], [0.2222222222222222, \"#7201a8\"], [0.3333333333333333, \"#9c179e\"], [0.4444444444444444, \"#bd3786\"], [0.5555555555555556, \"#d8576b\"], [0.6666666666666666, \"#ed7953\"], [0.7777777777777778, \"#fb9f3a\"], [0.8888888888888888, \"#fdca26\"], [1.0, \"#f0f921\"]], \"type\": \"histogram2dcontour\"}], \"mesh3d\": [{\"colorbar\": {\"outlinewidth\": 0, \"ticks\": \"\"}, \"type\": \"mesh3d\"}], \"parcoords\": [{\"line\": {\"colorbar\": {\"outlinewidth\": 0, \"ticks\": \"\"}}, \"type\": \"parcoords\"}], \"pie\": [{\"automargin\": true, \"type\": \"pie\"}], \"scatter\": [{\"marker\": {\"colorbar\": {\"outlinewidth\": 0, \"ticks\": \"\"}}, \"type\": \"scatter\"}], \"scatter3d\": [{\"line\": {\"colorbar\": {\"outlinewidth\": 0, \"ticks\": \"\"}}, \"marker\": {\"colorbar\": {\"outlinewidth\": 0, \"ticks\": \"\"}}, \"type\": \"scatter3d\"}], \"scattercarpet\": [{\"marker\": {\"colorbar\": {\"outlinewidth\": 0, \"ticks\": \"\"}}, \"type\": \"scattercarpet\"}], \"scattergeo\": [{\"marker\": {\"colorbar\": {\"outlinewidth\": 0, \"ticks\": \"\"}}, \"type\": \"scattergeo\"}], \"scattergl\": [{\"marker\": {\"colorbar\": {\"outlinewidth\": 0, \"ticks\": \"\"}}, \"type\": \"scattergl\"}], \"scattermapbox\": [{\"marker\": {\"colorbar\": {\"outlinewidth\": 0, \"ticks\": \"\"}}, \"type\": \"scattermapbox\"}], \"scatterpolar\": [{\"marker\": {\"colorbar\": {\"outlinewidth\": 0, \"ticks\": \"\"}}, \"type\": \"scatterpolar\"}], \"scatterpolargl\": [{\"marker\": {\"colorbar\": {\"outlinewidth\": 0, \"ticks\": \"\"}}, \"type\": \"scatterpolargl\"}], \"scatterternary\": [{\"marker\": {\"colorbar\": {\"outlinewidth\": 0, \"ticks\": \"\"}}, \"type\": \"scatterternary\"}], \"surface\": [{\"colorbar\": {\"outlinewidth\": 0, \"ticks\": \"\"}, \"colorscale\": [[0.0, \"#0d0887\"], [0.1111111111111111, \"#46039f\"], [0.2222222222222222, \"#7201a8\"], [0.3333333333333333, \"#9c179e\"], [0.4444444444444444, \"#bd3786\"], [0.5555555555555556, \"#d8576b\"], [0.6666666666666666, \"#ed7953\"], [0.7777777777777778, \"#fb9f3a\"], [0.8888888888888888, \"#fdca26\"], [1.0, \"#f0f921\"]], \"type\": \"surface\"}], \"table\": [{\"cells\": {\"fill\": {\"color\": \"#EBF0F8\"}, \"line\": {\"color\": \"white\"}}, \"header\": {\"fill\": {\"color\": \"#C8D4E3\"}, \"line\": {\"color\": \"white\"}}, \"type\": \"table\"}]}, \"layout\": {\"annotationdefaults\": {\"arrowcolor\": \"#2a3f5f\", \"arrowhead\": 0, \"arrowwidth\": 1}, \"coloraxis\": {\"colorbar\": {\"outlinewidth\": 0, \"ticks\": \"\"}}, \"colorscale\": {\"diverging\": [[0, \"#8e0152\"], [0.1, \"#c51b7d\"], [0.2, \"#de77ae\"], [0.3, \"#f1b6da\"], [0.4, \"#fde0ef\"], [0.5, \"#f7f7f7\"], [0.6, \"#e6f5d0\"], [0.7, \"#b8e186\"], [0.8, \"#7fbc41\"], [0.9, \"#4d9221\"], [1, \"#276419\"]], \"sequential\": [[0.0, \"#0d0887\"], [0.1111111111111111, \"#46039f\"], [0.2222222222222222, \"#7201a8\"], [0.3333333333333333, \"#9c179e\"], [0.4444444444444444, \"#bd3786\"], [0.5555555555555556, \"#d8576b\"], [0.6666666666666666, \"#ed7953\"], [0.7777777777777778, \"#fb9f3a\"], [0.8888888888888888, \"#fdca26\"], [1.0, \"#f0f921\"]], \"sequentialminus\": [[0.0, \"#0d0887\"], [0.1111111111111111, \"#46039f\"], [0.2222222222222222, \"#7201a8\"], [0.3333333333333333, \"#9c179e\"], [0.4444444444444444, \"#bd3786\"], [0.5555555555555556, \"#d8576b\"], [0.6666666666666666, \"#ed7953\"], [0.7777777777777778, \"#fb9f3a\"], [0.8888888888888888, \"#fdca26\"], [1.0, \"#f0f921\"]]}, \"colorway\": [\"#636efa\", \"#EF553B\", \"#00cc96\", \"#ab63fa\", \"#FFA15A\", \"#19d3f3\", \"#FF6692\", \"#B6E880\", \"#FF97FF\", \"#FECB52\"], \"font\": {\"color\": \"#2a3f5f\"}, \"geo\": {\"bgcolor\": \"white\", \"lakecolor\": \"white\", \"landcolor\": \"#E5ECF6\", \"showlakes\": true, \"showland\": true, \"subunitcolor\": \"white\"}, \"hoverlabel\": {\"align\": \"left\"}, \"hovermode\": \"closest\", \"mapbox\": {\"style\": \"light\"}, \"paper_bgcolor\": \"white\", \"plot_bgcolor\": \"#E5ECF6\", \"polar\": {\"angularaxis\": {\"gridcolor\": \"white\", \"linecolor\": \"white\", \"ticks\": \"\"}, \"bgcolor\": \"#E5ECF6\", \"radialaxis\": {\"gridcolor\": \"white\", \"linecolor\": \"white\", \"ticks\": \"\"}}, \"scene\": {\"xaxis\": {\"backgroundcolor\": \"#E5ECF6\", \"gridcolor\": \"white\", \"gridwidth\": 2, \"linecolor\": \"white\", \"showbackground\": true, \"ticks\": \"\", \"zerolinecolor\": \"white\"}, \"yaxis\": {\"backgroundcolor\": \"#E5ECF6\", \"gridcolor\": \"white\", \"gridwidth\": 2, \"linecolor\": \"white\", \"showbackground\": true, \"ticks\": \"\", \"zerolinecolor\": \"white\"}, \"zaxis\": {\"backgroundcolor\": \"#E5ECF6\", \"gridcolor\": \"white\", \"gridwidth\": 2, \"linecolor\": \"white\", \"showbackground\": true, \"ticks\": \"\", \"zerolinecolor\": \"white\"}}, \"shapedefaults\": {\"line\": {\"color\": \"#2a3f5f\"}}, \"ternary\": {\"aaxis\": {\"gridcolor\": \"white\", \"linecolor\": \"white\", \"ticks\": \"\"}, \"baxis\": {\"gridcolor\": \"white\", \"linecolor\": \"white\", \"ticks\": \"\"}, \"bgcolor\": \"#E5ECF6\", \"caxis\": {\"gridcolor\": \"white\", \"linecolor\": \"white\", \"ticks\": \"\"}}, \"title\": {\"x\": 0.05}, \"xaxis\": {\"automargin\": true, \"gridcolor\": \"white\", \"linecolor\": \"white\", \"ticks\": \"\", \"title\": {\"standoff\": 15}, \"zerolinecolor\": \"white\", \"zerolinewidth\": 2}, \"yaxis\": {\"automargin\": true, \"gridcolor\": \"white\", \"linecolor\": \"white\", \"ticks\": \"\", \"title\": {\"standoff\": 15}, \"zerolinecolor\": \"white\", \"zerolinewidth\": 2}}}, \"title\": {\"text\": \"custom tick labels\"}, \"xaxis\": {\"anchor\": \"y\", \"domain\": [0.0, 1.0], \"dtick\": \"M1\", \"tickformat\": \"%b\\n%Y\", \"title\": {\"text\": \"date\"}}, \"yaxis\": {\"anchor\": \"x\", \"domain\": [0.0, 1.0], \"title\": {\"text\": \"value\"}}},\n",
       "                        {\"responsive\": true}\n",
       "                    ).then(function(){\n",
       "                            \n",
       "var gd = document.getElementById('3f7533db-5acf-40da-95db-3640605fb5dd');\n",
       "var x = new MutationObserver(function (mutations, observer) {{\n",
       "        var display = window.getComputedStyle(gd).display;\n",
       "        if (!display || display === 'none') {{\n",
       "            console.log([gd, 'removed!']);\n",
       "            Plotly.purge(gd);\n",
       "            observer.disconnect();\n",
       "        }}\n",
       "}});\n",
       "\n",
       "// Listen for the removal of the full notebook cells\n",
       "var notebookContainer = gd.closest('#notebook-container');\n",
       "if (notebookContainer) {{\n",
       "    x.observe(notebookContainer, {childList: true});\n",
       "}}\n",
       "\n",
       "// Listen for the clearing of the current output cell\n",
       "var outputEl = gd.closest('.output');\n",
       "if (outputEl) {{\n",
       "    x.observe(outputEl, {childList: true});\n",
       "}}\n",
       "\n",
       "                        })\n",
       "                };\n",
       "                });\n",
       "            </script>\n",
       "        </div>"
      ]
     },
     "metadata": {},
     "output_type": "display_data"
    },
    {
     "data": {
      "text/html": [
       "<div>\n",
       "<style scoped>\n",
       "    .dataframe tbody tr th:only-of-type {\n",
       "        vertical-align: middle;\n",
       "    }\n",
       "\n",
       "    .dataframe tbody tr th {\n",
       "        vertical-align: top;\n",
       "    }\n",
       "\n",
       "    .dataframe thead th {\n",
       "        text-align: right;\n",
       "    }\n",
       "</style>\n",
       "<table border=\"1\" class=\"dataframe\">\n",
       "  <thead>\n",
       "    <tr style=\"text-align: right;\">\n",
       "      <th></th>\n",
       "      <th>date</th>\n",
       "      <th>GOOG</th>\n",
       "      <th>AAPL</th>\n",
       "      <th>AMZN</th>\n",
       "      <th>FB</th>\n",
       "      <th>NFLX</th>\n",
       "      <th>MSFT</th>\n",
       "    </tr>\n",
       "  </thead>\n",
       "  <tbody>\n",
       "    <tr>\n",
       "      <th>0</th>\n",
       "      <td>2018-01-01</td>\n",
       "      <td>1.000000</td>\n",
       "      <td>1.000000</td>\n",
       "      <td>1.000000</td>\n",
       "      <td>1.000000</td>\n",
       "      <td>1.000000</td>\n",
       "      <td>1.000000</td>\n",
       "    </tr>\n",
       "    <tr>\n",
       "      <th>1</th>\n",
       "      <td>2018-01-08</td>\n",
       "      <td>1.018172</td>\n",
       "      <td>1.011943</td>\n",
       "      <td>1.061881</td>\n",
       "      <td>0.959968</td>\n",
       "      <td>1.053526</td>\n",
       "      <td>1.015988</td>\n",
       "    </tr>\n",
       "    <tr>\n",
       "      <th>2</th>\n",
       "      <td>2018-01-15</td>\n",
       "      <td>1.032008</td>\n",
       "      <td>1.019771</td>\n",
       "      <td>1.053240</td>\n",
       "      <td>0.970243</td>\n",
       "      <td>1.049860</td>\n",
       "      <td>1.020524</td>\n",
       "    </tr>\n",
       "    <tr>\n",
       "      <th>3</th>\n",
       "      <td>2018-01-22</td>\n",
       "      <td>1.066783</td>\n",
       "      <td>0.980057</td>\n",
       "      <td>1.140676</td>\n",
       "      <td>1.016858</td>\n",
       "      <td>1.307681</td>\n",
       "      <td>1.066561</td>\n",
       "    </tr>\n",
       "    <tr>\n",
       "      <th>4</th>\n",
       "      <td>2018-01-29</td>\n",
       "      <td>1.008773</td>\n",
       "      <td>0.917143</td>\n",
       "      <td>1.163374</td>\n",
       "      <td>1.018357</td>\n",
       "      <td>1.273537</td>\n",
       "      <td>1.040708</td>\n",
       "    </tr>\n",
       "    <tr>\n",
       "      <th>...</th>\n",
       "      <td>...</td>\n",
       "      <td>...</td>\n",
       "      <td>...</td>\n",
       "      <td>...</td>\n",
       "      <td>...</td>\n",
       "      <td>...</td>\n",
       "      <td>...</td>\n",
       "    </tr>\n",
       "    <tr>\n",
       "      <th>100</th>\n",
       "      <td>2019-12-02</td>\n",
       "      <td>1.216280</td>\n",
       "      <td>1.546914</td>\n",
       "      <td>1.425061</td>\n",
       "      <td>1.075997</td>\n",
       "      <td>1.463641</td>\n",
       "      <td>1.720717</td>\n",
       "    </tr>\n",
       "    <tr>\n",
       "      <th>101</th>\n",
       "      <td>2019-12-09</td>\n",
       "      <td>1.222821</td>\n",
       "      <td>1.572286</td>\n",
       "      <td>1.432660</td>\n",
       "      <td>1.038855</td>\n",
       "      <td>1.421496</td>\n",
       "      <td>1.752239</td>\n",
       "    </tr>\n",
       "    <tr>\n",
       "      <th>102</th>\n",
       "      <td>2019-12-16</td>\n",
       "      <td>1.224418</td>\n",
       "      <td>1.596800</td>\n",
       "      <td>1.453455</td>\n",
       "      <td>1.104094</td>\n",
       "      <td>1.604362</td>\n",
       "      <td>1.784896</td>\n",
       "    </tr>\n",
       "    <tr>\n",
       "      <th>103</th>\n",
       "      <td>2019-12-23</td>\n",
       "      <td>1.226504</td>\n",
       "      <td>1.656000</td>\n",
       "      <td>1.521226</td>\n",
       "      <td>1.113728</td>\n",
       "      <td>1.567170</td>\n",
       "      <td>1.802472</td>\n",
       "    </tr>\n",
       "    <tr>\n",
       "      <th>104</th>\n",
       "      <td>2019-12-30</td>\n",
       "      <td>1.213014</td>\n",
       "      <td>1.678000</td>\n",
       "      <td>1.503360</td>\n",
       "      <td>1.098475</td>\n",
       "      <td>1.540883</td>\n",
       "      <td>1.788185</td>\n",
       "    </tr>\n",
       "  </tbody>\n",
       "</table>\n",
       "<p>105 rows × 7 columns</p>\n",
       "</div>"
      ],
      "text/plain": [
       "           date      GOOG      AAPL      AMZN        FB      NFLX      MSFT\n",
       "0    2018-01-01  1.000000  1.000000  1.000000  1.000000  1.000000  1.000000\n",
       "1    2018-01-08  1.018172  1.011943  1.061881  0.959968  1.053526  1.015988\n",
       "2    2018-01-15  1.032008  1.019771  1.053240  0.970243  1.049860  1.020524\n",
       "3    2018-01-22  1.066783  0.980057  1.140676  1.016858  1.307681  1.066561\n",
       "4    2018-01-29  1.008773  0.917143  1.163374  1.018357  1.273537  1.040708\n",
       "..          ...       ...       ...       ...       ...       ...       ...\n",
       "100  2019-12-02  1.216280  1.546914  1.425061  1.075997  1.463641  1.720717\n",
       "101  2019-12-09  1.222821  1.572286  1.432660  1.038855  1.421496  1.752239\n",
       "102  2019-12-16  1.224418  1.596800  1.453455  1.104094  1.604362  1.784896\n",
       "103  2019-12-23  1.226504  1.656000  1.521226  1.113728  1.567170  1.802472\n",
       "104  2019-12-30  1.213014  1.678000  1.503360  1.098475  1.540883  1.788185\n",
       "\n",
       "[105 rows x 7 columns]"
      ]
     },
     "execution_count": 100,
     "metadata": {},
     "output_type": "execute_result"
    }
   ],
   "source": [
    "df = px.data.stocks()\n",
    "fig = px.line(df, x=\"date\", y=df.columns,\n",
    "              hover_data={\"date\": \"|%B %d, %Y\"},\n",
    "              title='custom tick labels')\n",
    "fig.update_xaxes(\n",
    "    dtick=\"M1\",\n",
    "    tickformat=\"%b\\n%Y\")\n",
    "fig.show()\n",
    "df"
   ]
  },
  {
   "cell_type": "code",
   "execution_count": null,
   "metadata": {},
   "outputs": [],
   "source": []
  }
 ],
 "metadata": {
  "kernelspec": {
   "display_name": "Python 3",
   "language": "python",
   "name": "python3"
  },
  "language_info": {
   "codemirror_mode": {
    "name": "ipython",
    "version": 3
   },
   "file_extension": ".py",
   "mimetype": "text/x-python",
   "name": "python",
   "nbconvert_exporter": "python",
   "pygments_lexer": "ipython3",
   "version": "3.7.6"
  },
  "toc": {
   "base_numbering": 1,
   "nav_menu": {},
   "number_sections": true,
   "sideBar": true,
   "skip_h1_title": true,
   "title_cell": "Desplegar un dashboard en aws",
   "title_sidebar": "Desplegar un dashboard en aws",
   "toc_cell": true,
   "toc_position": {},
   "toc_section_display": true,
   "toc_window_display": true
  }
 },
 "nbformat": 4,
 "nbformat_minor": 4
}
